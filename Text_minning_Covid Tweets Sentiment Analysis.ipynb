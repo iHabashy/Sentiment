{
  "cells": [
    {
      "cell_type": "markdown",
      "source": [
        "**Importing Data**"
      ],
      "metadata": {
        "id": "Qd0AnDheB6L6"
      }
    },
    {
      "cell_type": "code",
      "source": [
        "import pandas as pd\n",
        "import numpy as np\n",
        "import nltk\n",
        "from nltk.corpus import stopwords\n",
        "from nltk.sentiment.vader import SentimentIntensityAnalyzer\n",
        "from collections import Counter\n",
        "import re\n",
        "import string\n",
        "import numpy as np \n",
        "import random\n",
        "import pandas as pd \n",
        "import matplotlib.pyplot as plt\n",
        "import seaborn as sns\n",
        "%matplotlib inline\n",
        "from plotly import graph_objs as go\n",
        "import plotly.express as px\n",
        "import plotly.figure_factory as ff\n",
        "from collections import Counter\n",
        "from PIL import Image\n",
        "from wordcloud import WordCloud, STOPWORDS, ImageColorGenerator\n",
        "from tqdm import tqdm\n",
        "import os\n",
        "import nltk\n",
        "import spacy\n",
        "import random\n",
        "from spacy.util import compounding\n",
        "from spacy.util import minibatch\n",
        "import numpy as np\n",
        "import pandas as pd\n",
        "import re\n",
        "from textblob import TextBlob\n",
        "import matplotlib.pyplot as plt\n",
        "import nltk\n",
        "from nltk.tokenize import word_tokenize\n",
        "from string import punctuation \n",
        "from nltk.corpus import stopwords\n",
        "from sklearn.model_selection import train_test_split\n",
        "from sklearn import preprocessing\n",
        "from collections import Counter\n",
        "from nltk.corpus import wordnet as wn\n",
        "from nltk.stem.wordnet import WordNetLemmatizer\n",
        "import sklearn\n",
        "\n",
        "from sklearn.preprocessing import LabelEncoder\n",
        "from sklearn.model_selection import GridSearchCV\n",
        "from sklearn.ensemble import RandomForestClassifier, AdaBoostClassifier, GradientBoostingClassifier\n",
        "from sklearn.feature_extraction.text import CountVectorizer\n",
        "from sklearn.feature_extraction.text import TfidfVectorizer\n",
        "from sklearn.feature_extraction.text import HashingVectorizer\n",
        "from sklearn.linear_model import Ridge\n",
        "from sklearn.model_selection import KFold\n",
        "from sklearn import linear_model\n",
        "from sklearn.model_selection import cross_val_score\n",
        "from sklearn.naive_bayes import MultinomialNB\n",
        "from sklearn.metrics import classification_report,confusion_matrix \n",
        "from sklearn.metrics import accuracy_score\n",
        "from sklearn.tree import DecisionTreeClassifier\n",
        "from sklearn.naive_bayes import MultinomialNB\n",
        "from sklearn.ensemble import RandomForestClassifier, AdaBoostClassifier, GradientBoostingClassifier\n",
        "from sklearn.tree import DecisionTreeClassifier\n",
        "from sklearn.naive_bayes import MultinomialNB\n",
        "from sklearn.model_selection import StratifiedKFold, cross_validate, train_test_split, cross_val_score, KFold\n",
        "from sklearn.preprocessing import StandardScaler, OneHotEncoder, LabelEncoder\n",
        "from sklearn.metrics import roc_curve, auc, classification_report, confusion_matrix, precision_score, recall_score,  accuracy_score, precision_recall_curve\n",
        "from sklearn.model_selection import train_test_split\n",
        "from sklearn.neighbors import KNeighborsClassifier\n",
        "from sklearn.model_selection import StratifiedKFold, cross_validate, train_test_split, cross_val_score, KFold\n",
        "from sklearn.preprocessing import StandardScaler, OneHotEncoder, LabelEncoder\n",
        "from sklearn.metrics import roc_curve, auc, classification_report, confusion_matrix, precision_score, recall_score,  accuracy_score, precision_recall_curve\n",
        "\n",
        "nltk.download('punkt')\n",
        "nltk.download('stopwords')"
      ],
      "metadata": {
        "colab": {
          "base_uri": "https://localhost:8080/"
        },
        "id": "tnXlt7RxBsJW",
        "outputId": "4ae9c3c9-95e2-4a48-d44e-5bdfdb466070"
      },
      "execution_count": 1,
      "outputs": [
        {
          "output_type": "stream",
          "name": "stderr",
          "text": [
            "[nltk_data] Downloading package punkt to /root/nltk_data...\n",
            "[nltk_data]   Package punkt is already up-to-date!\n",
            "[nltk_data] Downloading package stopwords to /root/nltk_data...\n",
            "[nltk_data]   Package stopwords is already up-to-date!\n"
          ]
        },
        {
          "output_type": "execute_result",
          "data": {
            "text/plain": [
              "True"
            ]
          },
          "metadata": {},
          "execution_count": 1
        }
      ]
    },
    {
      "cell_type": "code",
      "source": [
        "import pandas as pd\n",
        "import io\n",
        "import requests\n",
        "\n",
        "url='https://raw.githubusercontent.com/iHabashy/Sentiment/main/training.csv'\n",
        "s=requests.get(url).content"
      ],
      "metadata": {
        "id": "40Gbyk8jB9g1"
      },
      "execution_count": 2,
      "outputs": []
    },
    {
      "cell_type": "code",
      "source": [
        "# Reading DataSet\n",
        "df =pd.read_csv(url)"
      ],
      "metadata": {
        "id": "KTenFO_-D0By"
      },
      "execution_count": 3,
      "outputs": []
    },
    {
      "cell_type": "code",
      "source": [
        "df"
      ],
      "metadata": {
        "id": "pZKJcVu_Co7N",
        "colab": {
          "base_uri": "https://localhost:8080/",
          "height": 424
        },
        "outputId": "85150f79-473c-4200-e206-3ded3db2e11a"
      },
      "execution_count": 4,
      "outputs": [
        {
          "output_type": "execute_result",
          "data": {
            "text/plain": [
              "        ID                                              Tweet    Labels\n",
              "0        1  NO JOKE I WILL HOP ON A PLANE RN! (Well after ...      0 10\n",
              "1        2  BanMediaHouse whose is responsible for spreadi...         6\n",
              "2        3  Im waiting for someone to say to me that all t...       3 4\n",
              "3        4  He is a liar. Proven day night. Time again. Li...         6\n",
              "4        5  NEW: U.S. CoronaVirus death toll reaches 4,000...         8\n",
              "...    ...                                                ...       ...\n",
              "4995  4996  Life Insurance? I wonder if policies are payin...     4 5 7\n",
              "4996  4997  My cousin passed away from the corona virus to...       4 5\n",
              "4997  4998  I guess Mother Nature really hates us. Yellows...  3 5 9 10\n",
              "4998  4999  So question for the day that isnt related to c...      9 10\n",
              "4999  5000  Dear corona, If you cancel my fucking church c...      6 10\n",
              "\n",
              "[5000 rows x 3 columns]"
            ],
            "text/html": [
              "\n",
              "  <div id=\"df-7f3f0885-10fc-4a94-b8a6-03ecc6725d2c\">\n",
              "    <div class=\"colab-df-container\">\n",
              "      <div>\n",
              "<style scoped>\n",
              "    .dataframe tbody tr th:only-of-type {\n",
              "        vertical-align: middle;\n",
              "    }\n",
              "\n",
              "    .dataframe tbody tr th {\n",
              "        vertical-align: top;\n",
              "    }\n",
              "\n",
              "    .dataframe thead th {\n",
              "        text-align: right;\n",
              "    }\n",
              "</style>\n",
              "<table border=\"1\" class=\"dataframe\">\n",
              "  <thead>\n",
              "    <tr style=\"text-align: right;\">\n",
              "      <th></th>\n",
              "      <th>ID</th>\n",
              "      <th>Tweet</th>\n",
              "      <th>Labels</th>\n",
              "    </tr>\n",
              "  </thead>\n",
              "  <tbody>\n",
              "    <tr>\n",
              "      <th>0</th>\n",
              "      <td>1</td>\n",
              "      <td>NO JOKE I WILL HOP ON A PLANE RN! (Well after ...</td>\n",
              "      <td>0 10</td>\n",
              "    </tr>\n",
              "    <tr>\n",
              "      <th>1</th>\n",
              "      <td>2</td>\n",
              "      <td>BanMediaHouse whose is responsible for spreadi...</td>\n",
              "      <td>6</td>\n",
              "    </tr>\n",
              "    <tr>\n",
              "      <th>2</th>\n",
              "      <td>3</td>\n",
              "      <td>Im waiting for someone to say to me that all t...</td>\n",
              "      <td>3 4</td>\n",
              "    </tr>\n",
              "    <tr>\n",
              "      <th>3</th>\n",
              "      <td>4</td>\n",
              "      <td>He is a liar. Proven day night. Time again. Li...</td>\n",
              "      <td>6</td>\n",
              "    </tr>\n",
              "    <tr>\n",
              "      <th>4</th>\n",
              "      <td>5</td>\n",
              "      <td>NEW: U.S. CoronaVirus death toll reaches 4,000...</td>\n",
              "      <td>8</td>\n",
              "    </tr>\n",
              "    <tr>\n",
              "      <th>...</th>\n",
              "      <td>...</td>\n",
              "      <td>...</td>\n",
              "      <td>...</td>\n",
              "    </tr>\n",
              "    <tr>\n",
              "      <th>4995</th>\n",
              "      <td>4996</td>\n",
              "      <td>Life Insurance? I wonder if policies are payin...</td>\n",
              "      <td>4 5 7</td>\n",
              "    </tr>\n",
              "    <tr>\n",
              "      <th>4996</th>\n",
              "      <td>4997</td>\n",
              "      <td>My cousin passed away from the corona virus to...</td>\n",
              "      <td>4 5</td>\n",
              "    </tr>\n",
              "    <tr>\n",
              "      <th>4997</th>\n",
              "      <td>4998</td>\n",
              "      <td>I guess Mother Nature really hates us. Yellows...</td>\n",
              "      <td>3 5 9 10</td>\n",
              "    </tr>\n",
              "    <tr>\n",
              "      <th>4998</th>\n",
              "      <td>4999</td>\n",
              "      <td>So question for the day that isnt related to c...</td>\n",
              "      <td>9 10</td>\n",
              "    </tr>\n",
              "    <tr>\n",
              "      <th>4999</th>\n",
              "      <td>5000</td>\n",
              "      <td>Dear corona, If you cancel my fucking church c...</td>\n",
              "      <td>6 10</td>\n",
              "    </tr>\n",
              "  </tbody>\n",
              "</table>\n",
              "<p>5000 rows × 3 columns</p>\n",
              "</div>\n",
              "      <button class=\"colab-df-convert\" onclick=\"convertToInteractive('df-7f3f0885-10fc-4a94-b8a6-03ecc6725d2c')\"\n",
              "              title=\"Convert this dataframe to an interactive table.\"\n",
              "              style=\"display:none;\">\n",
              "        \n",
              "  <svg xmlns=\"http://www.w3.org/2000/svg\" height=\"24px\"viewBox=\"0 0 24 24\"\n",
              "       width=\"24px\">\n",
              "    <path d=\"M0 0h24v24H0V0z\" fill=\"none\"/>\n",
              "    <path d=\"M18.56 5.44l.94 2.06.94-2.06 2.06-.94-2.06-.94-.94-2.06-.94 2.06-2.06.94zm-11 1L8.5 8.5l.94-2.06 2.06-.94-2.06-.94L8.5 2.5l-.94 2.06-2.06.94zm10 10l.94 2.06.94-2.06 2.06-.94-2.06-.94-.94-2.06-.94 2.06-2.06.94z\"/><path d=\"M17.41 7.96l-1.37-1.37c-.4-.4-.92-.59-1.43-.59-.52 0-1.04.2-1.43.59L10.3 9.45l-7.72 7.72c-.78.78-.78 2.05 0 2.83L4 21.41c.39.39.9.59 1.41.59.51 0 1.02-.2 1.41-.59l7.78-7.78 2.81-2.81c.8-.78.8-2.07 0-2.86zM5.41 20L4 18.59l7.72-7.72 1.47 1.35L5.41 20z\"/>\n",
              "  </svg>\n",
              "      </button>\n",
              "      \n",
              "  <style>\n",
              "    .colab-df-container {\n",
              "      display:flex;\n",
              "      flex-wrap:wrap;\n",
              "      gap: 12px;\n",
              "    }\n",
              "\n",
              "    .colab-df-convert {\n",
              "      background-color: #E8F0FE;\n",
              "      border: none;\n",
              "      border-radius: 50%;\n",
              "      cursor: pointer;\n",
              "      display: none;\n",
              "      fill: #1967D2;\n",
              "      height: 32px;\n",
              "      padding: 0 0 0 0;\n",
              "      width: 32px;\n",
              "    }\n",
              "\n",
              "    .colab-df-convert:hover {\n",
              "      background-color: #E2EBFA;\n",
              "      box-shadow: 0px 1px 2px rgba(60, 64, 67, 0.3), 0px 1px 3px 1px rgba(60, 64, 67, 0.15);\n",
              "      fill: #174EA6;\n",
              "    }\n",
              "\n",
              "    [theme=dark] .colab-df-convert {\n",
              "      background-color: #3B4455;\n",
              "      fill: #D2E3FC;\n",
              "    }\n",
              "\n",
              "    [theme=dark] .colab-df-convert:hover {\n",
              "      background-color: #434B5C;\n",
              "      box-shadow: 0px 1px 3px 1px rgba(0, 0, 0, 0.15);\n",
              "      filter: drop-shadow(0px 1px 2px rgba(0, 0, 0, 0.3));\n",
              "      fill: #FFFFFF;\n",
              "    }\n",
              "  </style>\n",
              "\n",
              "      <script>\n",
              "        const buttonEl =\n",
              "          document.querySelector('#df-7f3f0885-10fc-4a94-b8a6-03ecc6725d2c button.colab-df-convert');\n",
              "        buttonEl.style.display =\n",
              "          google.colab.kernel.accessAllowed ? 'block' : 'none';\n",
              "\n",
              "        async function convertToInteractive(key) {\n",
              "          const element = document.querySelector('#df-7f3f0885-10fc-4a94-b8a6-03ecc6725d2c');\n",
              "          const dataTable =\n",
              "            await google.colab.kernel.invokeFunction('convertToInteractive',\n",
              "                                                     [key], {});\n",
              "          if (!dataTable) return;\n",
              "\n",
              "          const docLinkHtml = 'Like what you see? Visit the ' +\n",
              "            '<a target=\"_blank\" href=https://colab.research.google.com/notebooks/data_table.ipynb>data table notebook</a>'\n",
              "            + ' to learn more about interactive tables.';\n",
              "          element.innerHTML = '';\n",
              "          dataTable['output_type'] = 'display_data';\n",
              "          await google.colab.output.renderOutput(dataTable, element);\n",
              "          const docLink = document.createElement('div');\n",
              "          docLink.innerHTML = docLinkHtml;\n",
              "          element.appendChild(docLink);\n",
              "        }\n",
              "      </script>\n",
              "    </div>\n",
              "  </div>\n",
              "  "
            ]
          },
          "metadata": {},
          "execution_count": 4
        }
      ]
    },
    {
      "cell_type": "code",
      "source": [
        "len(df)"
      ],
      "metadata": {
        "id": "J-GPADPyJOFi",
        "colab": {
          "base_uri": "https://localhost:8080/"
        },
        "outputId": "dbe0634c-ba69-4d8b-faf7-a1195e1336ce"
      },
      "execution_count": 5,
      "outputs": [
        {
          "output_type": "execute_result",
          "data": {
            "text/plain": [
              "5000"
            ]
          },
          "metadata": {},
          "execution_count": 5
        }
      ]
    },
    {
      "cell_type": "markdown",
      "source": [
        "Data Preprocessing\n"
      ],
      "metadata": {
        "id": "k8NOt6AbEdSI"
      }
    },
    {
      "cell_type": "markdown",
      "source": [
        "Data Cleaning"
      ],
      "metadata": {
        "id": "9Dlg3062Edla"
      }
    },
    {
      "cell_type": "code",
      "source": [
        "new_stopwords = set(stopwords.words('english') + list(punctuation) + ['AT_USER','URL'])"
      ],
      "metadata": {
        "id": "wMlhasoAEbSS"
      },
      "execution_count": 6,
      "outputs": []
    },
    {
      "cell_type": "code",
      "execution_count": 7,
      "metadata": {
        "id": "fZVmt70Ls3KP"
      },
      "outputs": [],
      "source": [
        "# Cleans the text by removing hyperlinks, hashtags, mentions, and retweets\n",
        "def cleanText(text):\n",
        "    text = text.lower() # Makes text lowercase\n",
        "    text = re.sub('https?:\\/\\/\\S+', '', text) # Removes hyperlinks\n",
        "    text = re.sub('#', '', text) # Removes hashtags\n",
        "    text = re.sub('@[A-Za-z0–9]+', '', text) # Removes mentions (@)\n",
        "    text = re.sub('RT[\\s]+', '', text) # Removes \"RT\"\n",
        "    return text"
      ]
    },
    {
      "cell_type": "markdown",
      "source": [
        "Lowercase"
      ],
      "metadata": {
        "id": "OnTogTeoLBSV"
      }
    },
    {
      "cell_type": "code",
      "execution_count": 8,
      "metadata": {
        "id": "E_K_FRqWtTMQ",
        "colab": {
          "base_uri": "https://localhost:8080/",
          "height": 121
        },
        "outputId": "1bfa54cf-76fa-4610-cb56-9ca3c3d205b4"
      },
      "outputs": [
        {
          "output_type": "display_data",
          "data": {
            "text/plain": [
              "0    no joke i will hop on a plane rn! (well after ...\n",
              "1    banmediahouse whose is responsible for spreadi...\n",
              "2    im waiting for someone to say to me that all t...\n",
              "3    he is a liar. proven day night. time again. li...\n",
              "4    new: u.s. coronavirus death toll reaches 4,000...\n",
              "Name: CleanTweet, dtype: object"
            ]
          },
          "metadata": {}
        }
      ],
      "source": [
        "df['CleanTweet'] = df['Tweet'].str.lower()\n",
        "display(df['CleanTweet'].head(5))"
      ]
    },
    {
      "cell_type": "markdown",
      "source": [
        "Removing Duplicated Rows"
      ],
      "metadata": {
        "id": "MRNj2cgsLW2s"
      }
    },
    {
      "cell_type": "code",
      "source": [
        "duplicatedRow = df[df.duplicated()]\n",
        "print(duplicatedRow[:5]) "
      ],
      "metadata": {
        "id": "oVAcuEJKLXDl",
        "colab": {
          "base_uri": "https://localhost:8080/"
        },
        "outputId": "e4475429-a8c5-4d31-8dca-741c32fa5f64"
      },
      "execution_count": 9,
      "outputs": [
        {
          "output_type": "stream",
          "name": "stdout",
          "text": [
            "Empty DataFrame\n",
            "Columns: [ID, Tweet, Labels, CleanTweet]\n",
            "Index: []\n"
          ]
        }
      ]
    },
    {
      "cell_type": "markdown",
      "source": [
        "Converting Emojis into Word¶\n"
      ],
      "metadata": {
        "id": "qhyV7mX0Lv5x"
      }
    },
    {
      "cell_type": "code",
      "source": [
        "! pip install Emot --upgrade\n"
      ],
      "metadata": {
        "id": "qlwUQ7YSL_fp",
        "colab": {
          "base_uri": "https://localhost:8080/"
        },
        "outputId": "bc42b24b-c742-4794-835a-6a496c678b4b"
      },
      "execution_count": 10,
      "outputs": [
        {
          "output_type": "stream",
          "name": "stdout",
          "text": [
            "Looking in indexes: https://pypi.org/simple, https://us-python.pkg.dev/colab-wheels/public/simple/\n",
            "Requirement already satisfied: Emot in /usr/local/lib/python3.7/dist-packages (3.1)\n"
          ]
        }
      ]
    },
    {
      "cell_type": "code",
      "source": [
        "from emot.emo_unicode import EMOJI_UNICODE, EMOTICONS_EMO"
      ],
      "metadata": {
        "id": "zJ0NI-xhNYaK"
      },
      "execution_count": 11,
      "outputs": []
    },
    {
      "cell_type": "code",
      "source": [
        "def convert_emojis(text):\n",
        "    for emot in EMOJI_UNICODE:\n",
        "        text = text.replace(emot, \"_\".join(EMOJI_UNICODE[emot].replace(\",\",\"\").replace(\":\",\"\").split()))\n",
        "    return text"
      ],
      "metadata": {
        "id": "1LTxTV5wL0n8"
      },
      "execution_count": 12,
      "outputs": []
    },
    {
      "cell_type": "markdown",
      "source": [
        "Stopwords\n",
        "#Created my own stopwords list."
      ],
      "metadata": {
        "id": "xeE4RHUtP9QG"
      }
    },
    {
      "cell_type": "code",
      "source": [
        "my_stopwords = [\"0o\", \"0s\", \"3a\", \"3b\", \"3d\", \"6b\", \"6o\", \"a\", \"a1\", \"a2\", \"a3\", \"a4\", \"ab\", \"able\", \"about\", \"above\", \"abst\", \"ac\", \"accordance\", \"according\", \"accordingly\", \n",
        "                     \"across\", \"act\", \"actually\", \"ad\", \"added\", \"adj\", \"ae\", \"af\", \"after\", \"afterwards\", \"ag\", \"again\", \"ah\", \"aj\", \"al\", \"all\",\n",
        "                      \"also\", \"although\", \"always\", \"am\", \"among\", \"amongst\", \"amoungst\",  \"an\", \"and\", \"announce\", \n",
        "                      \"ao\", \"ap\", \"apparently\", \"appear\",  \"appropriate\", \"to\",\n",
        "                     \"approximately\", \"ar\", \"are\",  \"arise\", \"around\", \"as\", \"a's\", \"aside\",  \"associated\", \"at\", \"au\", \"auth\", \"av\",  \"aw\", \"away\", \"ax\", \"ay\", \n",
        "                     \"az\", \"b\", \"b1\", \"b2\", \"b3\", \"ba\", \"back\", \"bc\", \"bd\", \"be\", \"became\", \"because\", \"become\", \"becomes\", \"becoming\", \"been\", \"before\", \"beforehand\", \"begin\", \"beginning\",\n",
        "                     \"beginnings\", \"begins\", \"behind\", \"being\",  \"below\", \"beside\", \"besides\", \"between\", \"beyond\", \"bi\", \"bill\", \"biol\", \"bj\", \"bk\", \"bl\", \"bn\", \"both\", \"bottom\", \n",
        "                     \"bp\", \"br\", \"brief\", \"briefly\", \"bs\", \"bt\", \"bu\", \"but\", \"bx\", \"by\", \"c\", \"c1\", \"c2\", \"c3\", \"ca\", \"call\", \"came\",  \"cc\", \"cd\", \"ce\", \n",
        "                      \"cf\", \"cg\", \"ch\", \"ci\", \"cit\", \"cj\", \"cl\", \"cm\", \"c'mon\", \"cn\", \"co\", \"com\", \"come\", \"comes\", \"con\", \"concerning\", \"consequently\",\n",
        "                     \"consider\", \"considering\", \"contain\", \"containing\", \"contains\", \"corresponding\", \"could\", \"course\", \"cp\", \"cq\", \"cr\", \"cry\", \"cs\", \"c's\", \"ct\", \"cu\", \"currently\",\n",
        "                     \"cv\", \"cx\", \"cy\", \"cz\", \"d\", \"d2\", \"da\", \"date\", \"dc\", \"dd\", \"de\", \"definitely\", \"describe\", \"described\", \"despite\", \"detail\", \"df\", \"di\", \"did\",  \"different\", \"dj\",\n",
        "                     \"dk\", \"dl\", \"do\", \"does\", \"doing\", \"downwards\", \"dp\", \"dr\", \"ds\", \"dt\", \"du\", \"due\", \"during\", \"dx\", \"dy\", \"e\", \"e2\", \"e3\", \"ea\", \"each\", \"ec\", \"ed\", \n",
        "                     \"edu\", \"ee\", \"ef\", \"effect\", \"eg\", \"ei\", \"eight\", \"eighty\", \"either\", \"ej\", \"el\", \"eleven\", \"else\", \"elsewhere\", \"em\", \"en\", \"end\", \"ending\", \"entirely\", \"eo\", \"ep\", \"eq\",\n",
        "                     \"er\", \"es\", \"especially\", \"est\", \"et\", \"et-al\", \"etc\", \"eu\", \"ev\", \"every\", \"everybody\", \"everyone\", \"everything\", \"everywhere\", \"ex\", \"exactly\", \"example\", \"ey\", \"f\", \"f2\",\n",
        "                     \"fa\", \"far\", \"fc\", \"few\", \"ff\", \"fi\", \"fifteen\", \"fifth\", \"fify\", \"fill\", \"find\", \"fire\", \"first\", \"five\", \"fix\", \"fj\", \"fl\", \"fn\", \"fo\", \"followed\", \"following\", \"follows\",\n",
        "                     \"for\", \"former\", \"formerly\", \"forth\", \"forty\", \"found\", \"four\", \"fr\", \"from\", \"front\", \"fs\", \"ft\", \"fu\", \"full\", \"further\", \"furthermore\", \"fy\", \"g\", \"ga\", \"gave\", \"ge\", \n",
        "                     \"get\", \"gets\", \"getting\", \"gi\", \"give\", \"given\", \"gives\", \"giving\", \"gj\", \"gl\", \"go\", \"goes\", \"going\", \"gone\", \"got\", \"gotten\", \"gr\", \"greetings\", \"gs\", \"gy\", \"h\", \"h2\", \n",
        "                     \"h3\", \"had\", \"happens\", \"hardly\", \"has\",  \"have\",  \"having\", \"he\", \"hed\", \"he'd\", \"he'll\", \"hello\", \"hence\", \"her\", \"here\", \"hereafter\", \"hereby\", \"herein\", \"heres\",\n",
        "                     \"here's\", \"hereupon\", \"hers\", \"herself\", \"hes\", \"he's\", \"hh\", \"hi\", \"hid\", \"him\", \"himself\", \"his\", \"hither\", \"hj\", \"ho\",  \"hopefully\", \"how\", \"howbeit\", \"however\", \n",
        "                     \"how's\", \"hr\", \"hs\", \"http\", \"hu\", \"hundred\", \"hy\", \"i\", \"i2\", \"i3\", \"i4\", \"i6\", \"i7\", \"i8\", \"ia\", \"ib\", \"ibid\", \"ic\", \"id\", \"i'd\", \"ie\", \"if\", \"ig\",  \"ih\", \"ii\", \"ij\",\n",
        "                     \"il\", \"i'll\", \"im\", \"i'm\", \"in\", \"inasmuch\", \"inc\", \"index\", \"indicate\", \"indicated\", \"indicates\", \"inner\", \"insofar\", \"interest\", \"into\", \"invention\",\n",
        "                     \"inward\", \"io\", \"ip\", \"iq\", \"ir\", \"is\",  \"it\", \"itd\", \"it'd\", \"it'll\", \"its\", \"it's\", \"itself\", \"iv\", \"i've\", \"ix\", \"iy\", \"iz\", \"j\", \"jj\", \"jr\", \"js\", \"jt\", \"ju\", \n",
        "                     \"k\", \"ke\", \"keep\", \"keeps\", \"kept\", \"kg\", \"kj\", \"km\", \"know\", \"known\", \"knows\", \"ko\", \"l\", \"l2\", \"la\", \"largely\",  \"lately\", \"later\", \"latter\", \"latterly\", \"lb\", \"lc\",\n",
        "                     \"le\", \"les\", \"lest\", \"let\", \"lets\", \"let's\", \"lf\", \"line\", \"little\", \"lj\", \"ll\", \"ll\", \"ln\", \"lo\", \"look\", \"looking\", \"looks\", \"los\", \"lr\", \"ls\", \"lt\", \"ltd\",\n",
        "                     \"m\", \"m2\", \"ma\", \"made\", \"mainly\", \"make\", \"makes\", \"me\", \"mean\", \"means\", \"meantime\", \"meanwhile\", \"merely\", \"mg\", \"mill\", \"million\", \"mine\", \n",
        "                     \"ml\", \"mn\", \"mo\", \"more\", \"moreover\", \"move\", \"mr\", \"mrs\", \"ms\", \"mt\", \"mu\", \"mug\",  \"my\", \"myself\", \"n\", \"n2\", \"na\", \"name\", \"namely\", \"nay\", \n",
        "                     \"nc\", \"nd\", \"ne\", \"near\", \"nearly\",\"new\", \"next\", \"ng\", \"ni\", \"nine\", \"ninety\", \"nj\", \"nl\", \"nn\", \"nos\", \"noted\",  \"novel\", \"now\", \"nr\", \"ns\",  \"ny\", \"o\", \"oa\", \"ob\", \n",
        "                     \"obtain\", \"obtained\", \"obviously\", \"oc\", \"od\", \"of\", \"off\", \"often\", \"og\", \"oh\", \"oi\", \"oj\", \"ol\", \"old\", \"om\", \"omitted\", \"on\", \"once\", \"one\", \"ones\",  \"onto\", \n",
        "                     \"oo\", \"op\", \"oq\", \"or\", \"ord\", \"os\", \"ot\", \"other\", \"others\",  \"ou\", \"ought\", \"our\", \"ours\", \"ourselves\",  \"overall\", \"ow\", \"owing\", \"own\", \"ox\", \"oz\", \"p\", \"p1\", \"p2\",\n",
        "                     \"p3\", \"page\", \"pagecount\", \"pages\", \"par\", \"part\", \"particular\", \"particularly\", \"pas\", \"past\", \"pc\", \"pd\", \"pe\", \"per\", \"pf\", \"ph\", \"pi\", \"pj\", \"pk\", \"pl\", \"placed\", \n",
        "                      \"plus\", \"pm\", \"pn\", \"po\", \"pp\", \"pq\", \"pr\", \"predominantly\", \"present\", \"presumably\", \"previously\",  \"promptly\", \"ps\", \"pt\", \"pu\", \"put\", \"py\", \"q\", \"qj\", \"qu\", \"que\",\n",
        "                      \"qv\", \"r\", \"r2\", \"ra\", \"ran\", \"rather\", \"rc\", \"rd\", \"re\", \"readily\",  \"ref\", \"refs\", \"regarding\",  \"related\", \"relatively\", \"research-articl\", \"respectively\",\n",
        "                      \"rf\", \"rh\", \"ri\", \"right\", \"rj\", \"rl\", \"rm\", \"rn\", \"ro\", \"rq\", \"rr\", \"rs\", \"rt\", \"ru\", \"run\", \"rv\", \"ry\", \"s\", \"s2\", \"sa\", \"said\", \"same\", \"saw\", \"say\", \"saying\", \"says\",\n",
        "                     \"sc\", \"sd\", \"se\", \"sec\", \"second\", \"secondly\", \"section\", \"see\", \"seeing\", \"seem\", \"seemed\", \"seeming\", \"seems\", \"seen\", \"self\", \"selves\", \"sensible\", \"sent\", \n",
        "                     \"seven\", \"several\", \"sf\", \"shall\", \"shan\", \"shan't\", \"she\", \"shed\", \"she'd\", \"she'll\", \"shes\", \"she's\", \"should\",  \"should've\",  \"si\", \"side\", \"significant\",\n",
        "                     \"significantly\", \"similar\", \"similarly\", \"since\", \"sincere\", \"six\", \"sixty\", \"sj\", \"sl\", \"slightly\", \"sm\", \"sn\", \"so\", \"some\", \"somebody\", \"somehow\", \"someone\",\n",
        "                     \"somethan\", \"something\", \"sometime\", \"sometimes\", \"somewhat\", \"somewhere\", \"soon\", \"sp\", \"specifically\", \"specified\", \"specify\", \"specifying\", \"sq\", \"sr\", \"ss\", \"st\",\n",
        "                      \"sub\", \"substantially\", \"sup\", \"sy\", \"system\", \"sz\", \"t\", \"t1\", \"t2\", \"t3\", \"take\", \"taken\", \"taking\", \"tb\", \"tc\", \"td\", \"te\", \"tell\", \"ten\", \"tends\", \"tf\", \"th\",  \"that\",\n",
        "                     \"that'll\", \"thats\", \"that's\", \"that've\", \"the\", \"their\", \"theirs\", \"them\", \"themselves\", \"then\", \"thence\", \"there\", \"thereafter\", \"thereby\", \"thered\", \"therefore\", \"therein\",\n",
        "                     \"there'll\", \"thereof\", \"therere\", \"theres\", \"there's\", \"thereto\", \"thereupon\", \"there've\", \"these\", \"they\", \"theyd\", \"they'd\", \"they'll\", \"theyre\", \"they're\", \"they've\",\n",
        "                     \"thickv\", \"thin\", \"think\", \"third\", \"this\", \"thorough\", \"thoroughly\", \"those\", \"thou\", \"though\", \"thoughh\", \"thousand\", \"three\", \"throug\", \"through\", \"throughout\", \"thru\", \n",
        "                     \"thus\", \"ti\", \"til\", \"tip\", \"tj\", \"tl\", \"tm\", \"tn\", \"to\",  \"too\", \"took\", \"top\", \"toward\", \"towards\", \"tp\", \"tq\", \"tr\",  \"ts\", \"t's\", \"tt\", \"tv\", \"twelve\", \"twenty\",\n",
        "                     \"twice\", \"two\", \"tx\", \"u\", \"u201d\", \"ue\", \"ui\", \"uj\", \"uk\", \"um\", \"un\", \"under\", \"unto\", \"uo\", \"up\", \"upon\", \"ups\", \"ur\", \"us\", \"use\", \"used\",  \"uses\", \"using\",\"ut\",\n",
        "                     \"v\", \"va\", \"value\", \"various\", \"vd\", \"ve\", \"ve\",  \"via\", \"viz\", \"vj\", \"vo\", \"vol\", \"vols\", \"volumtype\", \"vq\", \"vs\", \"vt\", \"vu\", \"w\", \"wa\", \"want\", \"wants\", \"was\",  \"way\", \"we\", \n",
        "                     \"wed\", \"we'd\",  \"went\", \"were\", \"we're\",  \"we've\", \"what\", \"whatever\", \"what'll\", \"whats\", \"what's\", \"when\", \"whence\", \"whenever\", \"when's\", \"where\", \"whereafter\",\n",
        "                     \"whereas\", \"whereby\", \"wherein\", \"wheres\", \"where's\", \"whereupon\", \"wherever\", \"whether\", \"which\", \"while\", \"whim\", \"whither\", \"who\", \"whod\", \"whoever\", \"whole\", \"who'll\",\n",
        "                     \"whom\", \"whomever\", \"whos\", \"who's\", \"whose\", \"why\", \"why's\", \"wi\", \"widely\", \"will\", \"willing\", \"with\", \"within\",  \"wo\",  \"words\", \"world\", \"would\",  \"www\", \"x\", \"x1\", \"x2\",\n",
        "                     \"x3\", \"xf\", \"xi\", \"xj\", \"xk\", \"xl\", \"xn\", \"xo\", \"xs\", \"xt\", \"xv\", \"xx\", \"y\", \"y2\", \"yes\", \"yet\", \"yj\", \"yl\", \"you\", \"youd\", \"you'd\", \"you'll\", \"your\", \"youre\", \"you're\", \"yours\",\n",
        "                     \"yourself\", \"yourselves\", \"you've\", \"yr\", \"ys\", \"yt\", \"z\", \"zero\", \"zi\", \"zz\",',', '.', '\"', ':', ')', '(', '!', '?', '|', ';', \"'\", '$', '&','/', '[', ']', '>', '%', '=', '#', '*', '+', \n",
        "                '\\\\', '•',  '~', '@', '£', '·', '_', '{', '}', '©', '^', '®', '`',  '<', '→', '°', '€', '™', '›', '♥', '←', '×', '§', '″', '′', 'Â', '█', '½', 'à', '…', '“', '★', '”', '–', '●', 'â', '►', '−', \n",
        "                '¢', '²', '¬', '░', '¶', '↑', '±', '¿', '▾', \n",
        "                '═', '¦', '║', '―', '¥', '▓', '—', '‹', '─', '▒', '：', '¼', '⊕', '▼', \n",
        "                '▪', '†', '■', '’', '▀', '¨', '▄', '♫', '☆', 'é', '¯', '♦', '¤', '▲',\n",
        "                'è', '¸', '¾', 'Ã', '⋅', '‘', '∞', '∙', '）', '↓', '、', '│', '（', '»', \n",
        "                '，', '♪', '╩', '╚', '³', '・', '╦', '╣', '╔', '╗', '▬', '❤', 'ï', 'Ø', \n",
        "                '¹', '≤', '‡', '√', '«', '»', '´', 'º', '¾', '¡', '§', '£', '₤']\n",
        "\n",
        "print(len(my_stopwords))\n"
      ],
      "metadata": {
        "id": "JD5-155yL3m2",
        "colab": {
          "base_uri": "https://localhost:8080/"
        },
        "outputId": "0eeb0170-c432-4f3b-d0dd-528ab6d85143"
      },
      "execution_count": 13,
      "outputs": [
        {
          "output_type": "stream",
          "name": "stdout",
          "text": [
            "1092\n"
          ]
        }
      ]
    },
    {
      "cell_type": "code",
      "source": [
        "def remove_swords(text,s_list):\n",
        "    a=[]\n",
        "    for s in text.split():\n",
        "        if s not in my_stopwords:\n",
        "            a.append(s)\n",
        "            #remove_swords(text ,my_stopwords)\n",
        "    return a     "
      ],
      "metadata": {
        "id": "sX3WFLTxQP4W"
      },
      "execution_count": 14,
      "outputs": []
    },
    {
      "cell_type": "code",
      "source": [
        "b=[]\n",
        "for t in df['CleanTweet']:\n",
        "    \n",
        "    b.append(remove_swords(t ,my_stopwords))"
      ],
      "metadata": {
        "id": "DCGxApE8QXas"
      },
      "execution_count": 15,
      "outputs": []
    },
    {
      "cell_type": "code",
      "source": [
        "df['List of words'] = b\n",
        "df['List of words'].head()"
      ],
      "metadata": {
        "id": "p0D8X-vPQa4Q",
        "colab": {
          "base_uri": "https://localhost:8080/"
        },
        "outputId": "76f45ac5-e09b-4847-9568-27f89c3c429e"
      },
      "execution_count": 16,
      "outputs": [
        {
          "output_type": "execute_result",
          "data": {
            "text/plain": [
              "0    [no, joke, hop, plane, rn!, (well, covid19, lol)]\n",
              "1    [banmediahouse, responsible, spreading, fake, ...\n",
              "2    [waiting, corona, thing, just, april, fools, j...\n",
              "3    [liar., proven, day, night., time, again., lie...\n",
              "4    [new:, u.s., coronavirus, death, toll, reaches...\n",
              "Name: List of words, dtype: object"
            ]
          },
          "metadata": {},
          "execution_count": 16
        }
      ]
    },
    {
      "cell_type": "code",
      "source": [
        "df.head(10)"
      ],
      "metadata": {
        "id": "f-6n33qxQedF",
        "colab": {
          "base_uri": "https://localhost:8080/",
          "height": 363
        },
        "outputId": "4dd8e429-0255-4b9c-a81b-0961784c9c24"
      },
      "execution_count": 17,
      "outputs": [
        {
          "output_type": "execute_result",
          "data": {
            "text/plain": [
              "   ID                                              Tweet Labels  \\\n",
              "0   1  NO JOKE I WILL HOP ON A PLANE RN! (Well after ...   0 10   \n",
              "1   2  BanMediaHouse whose is responsible for spreadi...      6   \n",
              "2   3  Im waiting for someone to say to me that all t...    3 4   \n",
              "3   4  He is a liar. Proven day night. Time again. Li...      6   \n",
              "4   5  NEW: U.S. CoronaVirus death toll reaches 4,000...      8   \n",
              "5   6  Coronavirus impact Govt extends I-T deadlines ...    5 8   \n",
              "6   7  42,000 people might have died in China from Co...  6 7 8   \n",
              "7   8  Dear Chinese! Kindly cook your bat thoroughly ...   5 10   \n",
              "8   9  This is how the govt of kenya is checking the ...  3 6 9   \n",
              "9  10  My mental health hasn't suffered at all under ...     10   \n",
              "\n",
              "                                          CleanTweet  \\\n",
              "0  no joke i will hop on a plane rn! (well after ...   \n",
              "1  banmediahouse whose is responsible for spreadi...   \n",
              "2  im waiting for someone to say to me that all t...   \n",
              "3  he is a liar. proven day night. time again. li...   \n",
              "4  new: u.s. coronavirus death toll reaches 4,000...   \n",
              "5  coronavirus impact govt extends i-t deadlines ...   \n",
              "6  42,000 people might have died in china from co...   \n",
              "7  dear chinese! kindly cook your bat thoroughly ...   \n",
              "8  this is how the govt of kenya is checking the ...   \n",
              "9  my mental health hasn't suffered at all under ...   \n",
              "\n",
              "                                       List of words  \n",
              "0  [no, joke, hop, plane, rn!, (well, covid19, lol)]  \n",
              "1  [banmediahouse, responsible, spreading, fake, ...  \n",
              "2  [waiting, corona, thing, just, april, fools, j...  \n",
              "3  [liar., proven, day, night., time, again., lie...  \n",
              "4  [new:, u.s., coronavirus, death, toll, reaches...  \n",
              "5  [coronavirus, impact, govt, extends, i-t, dead...  \n",
              "6  [42,000, people, might, died, china, covid19, ...  \n",
              "7  [dear, chinese!, kindly, cook, bat, time., reg...  \n",
              "8  [govt, kenya, checking, temperatures, covid19,...  \n",
              "9  [mental, health, hasn't, suffered, coronavirus...  "
            ],
            "text/html": [
              "\n",
              "  <div id=\"df-22e74fcf-7253-41da-bad6-575938c1371e\">\n",
              "    <div class=\"colab-df-container\">\n",
              "      <div>\n",
              "<style scoped>\n",
              "    .dataframe tbody tr th:only-of-type {\n",
              "        vertical-align: middle;\n",
              "    }\n",
              "\n",
              "    .dataframe tbody tr th {\n",
              "        vertical-align: top;\n",
              "    }\n",
              "\n",
              "    .dataframe thead th {\n",
              "        text-align: right;\n",
              "    }\n",
              "</style>\n",
              "<table border=\"1\" class=\"dataframe\">\n",
              "  <thead>\n",
              "    <tr style=\"text-align: right;\">\n",
              "      <th></th>\n",
              "      <th>ID</th>\n",
              "      <th>Tweet</th>\n",
              "      <th>Labels</th>\n",
              "      <th>CleanTweet</th>\n",
              "      <th>List of words</th>\n",
              "    </tr>\n",
              "  </thead>\n",
              "  <tbody>\n",
              "    <tr>\n",
              "      <th>0</th>\n",
              "      <td>1</td>\n",
              "      <td>NO JOKE I WILL HOP ON A PLANE RN! (Well after ...</td>\n",
              "      <td>0 10</td>\n",
              "      <td>no joke i will hop on a plane rn! (well after ...</td>\n",
              "      <td>[no, joke, hop, plane, rn!, (well, covid19, lol)]</td>\n",
              "    </tr>\n",
              "    <tr>\n",
              "      <th>1</th>\n",
              "      <td>2</td>\n",
              "      <td>BanMediaHouse whose is responsible for spreadi...</td>\n",
              "      <td>6</td>\n",
              "      <td>banmediahouse whose is responsible for spreadi...</td>\n",
              "      <td>[banmediahouse, responsible, spreading, fake, ...</td>\n",
              "    </tr>\n",
              "    <tr>\n",
              "      <th>2</th>\n",
              "      <td>3</td>\n",
              "      <td>Im waiting for someone to say to me that all t...</td>\n",
              "      <td>3 4</td>\n",
              "      <td>im waiting for someone to say to me that all t...</td>\n",
              "      <td>[waiting, corona, thing, just, april, fools, j...</td>\n",
              "    </tr>\n",
              "    <tr>\n",
              "      <th>3</th>\n",
              "      <td>4</td>\n",
              "      <td>He is a liar. Proven day night. Time again. Li...</td>\n",
              "      <td>6</td>\n",
              "      <td>he is a liar. proven day night. time again. li...</td>\n",
              "      <td>[liar., proven, day, night., time, again., lie...</td>\n",
              "    </tr>\n",
              "    <tr>\n",
              "      <th>4</th>\n",
              "      <td>5</td>\n",
              "      <td>NEW: U.S. CoronaVirus death toll reaches 4,000...</td>\n",
              "      <td>8</td>\n",
              "      <td>new: u.s. coronavirus death toll reaches 4,000...</td>\n",
              "      <td>[new:, u.s., coronavirus, death, toll, reaches...</td>\n",
              "    </tr>\n",
              "    <tr>\n",
              "      <th>5</th>\n",
              "      <td>6</td>\n",
              "      <td>Coronavirus impact Govt extends I-T deadlines ...</td>\n",
              "      <td>5 8</td>\n",
              "      <td>coronavirus impact govt extends i-t deadlines ...</td>\n",
              "      <td>[coronavirus, impact, govt, extends, i-t, dead...</td>\n",
              "    </tr>\n",
              "    <tr>\n",
              "      <th>6</th>\n",
              "      <td>7</td>\n",
              "      <td>42,000 people might have died in China from Co...</td>\n",
              "      <td>6 7 8</td>\n",
              "      <td>42,000 people might have died in china from co...</td>\n",
              "      <td>[42,000, people, might, died, china, covid19, ...</td>\n",
              "    </tr>\n",
              "    <tr>\n",
              "      <th>7</th>\n",
              "      <td>8</td>\n",
              "      <td>Dear Chinese! Kindly cook your bat thoroughly ...</td>\n",
              "      <td>5 10</td>\n",
              "      <td>dear chinese! kindly cook your bat thoroughly ...</td>\n",
              "      <td>[dear, chinese!, kindly, cook, bat, time., reg...</td>\n",
              "    </tr>\n",
              "    <tr>\n",
              "      <th>8</th>\n",
              "      <td>9</td>\n",
              "      <td>This is how the govt of kenya is checking the ...</td>\n",
              "      <td>3 6 9</td>\n",
              "      <td>this is how the govt of kenya is checking the ...</td>\n",
              "      <td>[govt, kenya, checking, temperatures, covid19,...</td>\n",
              "    </tr>\n",
              "    <tr>\n",
              "      <th>9</th>\n",
              "      <td>10</td>\n",
              "      <td>My mental health hasn't suffered at all under ...</td>\n",
              "      <td>10</td>\n",
              "      <td>my mental health hasn't suffered at all under ...</td>\n",
              "      <td>[mental, health, hasn't, suffered, coronavirus...</td>\n",
              "    </tr>\n",
              "  </tbody>\n",
              "</table>\n",
              "</div>\n",
              "      <button class=\"colab-df-convert\" onclick=\"convertToInteractive('df-22e74fcf-7253-41da-bad6-575938c1371e')\"\n",
              "              title=\"Convert this dataframe to an interactive table.\"\n",
              "              style=\"display:none;\">\n",
              "        \n",
              "  <svg xmlns=\"http://www.w3.org/2000/svg\" height=\"24px\"viewBox=\"0 0 24 24\"\n",
              "       width=\"24px\">\n",
              "    <path d=\"M0 0h24v24H0V0z\" fill=\"none\"/>\n",
              "    <path d=\"M18.56 5.44l.94 2.06.94-2.06 2.06-.94-2.06-.94-.94-2.06-.94 2.06-2.06.94zm-11 1L8.5 8.5l.94-2.06 2.06-.94-2.06-.94L8.5 2.5l-.94 2.06-2.06.94zm10 10l.94 2.06.94-2.06 2.06-.94-2.06-.94-.94-2.06-.94 2.06-2.06.94z\"/><path d=\"M17.41 7.96l-1.37-1.37c-.4-.4-.92-.59-1.43-.59-.52 0-1.04.2-1.43.59L10.3 9.45l-7.72 7.72c-.78.78-.78 2.05 0 2.83L4 21.41c.39.39.9.59 1.41.59.51 0 1.02-.2 1.41-.59l7.78-7.78 2.81-2.81c.8-.78.8-2.07 0-2.86zM5.41 20L4 18.59l7.72-7.72 1.47 1.35L5.41 20z\"/>\n",
              "  </svg>\n",
              "      </button>\n",
              "      \n",
              "  <style>\n",
              "    .colab-df-container {\n",
              "      display:flex;\n",
              "      flex-wrap:wrap;\n",
              "      gap: 12px;\n",
              "    }\n",
              "\n",
              "    .colab-df-convert {\n",
              "      background-color: #E8F0FE;\n",
              "      border: none;\n",
              "      border-radius: 50%;\n",
              "      cursor: pointer;\n",
              "      display: none;\n",
              "      fill: #1967D2;\n",
              "      height: 32px;\n",
              "      padding: 0 0 0 0;\n",
              "      width: 32px;\n",
              "    }\n",
              "\n",
              "    .colab-df-convert:hover {\n",
              "      background-color: #E2EBFA;\n",
              "      box-shadow: 0px 1px 2px rgba(60, 64, 67, 0.3), 0px 1px 3px 1px rgba(60, 64, 67, 0.15);\n",
              "      fill: #174EA6;\n",
              "    }\n",
              "\n",
              "    [theme=dark] .colab-df-convert {\n",
              "      background-color: #3B4455;\n",
              "      fill: #D2E3FC;\n",
              "    }\n",
              "\n",
              "    [theme=dark] .colab-df-convert:hover {\n",
              "      background-color: #434B5C;\n",
              "      box-shadow: 0px 1px 3px 1px rgba(0, 0, 0, 0.15);\n",
              "      filter: drop-shadow(0px 1px 2px rgba(0, 0, 0, 0.3));\n",
              "      fill: #FFFFFF;\n",
              "    }\n",
              "  </style>\n",
              "\n",
              "      <script>\n",
              "        const buttonEl =\n",
              "          document.querySelector('#df-22e74fcf-7253-41da-bad6-575938c1371e button.colab-df-convert');\n",
              "        buttonEl.style.display =\n",
              "          google.colab.kernel.accessAllowed ? 'block' : 'none';\n",
              "\n",
              "        async function convertToInteractive(key) {\n",
              "          const element = document.querySelector('#df-22e74fcf-7253-41da-bad6-575938c1371e');\n",
              "          const dataTable =\n",
              "            await google.colab.kernel.invokeFunction('convertToInteractive',\n",
              "                                                     [key], {});\n",
              "          if (!dataTable) return;\n",
              "\n",
              "          const docLinkHtml = 'Like what you see? Visit the ' +\n",
              "            '<a target=\"_blank\" href=https://colab.research.google.com/notebooks/data_table.ipynb>data table notebook</a>'\n",
              "            + ' to learn more about interactive tables.';\n",
              "          element.innerHTML = '';\n",
              "          dataTable['output_type'] = 'display_data';\n",
              "          await google.colab.output.renderOutput(dataTable, element);\n",
              "          const docLink = document.createElement('div');\n",
              "          docLink.innerHTML = docLinkHtml;\n",
              "          element.appendChild(docLink);\n",
              "        }\n",
              "      </script>\n",
              "    </div>\n",
              "  </div>\n",
              "  "
            ]
          },
          "metadata": {},
          "execution_count": 17
        }
      ]
    },
    {
      "cell_type": "code",
      "source": [
        "#Combine individual words\n",
        "def combine_text(input):\n",
        "    combined = ' '.join(input)\n",
        "    return combined\n",
        "df['CleanTweet'] = df['List of words'].apply(combine_text)\n",
        "df['CleanTweet']"
      ],
      "metadata": {
        "id": "ozxCYoMFQmwv",
        "colab": {
          "base_uri": "https://localhost:8080/"
        },
        "outputId": "0486203c-aba8-4bcb-efdb-71c20e739364"
      },
      "execution_count": 18,
      "outputs": [
        {
          "output_type": "execute_result",
          "data": {
            "text/plain": [
              "0                no joke hop plane rn! (well covid19 lol)\n",
              "1       banmediahouse responsible spreading fake commu...\n",
              "2              waiting corona thing just april fools joke\n",
              "3       liar. proven day night. time again. lies truth...\n",
              "4       new: u.s. coronavirus death toll reaches 4,000...\n",
              "                              ...                        \n",
              "4995    life insurance? wonder policies paying out cor...\n",
              "4996    cousin passed corona virus today. today day. p...\n",
              "4997    guess mother nature really hates us. yellowsto...\n",
              "4998    question day isnt coronavirus. better banana s...\n",
              "4999    dear corona, cancel fucking church camp summer...\n",
              "Name: CleanTweet, Length: 5000, dtype: object"
            ]
          },
          "metadata": {},
          "execution_count": 18
        }
      ]
    },
    {
      "cell_type": "markdown",
      "source": [
        "Remove Special Characters\n"
      ],
      "metadata": {
        "id": "sbVjfUobQuXT"
      }
    },
    {
      "cell_type": "code",
      "source": [
        "def clean(tweet): \n",
        "            \n",
        "    # Special characters\n",
        "    tweet = re.sub(r\"\\x89Û_\", \"\", tweet)\n",
        "    tweet = re.sub(r\"\\x89ÛÒ\", \"\", tweet)\n",
        "    tweet = re.sub(r\"\\x89ÛÓ\", \"\", tweet)\n",
        "    tweet = re.sub(r\"\\x89ÛÏWhen\", \"When\", tweet)\n",
        "    tweet = re.sub(r\"\\x89ÛÏ\", \"\", tweet)\n",
        "    tweet = re.sub(r\"China\\x89Ûªs\", \"China's\", tweet)\n",
        "    tweet = re.sub(r\"let\\x89Ûªs\", \"let's\", tweet)\n",
        "    tweet = re.sub(r\"\\x89Û÷\", \"\", tweet)\n",
        "    tweet = re.sub(r\"\\x89Ûª\", \"\", tweet)\n",
        "    tweet = re.sub(r\"\\x89Û\\x9d\", \"\", tweet)\n",
        "    tweet = re.sub(r\"å_\", \"\", tweet)\n",
        "    tweet = re.sub(r\"\\x89Û¢\", \"\", tweet)\n",
        "    tweet = re.sub(r\"\\x89Û¢åÊ\", \"\", tweet)\n",
        "    tweet = re.sub(r\"fromåÊwounds\", \"from wounds\", tweet)\n",
        "    tweet = re.sub(r\"åÊ\", \"\", tweet)\n",
        "    tweet = re.sub(r\"åÈ\", \"\", tweet)\n",
        "       \n",
        "    tweet = re.sub(r\"Ì©\", \"e\", tweet)\n",
        "    tweet = re.sub(r\"å¨\", \"\", tweet)\n",
        "    \n",
        "    tweet = re.sub(r\"åÇ\", \"\", tweet)\n",
        "    \n",
        "    tweet = re.sub(r\"åÀ\", \"\", tweet)\n",
        "    tweet = re.sub(r'\\b[\\w\\-.]+?@\\w+?\\.\\w{2,4}\\b', 'mentioned', tweet)\n",
        "    tweet = re.sub(r'(http[s]?\\S+)|(\\w+\\.[A-Za-z]{2,4}\\S*)', 'referance', #Replace URLs with 'httpaddr'\n",
        "                     tweet)\n",
        "    tweet = re.sub(r'£|\\$', 'money', tweet) #Replace money symbols with 'moneysymb'\n",
        "    tweet = re.sub(r'\\b(\\+\\d{1,2}\\s)?\\d?[\\-(.]?\\d{3}\\)?[\\s.-]?\\d{3}[\\s.-]?\\d{4}\\b', #Replace phone numbers with 'numbers'\n",
        "                   ' ', tweet)\n",
        "    tweet = re.sub(r'\\d+(\\.\\d+)?', ' ', tweet)  #Replace numbers with 'numbr'\n",
        "    tweet = re.sub(r'[^\\w\\d\\s]', ' ', tweet)\n",
        "    tweet = re.sub(r'\\s+', ' ', tweet)\n",
        "    tweet = re.sub(r'^\\s+|\\s+?$', '', tweet.lower())\n",
        "    \n",
        "    \n",
        "    # Contractions\n",
        "   \n",
        "    tweet = re.sub(r\"he'll\", \"he will\", tweet)\n",
        "    tweet = re.sub(r\"Y'all\", \"You all\", tweet)\n",
        "    tweet = re.sub(r\"Weren't\", \"Were not\", tweet)\n",
        "    tweet = re.sub(r\"Didn't\", \"Did not\", tweet)\n",
        "    tweet = re.sub(r\"they'll\", \"they will\", tweet)\n",
        "    tweet = re.sub(r\"luv\", \"love\", tweet)\n",
        "    tweet = re.sub(r\"they'd\", \"they would\", tweet)\n",
        "    tweet = re.sub(r\"DON'T\", \"DO NOT\", tweet)\n",
        "    tweet = re.sub(r\"That\\x89Ûªs\", \"That is\", tweet)\n",
        "    tweet = re.sub(r\"You\\x89Ûªre\", \"You are\", tweet)\n",
        "    tweet = re.sub(r\"where's\", \"where is\", tweet)\n",
        "    tweet = re.sub(r\"Don\\x89Ûªt\", \"Do not\", tweet)\n",
        "    tweet = re.sub(r\"we'd\", \"we would\", tweet)\n",
        "    tweet = re.sub(r\"i'll\", \"I will\", tweet)\n",
        "    tweet = re.sub(r\"weren't\", \"were not\", tweet)\n",
        "    tweet = re.sub(r\"They're\", \"They are\", tweet)\n",
        "    tweet = re.sub(r\"Can\\x89Ûªt\", \"Cannot\", tweet)\n",
        "    tweet = re.sub(r\"you\\x89Ûªll\", \"you will\", tweet)\n",
        "    tweet = re.sub(r\"I\\x89Ûªd\", \"I would\", tweet)\n",
        "    \n",
        "            \n",
        "    # Character entity references\n",
        "    tweet = re.sub(r\"&gt;\", \">\", tweet)\n",
        "    tweet = re.sub(r\"&lt;\", \"<\", tweet)\n",
        "    tweet = re.sub(r\"&amp;\", \"&\", tweet)\n",
        "    \n",
        "    # Typos, slang and informal abbreviations\n",
        "    tweet = re.sub(r\"w/e\", \"whatever\", tweet)\n",
        "    tweet = re.sub(r\"w/\", \"with\", tweet)\n",
        "   \n",
        "    tweet = re.sub(r\"Ph0tos\", \"Photos\", tweet)\n",
        "    tweet = re.sub(r\"amirite\", \"am I right\", tweet)\n",
        "    tweet = re.sub(r\"exp0sed\", \"exposed\", tweet)\n",
        "  \n",
        "   \n",
        "    tweet = re.sub(r\"Trfc\", \"Traffic\", tweet)\n",
        "    tweet = re.sub(r\"lmao\", \"laughing my ass off\", tweet)   \n",
        "   \n",
        "    tweet = re.sub(r\"e-mail\", \"email\", tweet)\n",
        "    tweet = re.sub(r\"\\s{2,}\", \" \", tweet)\n",
        "    tweet = re.sub(r\"quikly\", \"quickly\", tweet)\n",
        "    \n",
        "    \n",
        "    \n",
        "    tweet = re.sub(r\" iPhone \", \" phone \", tweet)\n",
        "    tweet = re.sub(r\"\\0rs \", \" rs \", tweet) \n",
        "    \n",
        "    tweet = re.sub(r\"ios\", \"operating system\", tweet)\n",
        "  \n",
        "    tweet = re.sub(r\"programing\", \"programming\", tweet)\n",
        "    tweet = re.sub(r\"bestfriend\", \"best friend\", tweet)\n",
        "    \n",
        "    \n",
        "    tweet = re.sub(r\" J K \", \" JK \", tweet)\n",
        "    tweet = re.sub(r\"coronavirus\", \" covid19\", tweet)\n",
        "    tweet = re.sub(r\"covid\", \" covid19\", tweet)\n",
        "    tweet = re.sub(r\"corrona\", \" covid19 \", tweet)\n",
        "    tweet = re.sub(r\"covid1919\", \" covid19 \", tweet)\n",
        "    tweet = re.sub(r\"_\", \"  \", tweet)\n",
        "    \n",
        "    # Urls\n",
        "    tweet = re.sub(r\"https?:\\/\\/t.co\\/[A-Za-z0-9]+\", \"\", tweet)\n",
        "        \n",
        "    # Words with punctuations and special characters\n",
        "    punctuations = '@#!?+&*[]-%.:/();$=><|{}^' + \"'`\"\n",
        "    for p in punctuations:\n",
        "        tweet = tweet.replace(p, f' {p} ')\n",
        "        \n",
        "    # ... and ..\n",
        "    tweet = tweet.replace('...', ' ... ')\n",
        "    if '...' not in tweet:\n",
        "        tweet = tweet.replace('..', ' ... ') \n",
        "        \n",
        "    \n",
        "        \n",
        "        \n",
        "    return str(tweet)"
      ],
      "metadata": {
        "id": "4RlJWGsRQsKs"
      },
      "execution_count": 19,
      "outputs": []
    },
    {
      "cell_type": "code",
      "source": [
        "df['CleanTweet'] = df['CleanTweet'].apply(clean)\n",
        "display(df['CleanTweet'].head(15))"
      ],
      "metadata": {
        "id": "ZE_UY9GSQ5gV",
        "colab": {
          "base_uri": "https://localhost:8080/",
          "height": 295
        },
        "outputId": "82604f93-dab5-4ebe-8ba0-3a082ddbcffb"
      },
      "execution_count": 20,
      "outputs": [
        {
          "output_type": "display_data",
          "data": {
            "text/plain": [
              "0                no joke hop plane rn well  covid19 lol\n",
              "1     banmediahouse responsible spreading fake commu...\n",
              "2            waiting corona thing just april fools joke\n",
              "3     liar proven day night time again lies truth do...\n",
              "4     new u s    covid19  death toll reaches deaths ...\n",
              "5        covid19  impact govt extends i t deadlines ...\n",
              "6     people might died china  covid19 china underre...\n",
              "7     dear chinese kindly cook bat time regards  cov...\n",
              "8     govt kenya checking temperatures  covid19 stil...\n",
              "9     mental health hasn t suffered    covid19  quar...\n",
              "10    cannot die watching concert live corona virus ...\n",
              "11    complete wanker hope die    covid19  fucking d...\n",
              "12          anyone elses fb ads killing    covid19  hit\n",
              "13    just heard oncle france  covid19 coma critical...\n",
              "14    moment realize medication effects identical co...\n",
              "Name: CleanTweet, dtype: object"
            ]
          },
          "metadata": {}
        }
      ]
    },
    {
      "cell_type": "markdown",
      "source": [
        "Feature Engineering\n"
      ],
      "metadata": {
        "id": "JLiVj1GeSIn6"
      }
    },
    {
      "cell_type": "markdown",
      "source": [
        "Polarity"
      ],
      "metadata": {
        "id": "bropDlEdSLQS"
      }
    },
    {
      "cell_type": "markdown",
      "source": [
        "\n",
        "*   -1 →  Negative\n",
        "*   0 → Neutral\n",
        "*   1 →  Positive\n"
      ],
      "metadata": {
        "id": "YLO2I0MuSOoq"
      }
    },
    {
      "cell_type": "code",
      "source": [
        "# Returns the polarity of the Tweet's text\n",
        "def getPolarity(text):\n",
        "   return  TextBlob(text).sentiment.polarity"
      ],
      "metadata": {
        "id": "gnZ_dLS_RBQo"
      },
      "execution_count": 21,
      "outputs": []
    },
    {
      "cell_type": "code",
      "source": [
        "df['Polarity'] = df['CleanTweet'].apply(getPolarity)"
      ],
      "metadata": {
        "id": "_QWV8dRGRHkE"
      },
      "execution_count": 22,
      "outputs": []
    },
    {
      "cell_type": "code",
      "source": [
        "df"
      ],
      "metadata": {
        "id": "PhWNWRfXRT0U",
        "colab": {
          "base_uri": "https://localhost:8080/",
          "height": 537
        },
        "outputId": "7bbf2b6c-383c-4c00-b63b-7cc1d7b763d9"
      },
      "execution_count": 23,
      "outputs": [
        {
          "output_type": "execute_result",
          "data": {
            "text/plain": [
              "        ID                                              Tweet    Labels  \\\n",
              "0        1  NO JOKE I WILL HOP ON A PLANE RN! (Well after ...      0 10   \n",
              "1        2  BanMediaHouse whose is responsible for spreadi...         6   \n",
              "2        3  Im waiting for someone to say to me that all t...       3 4   \n",
              "3        4  He is a liar. Proven day night. Time again. Li...         6   \n",
              "4        5  NEW: U.S. CoronaVirus death toll reaches 4,000...         8   \n",
              "...    ...                                                ...       ...   \n",
              "4995  4996  Life Insurance? I wonder if policies are payin...     4 5 7   \n",
              "4996  4997  My cousin passed away from the corona virus to...       4 5   \n",
              "4997  4998  I guess Mother Nature really hates us. Yellows...  3 5 9 10   \n",
              "4998  4999  So question for the day that isnt related to c...      9 10   \n",
              "4999  5000  Dear corona, If you cancel my fucking church c...      6 10   \n",
              "\n",
              "                                             CleanTweet  \\\n",
              "0                no joke hop plane rn well  covid19 lol   \n",
              "1     banmediahouse responsible spreading fake commu...   \n",
              "2            waiting corona thing just april fools joke   \n",
              "3     liar proven day night time again lies truth do...   \n",
              "4     new u s    covid19  death toll reaches deaths ...   \n",
              "...                                                 ...   \n",
              "4995  life insurance wonder policies paying out coro...   \n",
              "4996  cousin passed corona virus today today day ple...   \n",
              "4997  guess mother nature really hates us yellowston...   \n",
              "4998  question day isnt    covid19  better banana sa...   \n",
              "4999  dear corona cancel fucking church camp summer ...   \n",
              "\n",
              "                                          List of words  Polarity  \n",
              "0     [no, joke, hop, plane, rn!, (well, covid19, lol)]  0.800000  \n",
              "1     [banmediahouse, responsible, spreading, fake, ... -0.150000  \n",
              "2     [waiting, corona, thing, just, april, fools, j...  0.000000  \n",
              "3     [liar., proven, day, night., time, again., lie...  0.000000  \n",
              "4     [new:, u.s., coronavirus, death, toll, reaches...  0.136364  \n",
              "...                                                 ...       ...  \n",
              "4995  [life, insurance?, wonder, policies, paying, o...  0.000000  \n",
              "4996  [cousin, passed, corona, virus, today., today,...  0.200000  \n",
              "4997  [guess, mother, nature, really, hates, us., ye...  0.200000  \n",
              "4998  [question, day, isnt, coronavirus., better, ba...  0.500000  \n",
              "4999  [dear, corona,, cancel, fucking, church, camp,... -0.600000  \n",
              "\n",
              "[5000 rows x 6 columns]"
            ],
            "text/html": [
              "\n",
              "  <div id=\"df-3cf54b2e-8460-4311-a946-261a0deccd1f\">\n",
              "    <div class=\"colab-df-container\">\n",
              "      <div>\n",
              "<style scoped>\n",
              "    .dataframe tbody tr th:only-of-type {\n",
              "        vertical-align: middle;\n",
              "    }\n",
              "\n",
              "    .dataframe tbody tr th {\n",
              "        vertical-align: top;\n",
              "    }\n",
              "\n",
              "    .dataframe thead th {\n",
              "        text-align: right;\n",
              "    }\n",
              "</style>\n",
              "<table border=\"1\" class=\"dataframe\">\n",
              "  <thead>\n",
              "    <tr style=\"text-align: right;\">\n",
              "      <th></th>\n",
              "      <th>ID</th>\n",
              "      <th>Tweet</th>\n",
              "      <th>Labels</th>\n",
              "      <th>CleanTweet</th>\n",
              "      <th>List of words</th>\n",
              "      <th>Polarity</th>\n",
              "    </tr>\n",
              "  </thead>\n",
              "  <tbody>\n",
              "    <tr>\n",
              "      <th>0</th>\n",
              "      <td>1</td>\n",
              "      <td>NO JOKE I WILL HOP ON A PLANE RN! (Well after ...</td>\n",
              "      <td>0 10</td>\n",
              "      <td>no joke hop plane rn well  covid19 lol</td>\n",
              "      <td>[no, joke, hop, plane, rn!, (well, covid19, lol)]</td>\n",
              "      <td>0.800000</td>\n",
              "    </tr>\n",
              "    <tr>\n",
              "      <th>1</th>\n",
              "      <td>2</td>\n",
              "      <td>BanMediaHouse whose is responsible for spreadi...</td>\n",
              "      <td>6</td>\n",
              "      <td>banmediahouse responsible spreading fake commu...</td>\n",
              "      <td>[banmediahouse, responsible, spreading, fake, ...</td>\n",
              "      <td>-0.150000</td>\n",
              "    </tr>\n",
              "    <tr>\n",
              "      <th>2</th>\n",
              "      <td>3</td>\n",
              "      <td>Im waiting for someone to say to me that all t...</td>\n",
              "      <td>3 4</td>\n",
              "      <td>waiting corona thing just april fools joke</td>\n",
              "      <td>[waiting, corona, thing, just, april, fools, j...</td>\n",
              "      <td>0.000000</td>\n",
              "    </tr>\n",
              "    <tr>\n",
              "      <th>3</th>\n",
              "      <td>4</td>\n",
              "      <td>He is a liar. Proven day night. Time again. Li...</td>\n",
              "      <td>6</td>\n",
              "      <td>liar proven day night time again lies truth do...</td>\n",
              "      <td>[liar., proven, day, night., time, again., lie...</td>\n",
              "      <td>0.000000</td>\n",
              "    </tr>\n",
              "    <tr>\n",
              "      <th>4</th>\n",
              "      <td>5</td>\n",
              "      <td>NEW: U.S. CoronaVirus death toll reaches 4,000...</td>\n",
              "      <td>8</td>\n",
              "      <td>new u s    covid19  death toll reaches deaths ...</td>\n",
              "      <td>[new:, u.s., coronavirus, death, toll, reaches...</td>\n",
              "      <td>0.136364</td>\n",
              "    </tr>\n",
              "    <tr>\n",
              "      <th>...</th>\n",
              "      <td>...</td>\n",
              "      <td>...</td>\n",
              "      <td>...</td>\n",
              "      <td>...</td>\n",
              "      <td>...</td>\n",
              "      <td>...</td>\n",
              "    </tr>\n",
              "    <tr>\n",
              "      <th>4995</th>\n",
              "      <td>4996</td>\n",
              "      <td>Life Insurance? I wonder if policies are payin...</td>\n",
              "      <td>4 5 7</td>\n",
              "      <td>life insurance wonder policies paying out coro...</td>\n",
              "      <td>[life, insurance?, wonder, policies, paying, o...</td>\n",
              "      <td>0.000000</td>\n",
              "    </tr>\n",
              "    <tr>\n",
              "      <th>4996</th>\n",
              "      <td>4997</td>\n",
              "      <td>My cousin passed away from the corona virus to...</td>\n",
              "      <td>4 5</td>\n",
              "      <td>cousin passed corona virus today today day ple...</td>\n",
              "      <td>[cousin, passed, corona, virus, today., today,...</td>\n",
              "      <td>0.200000</td>\n",
              "    </tr>\n",
              "    <tr>\n",
              "      <th>4997</th>\n",
              "      <td>4998</td>\n",
              "      <td>I guess Mother Nature really hates us. Yellows...</td>\n",
              "      <td>3 5 9 10</td>\n",
              "      <td>guess mother nature really hates us yellowston...</td>\n",
              "      <td>[guess, mother, nature, really, hates, us., ye...</td>\n",
              "      <td>0.200000</td>\n",
              "    </tr>\n",
              "    <tr>\n",
              "      <th>4998</th>\n",
              "      <td>4999</td>\n",
              "      <td>So question for the day that isnt related to c...</td>\n",
              "      <td>9 10</td>\n",
              "      <td>question day isnt    covid19  better banana sa...</td>\n",
              "      <td>[question, day, isnt, coronavirus., better, ba...</td>\n",
              "      <td>0.500000</td>\n",
              "    </tr>\n",
              "    <tr>\n",
              "      <th>4999</th>\n",
              "      <td>5000</td>\n",
              "      <td>Dear corona, If you cancel my fucking church c...</td>\n",
              "      <td>6 10</td>\n",
              "      <td>dear corona cancel fucking church camp summer ...</td>\n",
              "      <td>[dear, corona,, cancel, fucking, church, camp,...</td>\n",
              "      <td>-0.600000</td>\n",
              "    </tr>\n",
              "  </tbody>\n",
              "</table>\n",
              "<p>5000 rows × 6 columns</p>\n",
              "</div>\n",
              "      <button class=\"colab-df-convert\" onclick=\"convertToInteractive('df-3cf54b2e-8460-4311-a946-261a0deccd1f')\"\n",
              "              title=\"Convert this dataframe to an interactive table.\"\n",
              "              style=\"display:none;\">\n",
              "        \n",
              "  <svg xmlns=\"http://www.w3.org/2000/svg\" height=\"24px\"viewBox=\"0 0 24 24\"\n",
              "       width=\"24px\">\n",
              "    <path d=\"M0 0h24v24H0V0z\" fill=\"none\"/>\n",
              "    <path d=\"M18.56 5.44l.94 2.06.94-2.06 2.06-.94-2.06-.94-.94-2.06-.94 2.06-2.06.94zm-11 1L8.5 8.5l.94-2.06 2.06-.94-2.06-.94L8.5 2.5l-.94 2.06-2.06.94zm10 10l.94 2.06.94-2.06 2.06-.94-2.06-.94-.94-2.06-.94 2.06-2.06.94z\"/><path d=\"M17.41 7.96l-1.37-1.37c-.4-.4-.92-.59-1.43-.59-.52 0-1.04.2-1.43.59L10.3 9.45l-7.72 7.72c-.78.78-.78 2.05 0 2.83L4 21.41c.39.39.9.59 1.41.59.51 0 1.02-.2 1.41-.59l7.78-7.78 2.81-2.81c.8-.78.8-2.07 0-2.86zM5.41 20L4 18.59l7.72-7.72 1.47 1.35L5.41 20z\"/>\n",
              "  </svg>\n",
              "      </button>\n",
              "      \n",
              "  <style>\n",
              "    .colab-df-container {\n",
              "      display:flex;\n",
              "      flex-wrap:wrap;\n",
              "      gap: 12px;\n",
              "    }\n",
              "\n",
              "    .colab-df-convert {\n",
              "      background-color: #E8F0FE;\n",
              "      border: none;\n",
              "      border-radius: 50%;\n",
              "      cursor: pointer;\n",
              "      display: none;\n",
              "      fill: #1967D2;\n",
              "      height: 32px;\n",
              "      padding: 0 0 0 0;\n",
              "      width: 32px;\n",
              "    }\n",
              "\n",
              "    .colab-df-convert:hover {\n",
              "      background-color: #E2EBFA;\n",
              "      box-shadow: 0px 1px 2px rgba(60, 64, 67, 0.3), 0px 1px 3px 1px rgba(60, 64, 67, 0.15);\n",
              "      fill: #174EA6;\n",
              "    }\n",
              "\n",
              "    [theme=dark] .colab-df-convert {\n",
              "      background-color: #3B4455;\n",
              "      fill: #D2E3FC;\n",
              "    }\n",
              "\n",
              "    [theme=dark] .colab-df-convert:hover {\n",
              "      background-color: #434B5C;\n",
              "      box-shadow: 0px 1px 3px 1px rgba(0, 0, 0, 0.15);\n",
              "      filter: drop-shadow(0px 1px 2px rgba(0, 0, 0, 0.3));\n",
              "      fill: #FFFFFF;\n",
              "    }\n",
              "  </style>\n",
              "\n",
              "      <script>\n",
              "        const buttonEl =\n",
              "          document.querySelector('#df-3cf54b2e-8460-4311-a946-261a0deccd1f button.colab-df-convert');\n",
              "        buttonEl.style.display =\n",
              "          google.colab.kernel.accessAllowed ? 'block' : 'none';\n",
              "\n",
              "        async function convertToInteractive(key) {\n",
              "          const element = document.querySelector('#df-3cf54b2e-8460-4311-a946-261a0deccd1f');\n",
              "          const dataTable =\n",
              "            await google.colab.kernel.invokeFunction('convertToInteractive',\n",
              "                                                     [key], {});\n",
              "          if (!dataTable) return;\n",
              "\n",
              "          const docLinkHtml = 'Like what you see? Visit the ' +\n",
              "            '<a target=\"_blank\" href=https://colab.research.google.com/notebooks/data_table.ipynb>data table notebook</a>'\n",
              "            + ' to learn more about interactive tables.';\n",
              "          element.innerHTML = '';\n",
              "          dataTable['output_type'] = 'display_data';\n",
              "          await google.colab.output.renderOutput(dataTable, element);\n",
              "          const docLink = document.createElement('div');\n",
              "          docLink.innerHTML = docLinkHtml;\n",
              "          element.appendChild(docLink);\n",
              "        }\n",
              "      </script>\n",
              "    </div>\n",
              "  </div>\n",
              "  "
            ]
          },
          "metadata": {},
          "execution_count": 23
        }
      ]
    },
    {
      "cell_type": "markdown",
      "source": [
        "Subjectivity"
      ],
      "metadata": {
        "id": "YCQnmb9sS84Z"
      }
    },
    {
      "cell_type": "markdown",
      "source": [
        "\n",
        "\n",
        "*   0 → fact\n",
        "*   1 → opinion\n",
        "\n"
      ],
      "metadata": {
        "id": "diIu5LXITAUY"
      }
    },
    {
      "cell_type": "code",
      "source": [
        "# Returns the subjectivity of the Tweet's text\n",
        "def getSubjectivity(text):\n",
        "   return TextBlob(text).sentiment.subjectivity"
      ],
      "metadata": {
        "id": "-MoyGoS-THIA"
      },
      "execution_count": 24,
      "outputs": []
    },
    {
      "cell_type": "code",
      "source": [
        "df[\"Subjectivity\"] = df[\"CleanTweet\"].apply(getSubjectivity)\n",
        "df"
      ],
      "metadata": {
        "id": "5XjhrmnoTLCX",
        "colab": {
          "base_uri": "https://localhost:8080/",
          "height": 624
        },
        "outputId": "163a1536-7533-43e7-b9ef-1ff3a455a018"
      },
      "execution_count": 25,
      "outputs": [
        {
          "output_type": "execute_result",
          "data": {
            "text/plain": [
              "        ID                                              Tweet    Labels  \\\n",
              "0        1  NO JOKE I WILL HOP ON A PLANE RN! (Well after ...      0 10   \n",
              "1        2  BanMediaHouse whose is responsible for spreadi...         6   \n",
              "2        3  Im waiting for someone to say to me that all t...       3 4   \n",
              "3        4  He is a liar. Proven day night. Time again. Li...         6   \n",
              "4        5  NEW: U.S. CoronaVirus death toll reaches 4,000...         8   \n",
              "...    ...                                                ...       ...   \n",
              "4995  4996  Life Insurance? I wonder if policies are payin...     4 5 7   \n",
              "4996  4997  My cousin passed away from the corona virus to...       4 5   \n",
              "4997  4998  I guess Mother Nature really hates us. Yellows...  3 5 9 10   \n",
              "4998  4999  So question for the day that isnt related to c...      9 10   \n",
              "4999  5000  Dear corona, If you cancel my fucking church c...      6 10   \n",
              "\n",
              "                                             CleanTweet  \\\n",
              "0                no joke hop plane rn well  covid19 lol   \n",
              "1     banmediahouse responsible spreading fake commu...   \n",
              "2            waiting corona thing just april fools joke   \n",
              "3     liar proven day night time again lies truth do...   \n",
              "4     new u s    covid19  death toll reaches deaths ...   \n",
              "...                                                 ...   \n",
              "4995  life insurance wonder policies paying out coro...   \n",
              "4996  cousin passed corona virus today today day ple...   \n",
              "4997  guess mother nature really hates us yellowston...   \n",
              "4998  question day isnt    covid19  better banana sa...   \n",
              "4999  dear corona cancel fucking church camp summer ...   \n",
              "\n",
              "                                          List of words  Polarity  \\\n",
              "0     [no, joke, hop, plane, rn!, (well, covid19, lol)]  0.800000   \n",
              "1     [banmediahouse, responsible, spreading, fake, ... -0.150000   \n",
              "2     [waiting, corona, thing, just, april, fools, j...  0.000000   \n",
              "3     [liar., proven, day, night., time, again., lie...  0.000000   \n",
              "4     [new:, u.s., coronavirus, death, toll, reaches...  0.136364   \n",
              "...                                                 ...       ...   \n",
              "4995  [life, insurance?, wonder, policies, paying, o...  0.000000   \n",
              "4996  [cousin, passed, corona, virus, today., today,...  0.200000   \n",
              "4997  [guess, mother, nature, really, hates, us., ye...  0.200000   \n",
              "4998  [question, day, isnt, coronavirus., better, ba...  0.500000   \n",
              "4999  [dear, corona,, cancel, fucking, church, camp,... -0.600000   \n",
              "\n",
              "      Subjectivity  \n",
              "0         0.700000  \n",
              "1         0.775000  \n",
              "2         0.000000  \n",
              "3         0.000000  \n",
              "4         0.454545  \n",
              "...            ...  \n",
              "4995      0.000000  \n",
              "4996      0.750000  \n",
              "4997      0.200000  \n",
              "4998      0.500000  \n",
              "4999      0.800000  \n",
              "\n",
              "[5000 rows x 7 columns]"
            ],
            "text/html": [
              "\n",
              "  <div id=\"df-87225cb9-bc5d-4e89-b7d3-12aef8bea47d\">\n",
              "    <div class=\"colab-df-container\">\n",
              "      <div>\n",
              "<style scoped>\n",
              "    .dataframe tbody tr th:only-of-type {\n",
              "        vertical-align: middle;\n",
              "    }\n",
              "\n",
              "    .dataframe tbody tr th {\n",
              "        vertical-align: top;\n",
              "    }\n",
              "\n",
              "    .dataframe thead th {\n",
              "        text-align: right;\n",
              "    }\n",
              "</style>\n",
              "<table border=\"1\" class=\"dataframe\">\n",
              "  <thead>\n",
              "    <tr style=\"text-align: right;\">\n",
              "      <th></th>\n",
              "      <th>ID</th>\n",
              "      <th>Tweet</th>\n",
              "      <th>Labels</th>\n",
              "      <th>CleanTweet</th>\n",
              "      <th>List of words</th>\n",
              "      <th>Polarity</th>\n",
              "      <th>Subjectivity</th>\n",
              "    </tr>\n",
              "  </thead>\n",
              "  <tbody>\n",
              "    <tr>\n",
              "      <th>0</th>\n",
              "      <td>1</td>\n",
              "      <td>NO JOKE I WILL HOP ON A PLANE RN! (Well after ...</td>\n",
              "      <td>0 10</td>\n",
              "      <td>no joke hop plane rn well  covid19 lol</td>\n",
              "      <td>[no, joke, hop, plane, rn!, (well, covid19, lol)]</td>\n",
              "      <td>0.800000</td>\n",
              "      <td>0.700000</td>\n",
              "    </tr>\n",
              "    <tr>\n",
              "      <th>1</th>\n",
              "      <td>2</td>\n",
              "      <td>BanMediaHouse whose is responsible for spreadi...</td>\n",
              "      <td>6</td>\n",
              "      <td>banmediahouse responsible spreading fake commu...</td>\n",
              "      <td>[banmediahouse, responsible, spreading, fake, ...</td>\n",
              "      <td>-0.150000</td>\n",
              "      <td>0.775000</td>\n",
              "    </tr>\n",
              "    <tr>\n",
              "      <th>2</th>\n",
              "      <td>3</td>\n",
              "      <td>Im waiting for someone to say to me that all t...</td>\n",
              "      <td>3 4</td>\n",
              "      <td>waiting corona thing just april fools joke</td>\n",
              "      <td>[waiting, corona, thing, just, april, fools, j...</td>\n",
              "      <td>0.000000</td>\n",
              "      <td>0.000000</td>\n",
              "    </tr>\n",
              "    <tr>\n",
              "      <th>3</th>\n",
              "      <td>4</td>\n",
              "      <td>He is a liar. Proven day night. Time again. Li...</td>\n",
              "      <td>6</td>\n",
              "      <td>liar proven day night time again lies truth do...</td>\n",
              "      <td>[liar., proven, day, night., time, again., lie...</td>\n",
              "      <td>0.000000</td>\n",
              "      <td>0.000000</td>\n",
              "    </tr>\n",
              "    <tr>\n",
              "      <th>4</th>\n",
              "      <td>5</td>\n",
              "      <td>NEW: U.S. CoronaVirus death toll reaches 4,000...</td>\n",
              "      <td>8</td>\n",
              "      <td>new u s    covid19  death toll reaches deaths ...</td>\n",
              "      <td>[new:, u.s., coronavirus, death, toll, reaches...</td>\n",
              "      <td>0.136364</td>\n",
              "      <td>0.454545</td>\n",
              "    </tr>\n",
              "    <tr>\n",
              "      <th>...</th>\n",
              "      <td>...</td>\n",
              "      <td>...</td>\n",
              "      <td>...</td>\n",
              "      <td>...</td>\n",
              "      <td>...</td>\n",
              "      <td>...</td>\n",
              "      <td>...</td>\n",
              "    </tr>\n",
              "    <tr>\n",
              "      <th>4995</th>\n",
              "      <td>4996</td>\n",
              "      <td>Life Insurance? I wonder if policies are payin...</td>\n",
              "      <td>4 5 7</td>\n",
              "      <td>life insurance wonder policies paying out coro...</td>\n",
              "      <td>[life, insurance?, wonder, policies, paying, o...</td>\n",
              "      <td>0.000000</td>\n",
              "      <td>0.000000</td>\n",
              "    </tr>\n",
              "    <tr>\n",
              "      <th>4996</th>\n",
              "      <td>4997</td>\n",
              "      <td>My cousin passed away from the corona virus to...</td>\n",
              "      <td>4 5</td>\n",
              "      <td>cousin passed corona virus today today day ple...</td>\n",
              "      <td>[cousin, passed, corona, virus, today., today,...</td>\n",
              "      <td>0.200000</td>\n",
              "      <td>0.750000</td>\n",
              "    </tr>\n",
              "    <tr>\n",
              "      <th>4997</th>\n",
              "      <td>4998</td>\n",
              "      <td>I guess Mother Nature really hates us. Yellows...</td>\n",
              "      <td>3 5 9 10</td>\n",
              "      <td>guess mother nature really hates us yellowston...</td>\n",
              "      <td>[guess, mother, nature, really, hates, us., ye...</td>\n",
              "      <td>0.200000</td>\n",
              "      <td>0.200000</td>\n",
              "    </tr>\n",
              "    <tr>\n",
              "      <th>4998</th>\n",
              "      <td>4999</td>\n",
              "      <td>So question for the day that isnt related to c...</td>\n",
              "      <td>9 10</td>\n",
              "      <td>question day isnt    covid19  better banana sa...</td>\n",
              "      <td>[question, day, isnt, coronavirus., better, ba...</td>\n",
              "      <td>0.500000</td>\n",
              "      <td>0.500000</td>\n",
              "    </tr>\n",
              "    <tr>\n",
              "      <th>4999</th>\n",
              "      <td>5000</td>\n",
              "      <td>Dear corona, If you cancel my fucking church c...</td>\n",
              "      <td>6 10</td>\n",
              "      <td>dear corona cancel fucking church camp summer ...</td>\n",
              "      <td>[dear, corona,, cancel, fucking, church, camp,...</td>\n",
              "      <td>-0.600000</td>\n",
              "      <td>0.800000</td>\n",
              "    </tr>\n",
              "  </tbody>\n",
              "</table>\n",
              "<p>5000 rows × 7 columns</p>\n",
              "</div>\n",
              "      <button class=\"colab-df-convert\" onclick=\"convertToInteractive('df-87225cb9-bc5d-4e89-b7d3-12aef8bea47d')\"\n",
              "              title=\"Convert this dataframe to an interactive table.\"\n",
              "              style=\"display:none;\">\n",
              "        \n",
              "  <svg xmlns=\"http://www.w3.org/2000/svg\" height=\"24px\"viewBox=\"0 0 24 24\"\n",
              "       width=\"24px\">\n",
              "    <path d=\"M0 0h24v24H0V0z\" fill=\"none\"/>\n",
              "    <path d=\"M18.56 5.44l.94 2.06.94-2.06 2.06-.94-2.06-.94-.94-2.06-.94 2.06-2.06.94zm-11 1L8.5 8.5l.94-2.06 2.06-.94-2.06-.94L8.5 2.5l-.94 2.06-2.06.94zm10 10l.94 2.06.94-2.06 2.06-.94-2.06-.94-.94-2.06-.94 2.06-2.06.94z\"/><path d=\"M17.41 7.96l-1.37-1.37c-.4-.4-.92-.59-1.43-.59-.52 0-1.04.2-1.43.59L10.3 9.45l-7.72 7.72c-.78.78-.78 2.05 0 2.83L4 21.41c.39.39.9.59 1.41.59.51 0 1.02-.2 1.41-.59l7.78-7.78 2.81-2.81c.8-.78.8-2.07 0-2.86zM5.41 20L4 18.59l7.72-7.72 1.47 1.35L5.41 20z\"/>\n",
              "  </svg>\n",
              "      </button>\n",
              "      \n",
              "  <style>\n",
              "    .colab-df-container {\n",
              "      display:flex;\n",
              "      flex-wrap:wrap;\n",
              "      gap: 12px;\n",
              "    }\n",
              "\n",
              "    .colab-df-convert {\n",
              "      background-color: #E8F0FE;\n",
              "      border: none;\n",
              "      border-radius: 50%;\n",
              "      cursor: pointer;\n",
              "      display: none;\n",
              "      fill: #1967D2;\n",
              "      height: 32px;\n",
              "      padding: 0 0 0 0;\n",
              "      width: 32px;\n",
              "    }\n",
              "\n",
              "    .colab-df-convert:hover {\n",
              "      background-color: #E2EBFA;\n",
              "      box-shadow: 0px 1px 2px rgba(60, 64, 67, 0.3), 0px 1px 3px 1px rgba(60, 64, 67, 0.15);\n",
              "      fill: #174EA6;\n",
              "    }\n",
              "\n",
              "    [theme=dark] .colab-df-convert {\n",
              "      background-color: #3B4455;\n",
              "      fill: #D2E3FC;\n",
              "    }\n",
              "\n",
              "    [theme=dark] .colab-df-convert:hover {\n",
              "      background-color: #434B5C;\n",
              "      box-shadow: 0px 1px 3px 1px rgba(0, 0, 0, 0.15);\n",
              "      filter: drop-shadow(0px 1px 2px rgba(0, 0, 0, 0.3));\n",
              "      fill: #FFFFFF;\n",
              "    }\n",
              "  </style>\n",
              "\n",
              "      <script>\n",
              "        const buttonEl =\n",
              "          document.querySelector('#df-87225cb9-bc5d-4e89-b7d3-12aef8bea47d button.colab-df-convert');\n",
              "        buttonEl.style.display =\n",
              "          google.colab.kernel.accessAllowed ? 'block' : 'none';\n",
              "\n",
              "        async function convertToInteractive(key) {\n",
              "          const element = document.querySelector('#df-87225cb9-bc5d-4e89-b7d3-12aef8bea47d');\n",
              "          const dataTable =\n",
              "            await google.colab.kernel.invokeFunction('convertToInteractive',\n",
              "                                                     [key], {});\n",
              "          if (!dataTable) return;\n",
              "\n",
              "          const docLinkHtml = 'Like what you see? Visit the ' +\n",
              "            '<a target=\"_blank\" href=https://colab.research.google.com/notebooks/data_table.ipynb>data table notebook</a>'\n",
              "            + ' to learn more about interactive tables.';\n",
              "          element.innerHTML = '';\n",
              "          dataTable['output_type'] = 'display_data';\n",
              "          await google.colab.output.renderOutput(dataTable, element);\n",
              "          const docLink = document.createElement('div');\n",
              "          docLink.innerHTML = docLinkHtml;\n",
              "          element.appendChild(docLink);\n",
              "        }\n",
              "      </script>\n",
              "    </div>\n",
              "  </div>\n",
              "  "
            ]
          },
          "metadata": {},
          "execution_count": 25
        }
      ]
    },
    {
      "cell_type": "code",
      "source": [
        "df.drop(\"Labels\",axis=1,inplace=True)\n"
      ],
      "metadata": {
        "id": "8P5yLXrqTjdZ"
      },
      "execution_count": 26,
      "outputs": []
    },
    {
      "cell_type": "code",
      "source": [
        "df.head(10)"
      ],
      "metadata": {
        "id": "wZajlDA_T2c3",
        "colab": {
          "base_uri": "https://localhost:8080/",
          "height": 459
        },
        "outputId": "8d3c800a-381c-4e84-d5bd-61de4ec6a7b1"
      },
      "execution_count": 27,
      "outputs": [
        {
          "output_type": "execute_result",
          "data": {
            "text/plain": [
              "   ID                                              Tweet  \\\n",
              "0   1  NO JOKE I WILL HOP ON A PLANE RN! (Well after ...   \n",
              "1   2  BanMediaHouse whose is responsible for spreadi...   \n",
              "2   3  Im waiting for someone to say to me that all t...   \n",
              "3   4  He is a liar. Proven day night. Time again. Li...   \n",
              "4   5  NEW: U.S. CoronaVirus death toll reaches 4,000...   \n",
              "5   6  Coronavirus impact Govt extends I-T deadlines ...   \n",
              "6   7  42,000 people might have died in China from Co...   \n",
              "7   8  Dear Chinese! Kindly cook your bat thoroughly ...   \n",
              "8   9  This is how the govt of kenya is checking the ...   \n",
              "9  10  My mental health hasn't suffered at all under ...   \n",
              "\n",
              "                                          CleanTweet  \\\n",
              "0             no joke hop plane rn well  covid19 lol   \n",
              "1  banmediahouse responsible spreading fake commu...   \n",
              "2         waiting corona thing just april fools joke   \n",
              "3  liar proven day night time again lies truth do...   \n",
              "4  new u s    covid19  death toll reaches deaths ...   \n",
              "5     covid19  impact govt extends i t deadlines ...   \n",
              "6  people might died china  covid19 china underre...   \n",
              "7  dear chinese kindly cook bat time regards  cov...   \n",
              "8  govt kenya checking temperatures  covid19 stil...   \n",
              "9  mental health hasn t suffered    covid19  quar...   \n",
              "\n",
              "                                       List of words  Polarity  Subjectivity  \n",
              "0  [no, joke, hop, plane, rn!, (well, covid19, lol)]  0.800000      0.700000  \n",
              "1  [banmediahouse, responsible, spreading, fake, ... -0.150000      0.775000  \n",
              "2  [waiting, corona, thing, just, april, fools, j...  0.000000      0.000000  \n",
              "3  [liar., proven, day, night., time, again., lie...  0.000000      0.000000  \n",
              "4  [new:, u.s., coronavirus, death, toll, reaches...  0.136364      0.454545  \n",
              "5  [coronavirus, impact, govt, extends, i-t, dead...  0.000000      0.000000  \n",
              "6  [42,000, people, might, died, china, covid19, ...  0.000000      0.000000  \n",
              "7  [dear, chinese!, kindly, cook, bat, time., reg...  0.300000      0.450000  \n",
              "8  [govt, kenya, checking, temperatures, covid19,...  0.000000      0.300000  \n",
              "9  [mental, health, hasn't, suffered, coronavirus... -0.100000      0.200000  "
            ],
            "text/html": [
              "\n",
              "  <div id=\"df-b09f49de-9682-47a4-98a4-98be10629179\">\n",
              "    <div class=\"colab-df-container\">\n",
              "      <div>\n",
              "<style scoped>\n",
              "    .dataframe tbody tr th:only-of-type {\n",
              "        vertical-align: middle;\n",
              "    }\n",
              "\n",
              "    .dataframe tbody tr th {\n",
              "        vertical-align: top;\n",
              "    }\n",
              "\n",
              "    .dataframe thead th {\n",
              "        text-align: right;\n",
              "    }\n",
              "</style>\n",
              "<table border=\"1\" class=\"dataframe\">\n",
              "  <thead>\n",
              "    <tr style=\"text-align: right;\">\n",
              "      <th></th>\n",
              "      <th>ID</th>\n",
              "      <th>Tweet</th>\n",
              "      <th>CleanTweet</th>\n",
              "      <th>List of words</th>\n",
              "      <th>Polarity</th>\n",
              "      <th>Subjectivity</th>\n",
              "    </tr>\n",
              "  </thead>\n",
              "  <tbody>\n",
              "    <tr>\n",
              "      <th>0</th>\n",
              "      <td>1</td>\n",
              "      <td>NO JOKE I WILL HOP ON A PLANE RN! (Well after ...</td>\n",
              "      <td>no joke hop plane rn well  covid19 lol</td>\n",
              "      <td>[no, joke, hop, plane, rn!, (well, covid19, lol)]</td>\n",
              "      <td>0.800000</td>\n",
              "      <td>0.700000</td>\n",
              "    </tr>\n",
              "    <tr>\n",
              "      <th>1</th>\n",
              "      <td>2</td>\n",
              "      <td>BanMediaHouse whose is responsible for spreadi...</td>\n",
              "      <td>banmediahouse responsible spreading fake commu...</td>\n",
              "      <td>[banmediahouse, responsible, spreading, fake, ...</td>\n",
              "      <td>-0.150000</td>\n",
              "      <td>0.775000</td>\n",
              "    </tr>\n",
              "    <tr>\n",
              "      <th>2</th>\n",
              "      <td>3</td>\n",
              "      <td>Im waiting for someone to say to me that all t...</td>\n",
              "      <td>waiting corona thing just april fools joke</td>\n",
              "      <td>[waiting, corona, thing, just, april, fools, j...</td>\n",
              "      <td>0.000000</td>\n",
              "      <td>0.000000</td>\n",
              "    </tr>\n",
              "    <tr>\n",
              "      <th>3</th>\n",
              "      <td>4</td>\n",
              "      <td>He is a liar. Proven day night. Time again. Li...</td>\n",
              "      <td>liar proven day night time again lies truth do...</td>\n",
              "      <td>[liar., proven, day, night., time, again., lie...</td>\n",
              "      <td>0.000000</td>\n",
              "      <td>0.000000</td>\n",
              "    </tr>\n",
              "    <tr>\n",
              "      <th>4</th>\n",
              "      <td>5</td>\n",
              "      <td>NEW: U.S. CoronaVirus death toll reaches 4,000...</td>\n",
              "      <td>new u s    covid19  death toll reaches deaths ...</td>\n",
              "      <td>[new:, u.s., coronavirus, death, toll, reaches...</td>\n",
              "      <td>0.136364</td>\n",
              "      <td>0.454545</td>\n",
              "    </tr>\n",
              "    <tr>\n",
              "      <th>5</th>\n",
              "      <td>6</td>\n",
              "      <td>Coronavirus impact Govt extends I-T deadlines ...</td>\n",
              "      <td>covid19  impact govt extends i t deadlines ...</td>\n",
              "      <td>[coronavirus, impact, govt, extends, i-t, dead...</td>\n",
              "      <td>0.000000</td>\n",
              "      <td>0.000000</td>\n",
              "    </tr>\n",
              "    <tr>\n",
              "      <th>6</th>\n",
              "      <td>7</td>\n",
              "      <td>42,000 people might have died in China from Co...</td>\n",
              "      <td>people might died china  covid19 china underre...</td>\n",
              "      <td>[42,000, people, might, died, china, covid19, ...</td>\n",
              "      <td>0.000000</td>\n",
              "      <td>0.000000</td>\n",
              "    </tr>\n",
              "    <tr>\n",
              "      <th>7</th>\n",
              "      <td>8</td>\n",
              "      <td>Dear Chinese! Kindly cook your bat thoroughly ...</td>\n",
              "      <td>dear chinese kindly cook bat time regards  cov...</td>\n",
              "      <td>[dear, chinese!, kindly, cook, bat, time., reg...</td>\n",
              "      <td>0.300000</td>\n",
              "      <td>0.450000</td>\n",
              "    </tr>\n",
              "    <tr>\n",
              "      <th>8</th>\n",
              "      <td>9</td>\n",
              "      <td>This is how the govt of kenya is checking the ...</td>\n",
              "      <td>govt kenya checking temperatures  covid19 stil...</td>\n",
              "      <td>[govt, kenya, checking, temperatures, covid19,...</td>\n",
              "      <td>0.000000</td>\n",
              "      <td>0.300000</td>\n",
              "    </tr>\n",
              "    <tr>\n",
              "      <th>9</th>\n",
              "      <td>10</td>\n",
              "      <td>My mental health hasn't suffered at all under ...</td>\n",
              "      <td>mental health hasn t suffered    covid19  quar...</td>\n",
              "      <td>[mental, health, hasn't, suffered, coronavirus...</td>\n",
              "      <td>-0.100000</td>\n",
              "      <td>0.200000</td>\n",
              "    </tr>\n",
              "  </tbody>\n",
              "</table>\n",
              "</div>\n",
              "      <button class=\"colab-df-convert\" onclick=\"convertToInteractive('df-b09f49de-9682-47a4-98a4-98be10629179')\"\n",
              "              title=\"Convert this dataframe to an interactive table.\"\n",
              "              style=\"display:none;\">\n",
              "        \n",
              "  <svg xmlns=\"http://www.w3.org/2000/svg\" height=\"24px\"viewBox=\"0 0 24 24\"\n",
              "       width=\"24px\">\n",
              "    <path d=\"M0 0h24v24H0V0z\" fill=\"none\"/>\n",
              "    <path d=\"M18.56 5.44l.94 2.06.94-2.06 2.06-.94-2.06-.94-.94-2.06-.94 2.06-2.06.94zm-11 1L8.5 8.5l.94-2.06 2.06-.94-2.06-.94L8.5 2.5l-.94 2.06-2.06.94zm10 10l.94 2.06.94-2.06 2.06-.94-2.06-.94-.94-2.06-.94 2.06-2.06.94z\"/><path d=\"M17.41 7.96l-1.37-1.37c-.4-.4-.92-.59-1.43-.59-.52 0-1.04.2-1.43.59L10.3 9.45l-7.72 7.72c-.78.78-.78 2.05 0 2.83L4 21.41c.39.39.9.59 1.41.59.51 0 1.02-.2 1.41-.59l7.78-7.78 2.81-2.81c.8-.78.8-2.07 0-2.86zM5.41 20L4 18.59l7.72-7.72 1.47 1.35L5.41 20z\"/>\n",
              "  </svg>\n",
              "      </button>\n",
              "      \n",
              "  <style>\n",
              "    .colab-df-container {\n",
              "      display:flex;\n",
              "      flex-wrap:wrap;\n",
              "      gap: 12px;\n",
              "    }\n",
              "\n",
              "    .colab-df-convert {\n",
              "      background-color: #E8F0FE;\n",
              "      border: none;\n",
              "      border-radius: 50%;\n",
              "      cursor: pointer;\n",
              "      display: none;\n",
              "      fill: #1967D2;\n",
              "      height: 32px;\n",
              "      padding: 0 0 0 0;\n",
              "      width: 32px;\n",
              "    }\n",
              "\n",
              "    .colab-df-convert:hover {\n",
              "      background-color: #E2EBFA;\n",
              "      box-shadow: 0px 1px 2px rgba(60, 64, 67, 0.3), 0px 1px 3px 1px rgba(60, 64, 67, 0.15);\n",
              "      fill: #174EA6;\n",
              "    }\n",
              "\n",
              "    [theme=dark] .colab-df-convert {\n",
              "      background-color: #3B4455;\n",
              "      fill: #D2E3FC;\n",
              "    }\n",
              "\n",
              "    [theme=dark] .colab-df-convert:hover {\n",
              "      background-color: #434B5C;\n",
              "      box-shadow: 0px 1px 3px 1px rgba(0, 0, 0, 0.15);\n",
              "      filter: drop-shadow(0px 1px 2px rgba(0, 0, 0, 0.3));\n",
              "      fill: #FFFFFF;\n",
              "    }\n",
              "  </style>\n",
              "\n",
              "      <script>\n",
              "        const buttonEl =\n",
              "          document.querySelector('#df-b09f49de-9682-47a4-98a4-98be10629179 button.colab-df-convert');\n",
              "        buttonEl.style.display =\n",
              "          google.colab.kernel.accessAllowed ? 'block' : 'none';\n",
              "\n",
              "        async function convertToInteractive(key) {\n",
              "          const element = document.querySelector('#df-b09f49de-9682-47a4-98a4-98be10629179');\n",
              "          const dataTable =\n",
              "            await google.colab.kernel.invokeFunction('convertToInteractive',\n",
              "                                                     [key], {});\n",
              "          if (!dataTable) return;\n",
              "\n",
              "          const docLinkHtml = 'Like what you see? Visit the ' +\n",
              "            '<a target=\"_blank\" href=https://colab.research.google.com/notebooks/data_table.ipynb>data table notebook</a>'\n",
              "            + ' to learn more about interactive tables.';\n",
              "          element.innerHTML = '';\n",
              "          dataTable['output_type'] = 'display_data';\n",
              "          await google.colab.output.renderOutput(dataTable, element);\n",
              "          const docLink = document.createElement('div');\n",
              "          docLink.innerHTML = docLinkHtml;\n",
              "          element.appendChild(docLink);\n",
              "        }\n",
              "      </script>\n",
              "    </div>\n",
              "  </div>\n",
              "  "
            ]
          },
          "metadata": {},
          "execution_count": 27
        }
      ]
    },
    {
      "cell_type": "code",
      "source": [
        "# Returns the analysis of each Tweet's text\n",
        "def getSentiment(polarity):\n",
        "    if polarity < 0:\n",
        "      return 'Negative'\n",
        "    elif polarity == 0:\n",
        "      return 'Neutral'\n",
        "    else:\n",
        "      return 'Positive'"
      ],
      "metadata": {
        "id": "CIx3nHuUUAae"
      },
      "execution_count": 28,
      "outputs": []
    },
    {
      "cell_type": "code",
      "source": [
        "df['Analysis'] = df['Polarity'].apply(getSentiment)\n",
        "df"
      ],
      "metadata": {
        "id": "xFyqfECrUEbF",
        "colab": {
          "base_uri": "https://localhost:8080/",
          "height": 641
        },
        "outputId": "9ed0c480-c21f-461b-dcd2-5ab92348a3b3"
      },
      "execution_count": 29,
      "outputs": [
        {
          "output_type": "execute_result",
          "data": {
            "text/plain": [
              "        ID                                              Tweet  \\\n",
              "0        1  NO JOKE I WILL HOP ON A PLANE RN! (Well after ...   \n",
              "1        2  BanMediaHouse whose is responsible for spreadi...   \n",
              "2        3  Im waiting for someone to say to me that all t...   \n",
              "3        4  He is a liar. Proven day night. Time again. Li...   \n",
              "4        5  NEW: U.S. CoronaVirus death toll reaches 4,000...   \n",
              "...    ...                                                ...   \n",
              "4995  4996  Life Insurance? I wonder if policies are payin...   \n",
              "4996  4997  My cousin passed away from the corona virus to...   \n",
              "4997  4998  I guess Mother Nature really hates us. Yellows...   \n",
              "4998  4999  So question for the day that isnt related to c...   \n",
              "4999  5000  Dear corona, If you cancel my fucking church c...   \n",
              "\n",
              "                                             CleanTweet  \\\n",
              "0                no joke hop plane rn well  covid19 lol   \n",
              "1     banmediahouse responsible spreading fake commu...   \n",
              "2            waiting corona thing just april fools joke   \n",
              "3     liar proven day night time again lies truth do...   \n",
              "4     new u s    covid19  death toll reaches deaths ...   \n",
              "...                                                 ...   \n",
              "4995  life insurance wonder policies paying out coro...   \n",
              "4996  cousin passed corona virus today today day ple...   \n",
              "4997  guess mother nature really hates us yellowston...   \n",
              "4998  question day isnt    covid19  better banana sa...   \n",
              "4999  dear corona cancel fucking church camp summer ...   \n",
              "\n",
              "                                          List of words  Polarity  \\\n",
              "0     [no, joke, hop, plane, rn!, (well, covid19, lol)]  0.800000   \n",
              "1     [banmediahouse, responsible, spreading, fake, ... -0.150000   \n",
              "2     [waiting, corona, thing, just, april, fools, j...  0.000000   \n",
              "3     [liar., proven, day, night., time, again., lie...  0.000000   \n",
              "4     [new:, u.s., coronavirus, death, toll, reaches...  0.136364   \n",
              "...                                                 ...       ...   \n",
              "4995  [life, insurance?, wonder, policies, paying, o...  0.000000   \n",
              "4996  [cousin, passed, corona, virus, today., today,...  0.200000   \n",
              "4997  [guess, mother, nature, really, hates, us., ye...  0.200000   \n",
              "4998  [question, day, isnt, coronavirus., better, ba...  0.500000   \n",
              "4999  [dear, corona,, cancel, fucking, church, camp,... -0.600000   \n",
              "\n",
              "      Subjectivity  Analysis  \n",
              "0         0.700000  Positive  \n",
              "1         0.775000  Negative  \n",
              "2         0.000000   Neutral  \n",
              "3         0.000000   Neutral  \n",
              "4         0.454545  Positive  \n",
              "...            ...       ...  \n",
              "4995      0.000000   Neutral  \n",
              "4996      0.750000  Positive  \n",
              "4997      0.200000  Positive  \n",
              "4998      0.500000  Positive  \n",
              "4999      0.800000  Negative  \n",
              "\n",
              "[5000 rows x 7 columns]"
            ],
            "text/html": [
              "\n",
              "  <div id=\"df-24109613-0e84-4b1b-8a7f-3b0cc0809776\">\n",
              "    <div class=\"colab-df-container\">\n",
              "      <div>\n",
              "<style scoped>\n",
              "    .dataframe tbody tr th:only-of-type {\n",
              "        vertical-align: middle;\n",
              "    }\n",
              "\n",
              "    .dataframe tbody tr th {\n",
              "        vertical-align: top;\n",
              "    }\n",
              "\n",
              "    .dataframe thead th {\n",
              "        text-align: right;\n",
              "    }\n",
              "</style>\n",
              "<table border=\"1\" class=\"dataframe\">\n",
              "  <thead>\n",
              "    <tr style=\"text-align: right;\">\n",
              "      <th></th>\n",
              "      <th>ID</th>\n",
              "      <th>Tweet</th>\n",
              "      <th>CleanTweet</th>\n",
              "      <th>List of words</th>\n",
              "      <th>Polarity</th>\n",
              "      <th>Subjectivity</th>\n",
              "      <th>Analysis</th>\n",
              "    </tr>\n",
              "  </thead>\n",
              "  <tbody>\n",
              "    <tr>\n",
              "      <th>0</th>\n",
              "      <td>1</td>\n",
              "      <td>NO JOKE I WILL HOP ON A PLANE RN! (Well after ...</td>\n",
              "      <td>no joke hop plane rn well  covid19 lol</td>\n",
              "      <td>[no, joke, hop, plane, rn!, (well, covid19, lol)]</td>\n",
              "      <td>0.800000</td>\n",
              "      <td>0.700000</td>\n",
              "      <td>Positive</td>\n",
              "    </tr>\n",
              "    <tr>\n",
              "      <th>1</th>\n",
              "      <td>2</td>\n",
              "      <td>BanMediaHouse whose is responsible for spreadi...</td>\n",
              "      <td>banmediahouse responsible spreading fake commu...</td>\n",
              "      <td>[banmediahouse, responsible, spreading, fake, ...</td>\n",
              "      <td>-0.150000</td>\n",
              "      <td>0.775000</td>\n",
              "      <td>Negative</td>\n",
              "    </tr>\n",
              "    <tr>\n",
              "      <th>2</th>\n",
              "      <td>3</td>\n",
              "      <td>Im waiting for someone to say to me that all t...</td>\n",
              "      <td>waiting corona thing just april fools joke</td>\n",
              "      <td>[waiting, corona, thing, just, april, fools, j...</td>\n",
              "      <td>0.000000</td>\n",
              "      <td>0.000000</td>\n",
              "      <td>Neutral</td>\n",
              "    </tr>\n",
              "    <tr>\n",
              "      <th>3</th>\n",
              "      <td>4</td>\n",
              "      <td>He is a liar. Proven day night. Time again. Li...</td>\n",
              "      <td>liar proven day night time again lies truth do...</td>\n",
              "      <td>[liar., proven, day, night., time, again., lie...</td>\n",
              "      <td>0.000000</td>\n",
              "      <td>0.000000</td>\n",
              "      <td>Neutral</td>\n",
              "    </tr>\n",
              "    <tr>\n",
              "      <th>4</th>\n",
              "      <td>5</td>\n",
              "      <td>NEW: U.S. CoronaVirus death toll reaches 4,000...</td>\n",
              "      <td>new u s    covid19  death toll reaches deaths ...</td>\n",
              "      <td>[new:, u.s., coronavirus, death, toll, reaches...</td>\n",
              "      <td>0.136364</td>\n",
              "      <td>0.454545</td>\n",
              "      <td>Positive</td>\n",
              "    </tr>\n",
              "    <tr>\n",
              "      <th>...</th>\n",
              "      <td>...</td>\n",
              "      <td>...</td>\n",
              "      <td>...</td>\n",
              "      <td>...</td>\n",
              "      <td>...</td>\n",
              "      <td>...</td>\n",
              "      <td>...</td>\n",
              "    </tr>\n",
              "    <tr>\n",
              "      <th>4995</th>\n",
              "      <td>4996</td>\n",
              "      <td>Life Insurance? I wonder if policies are payin...</td>\n",
              "      <td>life insurance wonder policies paying out coro...</td>\n",
              "      <td>[life, insurance?, wonder, policies, paying, o...</td>\n",
              "      <td>0.000000</td>\n",
              "      <td>0.000000</td>\n",
              "      <td>Neutral</td>\n",
              "    </tr>\n",
              "    <tr>\n",
              "      <th>4996</th>\n",
              "      <td>4997</td>\n",
              "      <td>My cousin passed away from the corona virus to...</td>\n",
              "      <td>cousin passed corona virus today today day ple...</td>\n",
              "      <td>[cousin, passed, corona, virus, today., today,...</td>\n",
              "      <td>0.200000</td>\n",
              "      <td>0.750000</td>\n",
              "      <td>Positive</td>\n",
              "    </tr>\n",
              "    <tr>\n",
              "      <th>4997</th>\n",
              "      <td>4998</td>\n",
              "      <td>I guess Mother Nature really hates us. Yellows...</td>\n",
              "      <td>guess mother nature really hates us yellowston...</td>\n",
              "      <td>[guess, mother, nature, really, hates, us., ye...</td>\n",
              "      <td>0.200000</td>\n",
              "      <td>0.200000</td>\n",
              "      <td>Positive</td>\n",
              "    </tr>\n",
              "    <tr>\n",
              "      <th>4998</th>\n",
              "      <td>4999</td>\n",
              "      <td>So question for the day that isnt related to c...</td>\n",
              "      <td>question day isnt    covid19  better banana sa...</td>\n",
              "      <td>[question, day, isnt, coronavirus., better, ba...</td>\n",
              "      <td>0.500000</td>\n",
              "      <td>0.500000</td>\n",
              "      <td>Positive</td>\n",
              "    </tr>\n",
              "    <tr>\n",
              "      <th>4999</th>\n",
              "      <td>5000</td>\n",
              "      <td>Dear corona, If you cancel my fucking church c...</td>\n",
              "      <td>dear corona cancel fucking church camp summer ...</td>\n",
              "      <td>[dear, corona,, cancel, fucking, church, camp,...</td>\n",
              "      <td>-0.600000</td>\n",
              "      <td>0.800000</td>\n",
              "      <td>Negative</td>\n",
              "    </tr>\n",
              "  </tbody>\n",
              "</table>\n",
              "<p>5000 rows × 7 columns</p>\n",
              "</div>\n",
              "      <button class=\"colab-df-convert\" onclick=\"convertToInteractive('df-24109613-0e84-4b1b-8a7f-3b0cc0809776')\"\n",
              "              title=\"Convert this dataframe to an interactive table.\"\n",
              "              style=\"display:none;\">\n",
              "        \n",
              "  <svg xmlns=\"http://www.w3.org/2000/svg\" height=\"24px\"viewBox=\"0 0 24 24\"\n",
              "       width=\"24px\">\n",
              "    <path d=\"M0 0h24v24H0V0z\" fill=\"none\"/>\n",
              "    <path d=\"M18.56 5.44l.94 2.06.94-2.06 2.06-.94-2.06-.94-.94-2.06-.94 2.06-2.06.94zm-11 1L8.5 8.5l.94-2.06 2.06-.94-2.06-.94L8.5 2.5l-.94 2.06-2.06.94zm10 10l.94 2.06.94-2.06 2.06-.94-2.06-.94-.94-2.06-.94 2.06-2.06.94z\"/><path d=\"M17.41 7.96l-1.37-1.37c-.4-.4-.92-.59-1.43-.59-.52 0-1.04.2-1.43.59L10.3 9.45l-7.72 7.72c-.78.78-.78 2.05 0 2.83L4 21.41c.39.39.9.59 1.41.59.51 0 1.02-.2 1.41-.59l7.78-7.78 2.81-2.81c.8-.78.8-2.07 0-2.86zM5.41 20L4 18.59l7.72-7.72 1.47 1.35L5.41 20z\"/>\n",
              "  </svg>\n",
              "      </button>\n",
              "      \n",
              "  <style>\n",
              "    .colab-df-container {\n",
              "      display:flex;\n",
              "      flex-wrap:wrap;\n",
              "      gap: 12px;\n",
              "    }\n",
              "\n",
              "    .colab-df-convert {\n",
              "      background-color: #E8F0FE;\n",
              "      border: none;\n",
              "      border-radius: 50%;\n",
              "      cursor: pointer;\n",
              "      display: none;\n",
              "      fill: #1967D2;\n",
              "      height: 32px;\n",
              "      padding: 0 0 0 0;\n",
              "      width: 32px;\n",
              "    }\n",
              "\n",
              "    .colab-df-convert:hover {\n",
              "      background-color: #E2EBFA;\n",
              "      box-shadow: 0px 1px 2px rgba(60, 64, 67, 0.3), 0px 1px 3px 1px rgba(60, 64, 67, 0.15);\n",
              "      fill: #174EA6;\n",
              "    }\n",
              "\n",
              "    [theme=dark] .colab-df-convert {\n",
              "      background-color: #3B4455;\n",
              "      fill: #D2E3FC;\n",
              "    }\n",
              "\n",
              "    [theme=dark] .colab-df-convert:hover {\n",
              "      background-color: #434B5C;\n",
              "      box-shadow: 0px 1px 3px 1px rgba(0, 0, 0, 0.15);\n",
              "      filter: drop-shadow(0px 1px 2px rgba(0, 0, 0, 0.3));\n",
              "      fill: #FFFFFF;\n",
              "    }\n",
              "  </style>\n",
              "\n",
              "      <script>\n",
              "        const buttonEl =\n",
              "          document.querySelector('#df-24109613-0e84-4b1b-8a7f-3b0cc0809776 button.colab-df-convert');\n",
              "        buttonEl.style.display =\n",
              "          google.colab.kernel.accessAllowed ? 'block' : 'none';\n",
              "\n",
              "        async function convertToInteractive(key) {\n",
              "          const element = document.querySelector('#df-24109613-0e84-4b1b-8a7f-3b0cc0809776');\n",
              "          const dataTable =\n",
              "            await google.colab.kernel.invokeFunction('convertToInteractive',\n",
              "                                                     [key], {});\n",
              "          if (!dataTable) return;\n",
              "\n",
              "          const docLinkHtml = 'Like what you see? Visit the ' +\n",
              "            '<a target=\"_blank\" href=https://colab.research.google.com/notebooks/data_table.ipynb>data table notebook</a>'\n",
              "            + ' to learn more about interactive tables.';\n",
              "          element.innerHTML = '';\n",
              "          dataTable['output_type'] = 'display_data';\n",
              "          await google.colab.output.renderOutput(dataTable, element);\n",
              "          const docLink = document.createElement('div');\n",
              "          docLink.innerHTML = docLinkHtml;\n",
              "          element.appendChild(docLink);\n",
              "        }\n",
              "      </script>\n",
              "    </div>\n",
              "  </div>\n",
              "  "
            ]
          },
          "metadata": {},
          "execution_count": 29
        }
      ]
    },
    {
      "cell_type": "markdown",
      "source": [
        "Analysis"
      ],
      "metadata": {
        "id": "O62vzNjLUS7q"
      }
    },
    {
      "cell_type": "code",
      "source": [
        "positive_tweets = df.loc[df[\"Analysis\"] == \"Positive\"]\n",
        "neutral_tweets = df.loc[df[\"Analysis\"] == \"Neutral\"]\n",
        "negative_tweets = df.loc[df[\"Analysis\"] == \"Negative\"]"
      ],
      "metadata": {
        "id": "gPcXmhUGUR37"
      },
      "execution_count": 30,
      "outputs": []
    },
    {
      "cell_type": "code",
      "source": [
        "positive_tweets.head()\n"
      ],
      "metadata": {
        "id": "GN5_AQ-eTK8-",
        "colab": {
          "base_uri": "https://localhost:8080/",
          "height": 337
        },
        "outputId": "60c93950-8cd4-4736-e403-4e7391b69f38"
      },
      "execution_count": 31,
      "outputs": [
        {
          "output_type": "execute_result",
          "data": {
            "text/plain": [
              "    ID                                              Tweet  \\\n",
              "0    1  NO JOKE I WILL HOP ON A PLANE RN! (Well after ...   \n",
              "4    5  NEW: U.S. CoronaVirus death toll reaches 4,000...   \n",
              "7    8  Dear Chinese! Kindly cook your bat thoroughly ...   \n",
              "10  11  i cannot die before watching a concert live co...   \n",
              "13  14  Just heard that my Oncle in France has the Cov...   \n",
              "\n",
              "                                           CleanTweet  \\\n",
              "0              no joke hop plane rn well  covid19 lol   \n",
              "4   new u s    covid19  death toll reaches deaths ...   \n",
              "7   dear chinese kindly cook bat time regards  cov...   \n",
              "10  cannot die watching concert live corona virus ...   \n",
              "13  just heard oncle france  covid19 coma critical...   \n",
              "\n",
              "                                        List of words  Polarity  Subjectivity  \\\n",
              "0   [no, joke, hop, plane, rn!, (well, covid19, lol)]  0.800000      0.700000   \n",
              "4   [new:, u.s., coronavirus, death, toll, reaches...  0.136364      0.454545   \n",
              "7   [dear, chinese!, kindly, cook, bat, time., reg...  0.300000      0.450000   \n",
              "10  [cannot, die, watching, concert, live, corona,...  0.136364      0.500000   \n",
              "13  [just, heard, oncle, france, covid19, coma, cr...  0.133333      0.433333   \n",
              "\n",
              "    Analysis  \n",
              "0   Positive  \n",
              "4   Positive  \n",
              "7   Positive  \n",
              "10  Positive  \n",
              "13  Positive  "
            ],
            "text/html": [
              "\n",
              "  <div id=\"df-a53a8081-5d58-4ef1-ba50-119f078fb397\">\n",
              "    <div class=\"colab-df-container\">\n",
              "      <div>\n",
              "<style scoped>\n",
              "    .dataframe tbody tr th:only-of-type {\n",
              "        vertical-align: middle;\n",
              "    }\n",
              "\n",
              "    .dataframe tbody tr th {\n",
              "        vertical-align: top;\n",
              "    }\n",
              "\n",
              "    .dataframe thead th {\n",
              "        text-align: right;\n",
              "    }\n",
              "</style>\n",
              "<table border=\"1\" class=\"dataframe\">\n",
              "  <thead>\n",
              "    <tr style=\"text-align: right;\">\n",
              "      <th></th>\n",
              "      <th>ID</th>\n",
              "      <th>Tweet</th>\n",
              "      <th>CleanTweet</th>\n",
              "      <th>List of words</th>\n",
              "      <th>Polarity</th>\n",
              "      <th>Subjectivity</th>\n",
              "      <th>Analysis</th>\n",
              "    </tr>\n",
              "  </thead>\n",
              "  <tbody>\n",
              "    <tr>\n",
              "      <th>0</th>\n",
              "      <td>1</td>\n",
              "      <td>NO JOKE I WILL HOP ON A PLANE RN! (Well after ...</td>\n",
              "      <td>no joke hop plane rn well  covid19 lol</td>\n",
              "      <td>[no, joke, hop, plane, rn!, (well, covid19, lol)]</td>\n",
              "      <td>0.800000</td>\n",
              "      <td>0.700000</td>\n",
              "      <td>Positive</td>\n",
              "    </tr>\n",
              "    <tr>\n",
              "      <th>4</th>\n",
              "      <td>5</td>\n",
              "      <td>NEW: U.S. CoronaVirus death toll reaches 4,000...</td>\n",
              "      <td>new u s    covid19  death toll reaches deaths ...</td>\n",
              "      <td>[new:, u.s., coronavirus, death, toll, reaches...</td>\n",
              "      <td>0.136364</td>\n",
              "      <td>0.454545</td>\n",
              "      <td>Positive</td>\n",
              "    </tr>\n",
              "    <tr>\n",
              "      <th>7</th>\n",
              "      <td>8</td>\n",
              "      <td>Dear Chinese! Kindly cook your bat thoroughly ...</td>\n",
              "      <td>dear chinese kindly cook bat time regards  cov...</td>\n",
              "      <td>[dear, chinese!, kindly, cook, bat, time., reg...</td>\n",
              "      <td>0.300000</td>\n",
              "      <td>0.450000</td>\n",
              "      <td>Positive</td>\n",
              "    </tr>\n",
              "    <tr>\n",
              "      <th>10</th>\n",
              "      <td>11</td>\n",
              "      <td>i cannot die before watching a concert live co...</td>\n",
              "      <td>cannot die watching concert live corona virus ...</td>\n",
              "      <td>[cannot, die, watching, concert, live, corona,...</td>\n",
              "      <td>0.136364</td>\n",
              "      <td>0.500000</td>\n",
              "      <td>Positive</td>\n",
              "    </tr>\n",
              "    <tr>\n",
              "      <th>13</th>\n",
              "      <td>14</td>\n",
              "      <td>Just heard that my Oncle in France has the Cov...</td>\n",
              "      <td>just heard oncle france  covid19 coma critical...</td>\n",
              "      <td>[just, heard, oncle, france, covid19, coma, cr...</td>\n",
              "      <td>0.133333</td>\n",
              "      <td>0.433333</td>\n",
              "      <td>Positive</td>\n",
              "    </tr>\n",
              "  </tbody>\n",
              "</table>\n",
              "</div>\n",
              "      <button class=\"colab-df-convert\" onclick=\"convertToInteractive('df-a53a8081-5d58-4ef1-ba50-119f078fb397')\"\n",
              "              title=\"Convert this dataframe to an interactive table.\"\n",
              "              style=\"display:none;\">\n",
              "        \n",
              "  <svg xmlns=\"http://www.w3.org/2000/svg\" height=\"24px\"viewBox=\"0 0 24 24\"\n",
              "       width=\"24px\">\n",
              "    <path d=\"M0 0h24v24H0V0z\" fill=\"none\"/>\n",
              "    <path d=\"M18.56 5.44l.94 2.06.94-2.06 2.06-.94-2.06-.94-.94-2.06-.94 2.06-2.06.94zm-11 1L8.5 8.5l.94-2.06 2.06-.94-2.06-.94L8.5 2.5l-.94 2.06-2.06.94zm10 10l.94 2.06.94-2.06 2.06-.94-2.06-.94-.94-2.06-.94 2.06-2.06.94z\"/><path d=\"M17.41 7.96l-1.37-1.37c-.4-.4-.92-.59-1.43-.59-.52 0-1.04.2-1.43.59L10.3 9.45l-7.72 7.72c-.78.78-.78 2.05 0 2.83L4 21.41c.39.39.9.59 1.41.59.51 0 1.02-.2 1.41-.59l7.78-7.78 2.81-2.81c.8-.78.8-2.07 0-2.86zM5.41 20L4 18.59l7.72-7.72 1.47 1.35L5.41 20z\"/>\n",
              "  </svg>\n",
              "      </button>\n",
              "      \n",
              "  <style>\n",
              "    .colab-df-container {\n",
              "      display:flex;\n",
              "      flex-wrap:wrap;\n",
              "      gap: 12px;\n",
              "    }\n",
              "\n",
              "    .colab-df-convert {\n",
              "      background-color: #E8F0FE;\n",
              "      border: none;\n",
              "      border-radius: 50%;\n",
              "      cursor: pointer;\n",
              "      display: none;\n",
              "      fill: #1967D2;\n",
              "      height: 32px;\n",
              "      padding: 0 0 0 0;\n",
              "      width: 32px;\n",
              "    }\n",
              "\n",
              "    .colab-df-convert:hover {\n",
              "      background-color: #E2EBFA;\n",
              "      box-shadow: 0px 1px 2px rgba(60, 64, 67, 0.3), 0px 1px 3px 1px rgba(60, 64, 67, 0.15);\n",
              "      fill: #174EA6;\n",
              "    }\n",
              "\n",
              "    [theme=dark] .colab-df-convert {\n",
              "      background-color: #3B4455;\n",
              "      fill: #D2E3FC;\n",
              "    }\n",
              "\n",
              "    [theme=dark] .colab-df-convert:hover {\n",
              "      background-color: #434B5C;\n",
              "      box-shadow: 0px 1px 3px 1px rgba(0, 0, 0, 0.15);\n",
              "      filter: drop-shadow(0px 1px 2px rgba(0, 0, 0, 0.3));\n",
              "      fill: #FFFFFF;\n",
              "    }\n",
              "  </style>\n",
              "\n",
              "      <script>\n",
              "        const buttonEl =\n",
              "          document.querySelector('#df-a53a8081-5d58-4ef1-ba50-119f078fb397 button.colab-df-convert');\n",
              "        buttonEl.style.display =\n",
              "          google.colab.kernel.accessAllowed ? 'block' : 'none';\n",
              "\n",
              "        async function convertToInteractive(key) {\n",
              "          const element = document.querySelector('#df-a53a8081-5d58-4ef1-ba50-119f078fb397');\n",
              "          const dataTable =\n",
              "            await google.colab.kernel.invokeFunction('convertToInteractive',\n",
              "                                                     [key], {});\n",
              "          if (!dataTable) return;\n",
              "\n",
              "          const docLinkHtml = 'Like what you see? Visit the ' +\n",
              "            '<a target=\"_blank\" href=https://colab.research.google.com/notebooks/data_table.ipynb>data table notebook</a>'\n",
              "            + ' to learn more about interactive tables.';\n",
              "          element.innerHTML = '';\n",
              "          dataTable['output_type'] = 'display_data';\n",
              "          await google.colab.output.renderOutput(dataTable, element);\n",
              "          const docLink = document.createElement('div');\n",
              "          docLink.innerHTML = docLinkHtml;\n",
              "          element.appendChild(docLink);\n",
              "        }\n",
              "      </script>\n",
              "    </div>\n",
              "  </div>\n",
              "  "
            ]
          },
          "metadata": {},
          "execution_count": 31
        }
      ]
    },
    {
      "cell_type": "code",
      "source": [
        "negative_tweets.head()"
      ],
      "metadata": {
        "id": "YD2sZ1MhTRx1",
        "colab": {
          "base_uri": "https://localhost:8080/",
          "height": 337
        },
        "outputId": "630469ad-7999-4b63-d6ff-49d5a761f7de"
      },
      "execution_count": 32,
      "outputs": [
        {
          "output_type": "execute_result",
          "data": {
            "text/plain": [
              "    ID                                              Tweet  \\\n",
              "1    2  BanMediaHouse whose is responsible for spreadi...   \n",
              "9   10  My mental health hasn't suffered at all under ...   \n",
              "11  12  you are a complete wanker, and I hope you die ...   \n",
              "20  21  if i dont survive this corona virus pandemic t...   \n",
              "32  33  neighbours, if u can hear me coughing, it's be...   \n",
              "\n",
              "                                           CleanTweet  \\\n",
              "1   banmediahouse responsible spreading fake commu...   \n",
              "9   mental health hasn t suffered    covid19  quar...   \n",
              "11  complete wanker hope die    covid19  fucking d...   \n",
              "20  dont survive corona virus pandemic just dumb b...   \n",
              "32  neighbours can hear coughing water down wrong ...   \n",
              "\n",
              "                                        List of words  Polarity  Subjectivity  \\\n",
              "1   [banmediahouse, responsible, spreading, fake, ... -0.150000      0.775000   \n",
              "9   [mental, health, hasn't, suffered, coronavirus... -0.100000      0.200000   \n",
              "11  [complete, wanker,, hope, die, coronavirus., f... -0.250000      0.600000   \n",
              "20  [dont, survive, corona, virus, pandemic, just,... -0.287500      0.250000   \n",
              "32  [neighbours,, can, hear, coughing,, water, dow... -0.327778      0.594444   \n",
              "\n",
              "    Analysis  \n",
              "1   Negative  \n",
              "9   Negative  \n",
              "11  Negative  \n",
              "20  Negative  \n",
              "32  Negative  "
            ],
            "text/html": [
              "\n",
              "  <div id=\"df-fe40666d-3edd-4cdf-9617-5db942179d90\">\n",
              "    <div class=\"colab-df-container\">\n",
              "      <div>\n",
              "<style scoped>\n",
              "    .dataframe tbody tr th:only-of-type {\n",
              "        vertical-align: middle;\n",
              "    }\n",
              "\n",
              "    .dataframe tbody tr th {\n",
              "        vertical-align: top;\n",
              "    }\n",
              "\n",
              "    .dataframe thead th {\n",
              "        text-align: right;\n",
              "    }\n",
              "</style>\n",
              "<table border=\"1\" class=\"dataframe\">\n",
              "  <thead>\n",
              "    <tr style=\"text-align: right;\">\n",
              "      <th></th>\n",
              "      <th>ID</th>\n",
              "      <th>Tweet</th>\n",
              "      <th>CleanTweet</th>\n",
              "      <th>List of words</th>\n",
              "      <th>Polarity</th>\n",
              "      <th>Subjectivity</th>\n",
              "      <th>Analysis</th>\n",
              "    </tr>\n",
              "  </thead>\n",
              "  <tbody>\n",
              "    <tr>\n",
              "      <th>1</th>\n",
              "      <td>2</td>\n",
              "      <td>BanMediaHouse whose is responsible for spreadi...</td>\n",
              "      <td>banmediahouse responsible spreading fake commu...</td>\n",
              "      <td>[banmediahouse, responsible, spreading, fake, ...</td>\n",
              "      <td>-0.150000</td>\n",
              "      <td>0.775000</td>\n",
              "      <td>Negative</td>\n",
              "    </tr>\n",
              "    <tr>\n",
              "      <th>9</th>\n",
              "      <td>10</td>\n",
              "      <td>My mental health hasn't suffered at all under ...</td>\n",
              "      <td>mental health hasn t suffered    covid19  quar...</td>\n",
              "      <td>[mental, health, hasn't, suffered, coronavirus...</td>\n",
              "      <td>-0.100000</td>\n",
              "      <td>0.200000</td>\n",
              "      <td>Negative</td>\n",
              "    </tr>\n",
              "    <tr>\n",
              "      <th>11</th>\n",
              "      <td>12</td>\n",
              "      <td>you are a complete wanker, and I hope you die ...</td>\n",
              "      <td>complete wanker hope die    covid19  fucking d...</td>\n",
              "      <td>[complete, wanker,, hope, die, coronavirus., f...</td>\n",
              "      <td>-0.250000</td>\n",
              "      <td>0.600000</td>\n",
              "      <td>Negative</td>\n",
              "    </tr>\n",
              "    <tr>\n",
              "      <th>20</th>\n",
              "      <td>21</td>\n",
              "      <td>if i dont survive this corona virus pandemic t...</td>\n",
              "      <td>dont survive corona virus pandemic just dumb b...</td>\n",
              "      <td>[dont, survive, corona, virus, pandemic, just,...</td>\n",
              "      <td>-0.287500</td>\n",
              "      <td>0.250000</td>\n",
              "      <td>Negative</td>\n",
              "    </tr>\n",
              "    <tr>\n",
              "      <th>32</th>\n",
              "      <td>33</td>\n",
              "      <td>neighbours, if u can hear me coughing, it's be...</td>\n",
              "      <td>neighbours can hear coughing water down wrong ...</td>\n",
              "      <td>[neighbours,, can, hear, coughing,, water, dow...</td>\n",
              "      <td>-0.327778</td>\n",
              "      <td>0.594444</td>\n",
              "      <td>Negative</td>\n",
              "    </tr>\n",
              "  </tbody>\n",
              "</table>\n",
              "</div>\n",
              "      <button class=\"colab-df-convert\" onclick=\"convertToInteractive('df-fe40666d-3edd-4cdf-9617-5db942179d90')\"\n",
              "              title=\"Convert this dataframe to an interactive table.\"\n",
              "              style=\"display:none;\">\n",
              "        \n",
              "  <svg xmlns=\"http://www.w3.org/2000/svg\" height=\"24px\"viewBox=\"0 0 24 24\"\n",
              "       width=\"24px\">\n",
              "    <path d=\"M0 0h24v24H0V0z\" fill=\"none\"/>\n",
              "    <path d=\"M18.56 5.44l.94 2.06.94-2.06 2.06-.94-2.06-.94-.94-2.06-.94 2.06-2.06.94zm-11 1L8.5 8.5l.94-2.06 2.06-.94-2.06-.94L8.5 2.5l-.94 2.06-2.06.94zm10 10l.94 2.06.94-2.06 2.06-.94-2.06-.94-.94-2.06-.94 2.06-2.06.94z\"/><path d=\"M17.41 7.96l-1.37-1.37c-.4-.4-.92-.59-1.43-.59-.52 0-1.04.2-1.43.59L10.3 9.45l-7.72 7.72c-.78.78-.78 2.05 0 2.83L4 21.41c.39.39.9.59 1.41.59.51 0 1.02-.2 1.41-.59l7.78-7.78 2.81-2.81c.8-.78.8-2.07 0-2.86zM5.41 20L4 18.59l7.72-7.72 1.47 1.35L5.41 20z\"/>\n",
              "  </svg>\n",
              "      </button>\n",
              "      \n",
              "  <style>\n",
              "    .colab-df-container {\n",
              "      display:flex;\n",
              "      flex-wrap:wrap;\n",
              "      gap: 12px;\n",
              "    }\n",
              "\n",
              "    .colab-df-convert {\n",
              "      background-color: #E8F0FE;\n",
              "      border: none;\n",
              "      border-radius: 50%;\n",
              "      cursor: pointer;\n",
              "      display: none;\n",
              "      fill: #1967D2;\n",
              "      height: 32px;\n",
              "      padding: 0 0 0 0;\n",
              "      width: 32px;\n",
              "    }\n",
              "\n",
              "    .colab-df-convert:hover {\n",
              "      background-color: #E2EBFA;\n",
              "      box-shadow: 0px 1px 2px rgba(60, 64, 67, 0.3), 0px 1px 3px 1px rgba(60, 64, 67, 0.15);\n",
              "      fill: #174EA6;\n",
              "    }\n",
              "\n",
              "    [theme=dark] .colab-df-convert {\n",
              "      background-color: #3B4455;\n",
              "      fill: #D2E3FC;\n",
              "    }\n",
              "\n",
              "    [theme=dark] .colab-df-convert:hover {\n",
              "      background-color: #434B5C;\n",
              "      box-shadow: 0px 1px 3px 1px rgba(0, 0, 0, 0.15);\n",
              "      filter: drop-shadow(0px 1px 2px rgba(0, 0, 0, 0.3));\n",
              "      fill: #FFFFFF;\n",
              "    }\n",
              "  </style>\n",
              "\n",
              "      <script>\n",
              "        const buttonEl =\n",
              "          document.querySelector('#df-fe40666d-3edd-4cdf-9617-5db942179d90 button.colab-df-convert');\n",
              "        buttonEl.style.display =\n",
              "          google.colab.kernel.accessAllowed ? 'block' : 'none';\n",
              "\n",
              "        async function convertToInteractive(key) {\n",
              "          const element = document.querySelector('#df-fe40666d-3edd-4cdf-9617-5db942179d90');\n",
              "          const dataTable =\n",
              "            await google.colab.kernel.invokeFunction('convertToInteractive',\n",
              "                                                     [key], {});\n",
              "          if (!dataTable) return;\n",
              "\n",
              "          const docLinkHtml = 'Like what you see? Visit the ' +\n",
              "            '<a target=\"_blank\" href=https://colab.research.google.com/notebooks/data_table.ipynb>data table notebook</a>'\n",
              "            + ' to learn more about interactive tables.';\n",
              "          element.innerHTML = '';\n",
              "          dataTable['output_type'] = 'display_data';\n",
              "          await google.colab.output.renderOutput(dataTable, element);\n",
              "          const docLink = document.createElement('div');\n",
              "          docLink.innerHTML = docLinkHtml;\n",
              "          element.appendChild(docLink);\n",
              "        }\n",
              "      </script>\n",
              "    </div>\n",
              "  </div>\n",
              "  "
            ]
          },
          "metadata": {},
          "execution_count": 32
        }
      ]
    },
    {
      "cell_type": "markdown",
      "source": [
        "Explore the Data"
      ],
      "metadata": {
        "id": "p9qH1G7vX7hX"
      }
    },
    {
      "cell_type": "code",
      "source": [
        "df"
      ],
      "metadata": {
        "id": "OWyF96RTX8tO",
        "colab": {
          "base_uri": "https://localhost:8080/",
          "height": 641
        },
        "outputId": "c565c29f-06fe-4d6e-cb2d-e4117d8d3126"
      },
      "execution_count": 33,
      "outputs": [
        {
          "output_type": "execute_result",
          "data": {
            "text/plain": [
              "        ID                                              Tweet  \\\n",
              "0        1  NO JOKE I WILL HOP ON A PLANE RN! (Well after ...   \n",
              "1        2  BanMediaHouse whose is responsible for spreadi...   \n",
              "2        3  Im waiting for someone to say to me that all t...   \n",
              "3        4  He is a liar. Proven day night. Time again. Li...   \n",
              "4        5  NEW: U.S. CoronaVirus death toll reaches 4,000...   \n",
              "...    ...                                                ...   \n",
              "4995  4996  Life Insurance? I wonder if policies are payin...   \n",
              "4996  4997  My cousin passed away from the corona virus to...   \n",
              "4997  4998  I guess Mother Nature really hates us. Yellows...   \n",
              "4998  4999  So question for the day that isnt related to c...   \n",
              "4999  5000  Dear corona, If you cancel my fucking church c...   \n",
              "\n",
              "                                             CleanTweet  \\\n",
              "0                no joke hop plane rn well  covid19 lol   \n",
              "1     banmediahouse responsible spreading fake commu...   \n",
              "2            waiting corona thing just april fools joke   \n",
              "3     liar proven day night time again lies truth do...   \n",
              "4     new u s    covid19  death toll reaches deaths ...   \n",
              "...                                                 ...   \n",
              "4995  life insurance wonder policies paying out coro...   \n",
              "4996  cousin passed corona virus today today day ple...   \n",
              "4997  guess mother nature really hates us yellowston...   \n",
              "4998  question day isnt    covid19  better banana sa...   \n",
              "4999  dear corona cancel fucking church camp summer ...   \n",
              "\n",
              "                                          List of words  Polarity  \\\n",
              "0     [no, joke, hop, plane, rn!, (well, covid19, lol)]  0.800000   \n",
              "1     [banmediahouse, responsible, spreading, fake, ... -0.150000   \n",
              "2     [waiting, corona, thing, just, april, fools, j...  0.000000   \n",
              "3     [liar., proven, day, night., time, again., lie...  0.000000   \n",
              "4     [new:, u.s., coronavirus, death, toll, reaches...  0.136364   \n",
              "...                                                 ...       ...   \n",
              "4995  [life, insurance?, wonder, policies, paying, o...  0.000000   \n",
              "4996  [cousin, passed, corona, virus, today., today,...  0.200000   \n",
              "4997  [guess, mother, nature, really, hates, us., ye...  0.200000   \n",
              "4998  [question, day, isnt, coronavirus., better, ba...  0.500000   \n",
              "4999  [dear, corona,, cancel, fucking, church, camp,... -0.600000   \n",
              "\n",
              "      Subjectivity  Analysis  \n",
              "0         0.700000  Positive  \n",
              "1         0.775000  Negative  \n",
              "2         0.000000   Neutral  \n",
              "3         0.000000   Neutral  \n",
              "4         0.454545  Positive  \n",
              "...            ...       ...  \n",
              "4995      0.000000   Neutral  \n",
              "4996      0.750000  Positive  \n",
              "4997      0.200000  Positive  \n",
              "4998      0.500000  Positive  \n",
              "4999      0.800000  Negative  \n",
              "\n",
              "[5000 rows x 7 columns]"
            ],
            "text/html": [
              "\n",
              "  <div id=\"df-af8b0066-930f-4e63-8842-ac958bf147ad\">\n",
              "    <div class=\"colab-df-container\">\n",
              "      <div>\n",
              "<style scoped>\n",
              "    .dataframe tbody tr th:only-of-type {\n",
              "        vertical-align: middle;\n",
              "    }\n",
              "\n",
              "    .dataframe tbody tr th {\n",
              "        vertical-align: top;\n",
              "    }\n",
              "\n",
              "    .dataframe thead th {\n",
              "        text-align: right;\n",
              "    }\n",
              "</style>\n",
              "<table border=\"1\" class=\"dataframe\">\n",
              "  <thead>\n",
              "    <tr style=\"text-align: right;\">\n",
              "      <th></th>\n",
              "      <th>ID</th>\n",
              "      <th>Tweet</th>\n",
              "      <th>CleanTweet</th>\n",
              "      <th>List of words</th>\n",
              "      <th>Polarity</th>\n",
              "      <th>Subjectivity</th>\n",
              "      <th>Analysis</th>\n",
              "    </tr>\n",
              "  </thead>\n",
              "  <tbody>\n",
              "    <tr>\n",
              "      <th>0</th>\n",
              "      <td>1</td>\n",
              "      <td>NO JOKE I WILL HOP ON A PLANE RN! (Well after ...</td>\n",
              "      <td>no joke hop plane rn well  covid19 lol</td>\n",
              "      <td>[no, joke, hop, plane, rn!, (well, covid19, lol)]</td>\n",
              "      <td>0.800000</td>\n",
              "      <td>0.700000</td>\n",
              "      <td>Positive</td>\n",
              "    </tr>\n",
              "    <tr>\n",
              "      <th>1</th>\n",
              "      <td>2</td>\n",
              "      <td>BanMediaHouse whose is responsible for spreadi...</td>\n",
              "      <td>banmediahouse responsible spreading fake commu...</td>\n",
              "      <td>[banmediahouse, responsible, spreading, fake, ...</td>\n",
              "      <td>-0.150000</td>\n",
              "      <td>0.775000</td>\n",
              "      <td>Negative</td>\n",
              "    </tr>\n",
              "    <tr>\n",
              "      <th>2</th>\n",
              "      <td>3</td>\n",
              "      <td>Im waiting for someone to say to me that all t...</td>\n",
              "      <td>waiting corona thing just april fools joke</td>\n",
              "      <td>[waiting, corona, thing, just, april, fools, j...</td>\n",
              "      <td>0.000000</td>\n",
              "      <td>0.000000</td>\n",
              "      <td>Neutral</td>\n",
              "    </tr>\n",
              "    <tr>\n",
              "      <th>3</th>\n",
              "      <td>4</td>\n",
              "      <td>He is a liar. Proven day night. Time again. Li...</td>\n",
              "      <td>liar proven day night time again lies truth do...</td>\n",
              "      <td>[liar., proven, day, night., time, again., lie...</td>\n",
              "      <td>0.000000</td>\n",
              "      <td>0.000000</td>\n",
              "      <td>Neutral</td>\n",
              "    </tr>\n",
              "    <tr>\n",
              "      <th>4</th>\n",
              "      <td>5</td>\n",
              "      <td>NEW: U.S. CoronaVirus death toll reaches 4,000...</td>\n",
              "      <td>new u s    covid19  death toll reaches deaths ...</td>\n",
              "      <td>[new:, u.s., coronavirus, death, toll, reaches...</td>\n",
              "      <td>0.136364</td>\n",
              "      <td>0.454545</td>\n",
              "      <td>Positive</td>\n",
              "    </tr>\n",
              "    <tr>\n",
              "      <th>...</th>\n",
              "      <td>...</td>\n",
              "      <td>...</td>\n",
              "      <td>...</td>\n",
              "      <td>...</td>\n",
              "      <td>...</td>\n",
              "      <td>...</td>\n",
              "      <td>...</td>\n",
              "    </tr>\n",
              "    <tr>\n",
              "      <th>4995</th>\n",
              "      <td>4996</td>\n",
              "      <td>Life Insurance? I wonder if policies are payin...</td>\n",
              "      <td>life insurance wonder policies paying out coro...</td>\n",
              "      <td>[life, insurance?, wonder, policies, paying, o...</td>\n",
              "      <td>0.000000</td>\n",
              "      <td>0.000000</td>\n",
              "      <td>Neutral</td>\n",
              "    </tr>\n",
              "    <tr>\n",
              "      <th>4996</th>\n",
              "      <td>4997</td>\n",
              "      <td>My cousin passed away from the corona virus to...</td>\n",
              "      <td>cousin passed corona virus today today day ple...</td>\n",
              "      <td>[cousin, passed, corona, virus, today., today,...</td>\n",
              "      <td>0.200000</td>\n",
              "      <td>0.750000</td>\n",
              "      <td>Positive</td>\n",
              "    </tr>\n",
              "    <tr>\n",
              "      <th>4997</th>\n",
              "      <td>4998</td>\n",
              "      <td>I guess Mother Nature really hates us. Yellows...</td>\n",
              "      <td>guess mother nature really hates us yellowston...</td>\n",
              "      <td>[guess, mother, nature, really, hates, us., ye...</td>\n",
              "      <td>0.200000</td>\n",
              "      <td>0.200000</td>\n",
              "      <td>Positive</td>\n",
              "    </tr>\n",
              "    <tr>\n",
              "      <th>4998</th>\n",
              "      <td>4999</td>\n",
              "      <td>So question for the day that isnt related to c...</td>\n",
              "      <td>question day isnt    covid19  better banana sa...</td>\n",
              "      <td>[question, day, isnt, coronavirus., better, ba...</td>\n",
              "      <td>0.500000</td>\n",
              "      <td>0.500000</td>\n",
              "      <td>Positive</td>\n",
              "    </tr>\n",
              "    <tr>\n",
              "      <th>4999</th>\n",
              "      <td>5000</td>\n",
              "      <td>Dear corona, If you cancel my fucking church c...</td>\n",
              "      <td>dear corona cancel fucking church camp summer ...</td>\n",
              "      <td>[dear, corona,, cancel, fucking, church, camp,...</td>\n",
              "      <td>-0.600000</td>\n",
              "      <td>0.800000</td>\n",
              "      <td>Negative</td>\n",
              "    </tr>\n",
              "  </tbody>\n",
              "</table>\n",
              "<p>5000 rows × 7 columns</p>\n",
              "</div>\n",
              "      <button class=\"colab-df-convert\" onclick=\"convertToInteractive('df-af8b0066-930f-4e63-8842-ac958bf147ad')\"\n",
              "              title=\"Convert this dataframe to an interactive table.\"\n",
              "              style=\"display:none;\">\n",
              "        \n",
              "  <svg xmlns=\"http://www.w3.org/2000/svg\" height=\"24px\"viewBox=\"0 0 24 24\"\n",
              "       width=\"24px\">\n",
              "    <path d=\"M0 0h24v24H0V0z\" fill=\"none\"/>\n",
              "    <path d=\"M18.56 5.44l.94 2.06.94-2.06 2.06-.94-2.06-.94-.94-2.06-.94 2.06-2.06.94zm-11 1L8.5 8.5l.94-2.06 2.06-.94-2.06-.94L8.5 2.5l-.94 2.06-2.06.94zm10 10l.94 2.06.94-2.06 2.06-.94-2.06-.94-.94-2.06-.94 2.06-2.06.94z\"/><path d=\"M17.41 7.96l-1.37-1.37c-.4-.4-.92-.59-1.43-.59-.52 0-1.04.2-1.43.59L10.3 9.45l-7.72 7.72c-.78.78-.78 2.05 0 2.83L4 21.41c.39.39.9.59 1.41.59.51 0 1.02-.2 1.41-.59l7.78-7.78 2.81-2.81c.8-.78.8-2.07 0-2.86zM5.41 20L4 18.59l7.72-7.72 1.47 1.35L5.41 20z\"/>\n",
              "  </svg>\n",
              "      </button>\n",
              "      \n",
              "  <style>\n",
              "    .colab-df-container {\n",
              "      display:flex;\n",
              "      flex-wrap:wrap;\n",
              "      gap: 12px;\n",
              "    }\n",
              "\n",
              "    .colab-df-convert {\n",
              "      background-color: #E8F0FE;\n",
              "      border: none;\n",
              "      border-radius: 50%;\n",
              "      cursor: pointer;\n",
              "      display: none;\n",
              "      fill: #1967D2;\n",
              "      height: 32px;\n",
              "      padding: 0 0 0 0;\n",
              "      width: 32px;\n",
              "    }\n",
              "\n",
              "    .colab-df-convert:hover {\n",
              "      background-color: #E2EBFA;\n",
              "      box-shadow: 0px 1px 2px rgba(60, 64, 67, 0.3), 0px 1px 3px 1px rgba(60, 64, 67, 0.15);\n",
              "      fill: #174EA6;\n",
              "    }\n",
              "\n",
              "    [theme=dark] .colab-df-convert {\n",
              "      background-color: #3B4455;\n",
              "      fill: #D2E3FC;\n",
              "    }\n",
              "\n",
              "    [theme=dark] .colab-df-convert:hover {\n",
              "      background-color: #434B5C;\n",
              "      box-shadow: 0px 1px 3px 1px rgba(0, 0, 0, 0.15);\n",
              "      filter: drop-shadow(0px 1px 2px rgba(0, 0, 0, 0.3));\n",
              "      fill: #FFFFFF;\n",
              "    }\n",
              "  </style>\n",
              "\n",
              "      <script>\n",
              "        const buttonEl =\n",
              "          document.querySelector('#df-af8b0066-930f-4e63-8842-ac958bf147ad button.colab-df-convert');\n",
              "        buttonEl.style.display =\n",
              "          google.colab.kernel.accessAllowed ? 'block' : 'none';\n",
              "\n",
              "        async function convertToInteractive(key) {\n",
              "          const element = document.querySelector('#df-af8b0066-930f-4e63-8842-ac958bf147ad');\n",
              "          const dataTable =\n",
              "            await google.colab.kernel.invokeFunction('convertToInteractive',\n",
              "                                                     [key], {});\n",
              "          if (!dataTable) return;\n",
              "\n",
              "          const docLinkHtml = 'Like what you see? Visit the ' +\n",
              "            '<a target=\"_blank\" href=https://colab.research.google.com/notebooks/data_table.ipynb>data table notebook</a>'\n",
              "            + ' to learn more about interactive tables.';\n",
              "          element.innerHTML = '';\n",
              "          dataTable['output_type'] = 'display_data';\n",
              "          await google.colab.output.renderOutput(dataTable, element);\n",
              "          const docLink = document.createElement('div');\n",
              "          docLink.innerHTML = docLinkHtml;\n",
              "          element.appendChild(docLink);\n",
              "        }\n",
              "      </script>\n",
              "    </div>\n",
              "  </div>\n",
              "  "
            ]
          },
          "metadata": {},
          "execution_count": 33
        }
      ]
    },
    {
      "cell_type": "markdown",
      "source": [
        "Explore the Data¶\n"
      ],
      "metadata": {
        "id": "ysyOte91YNP3"
      }
    },
    {
      "cell_type": "code",
      "source": [
        "temp = df.groupby('Analysis').count()['CleanTweet'].reset_index().sort_values(by='CleanTweet',ascending=False)\n",
        "temp.style.background_gradient(cmap='Purples')"
      ],
      "metadata": {
        "id": "zieq645LX88u",
        "colab": {
          "base_uri": "https://localhost:8080/",
          "height": 143
        },
        "outputId": "df9ec70a-402a-4689-e6d7-7aa3c4398061"
      },
      "execution_count": 34,
      "outputs": [
        {
          "output_type": "execute_result",
          "data": {
            "text/plain": [
              "<pandas.io.formats.style.Styler at 0x7f82c65aa8d0>"
            ],
            "text/html": [
              "<style type=\"text/css\">\n",
              "#T_6cc1b_row0_col1 {\n",
              "  background-color: #3f007d;\n",
              "  color: #f1f1f1;\n",
              "}\n",
              "#T_6cc1b_row1_col1 {\n",
              "  background-color: #a29fcb;\n",
              "  color: #f1f1f1;\n",
              "}\n",
              "#T_6cc1b_row2_col1 {\n",
              "  background-color: #fcfbfd;\n",
              "  color: #000000;\n",
              "}\n",
              "</style>\n",
              "<table id=\"T_6cc1b_\" class=\"dataframe\">\n",
              "  <thead>\n",
              "    <tr>\n",
              "      <th class=\"blank level0\" >&nbsp;</th>\n",
              "      <th class=\"col_heading level0 col0\" >Analysis</th>\n",
              "      <th class=\"col_heading level0 col1\" >CleanTweet</th>\n",
              "    </tr>\n",
              "  </thead>\n",
              "  <tbody>\n",
              "    <tr>\n",
              "      <th id=\"T_6cc1b_level0_row0\" class=\"row_heading level0 row0\" >1</th>\n",
              "      <td id=\"T_6cc1b_row0_col0\" class=\"data row0 col0\" >Neutral</td>\n",
              "      <td id=\"T_6cc1b_row0_col1\" class=\"data row0 col1\" >2088</td>\n",
              "    </tr>\n",
              "    <tr>\n",
              "      <th id=\"T_6cc1b_level0_row1\" class=\"row_heading level0 row1\" >2</th>\n",
              "      <td id=\"T_6cc1b_row1_col0\" class=\"data row1 col0\" >Positive</td>\n",
              "      <td id=\"T_6cc1b_row1_col1\" class=\"data row1 col1\" >1656</td>\n",
              "    </tr>\n",
              "    <tr>\n",
              "      <th id=\"T_6cc1b_level0_row2\" class=\"row_heading level0 row2\" >0</th>\n",
              "      <td id=\"T_6cc1b_row2_col0\" class=\"data row2 col0\" >Negative</td>\n",
              "      <td id=\"T_6cc1b_row2_col1\" class=\"data row2 col1\" >1256</td>\n",
              "    </tr>\n",
              "  </tbody>\n",
              "</table>\n"
            ]
          },
          "metadata": {},
          "execution_count": 34
        }
      ]
    },
    {
      "cell_type": "code",
      "source": [
        "plt.figure(figsize=(12,6))\n",
        "sns.countplot(x='Analysis',data=df)"
      ],
      "metadata": {
        "id": "Dt_WGyNIX8_T",
        "colab": {
          "base_uri": "https://localhost:8080/",
          "height": 405
        },
        "outputId": "a8d7e45d-62ac-4bbe-bba0-411265942ed1"
      },
      "execution_count": 35,
      "outputs": [
        {
          "output_type": "execute_result",
          "data": {
            "text/plain": [
              "<matplotlib.axes._subplots.AxesSubplot at 0x7f82c65b5890>"
            ]
          },
          "metadata": {},
          "execution_count": 35
        },
        {
          "output_type": "display_data",
          "data": {
            "text/plain": [
              "<Figure size 864x432 with 1 Axes>"
            ],
            "image/png": "[encoded data removed]"
          },
          "metadata": {
            "needs_background": "light"
          }
        }
      ]
    },
    {
      "cell_type": "markdown",
      "source": [
        "Most Common Words¶\n"
      ],
      "metadata": {
        "id": "N9PgsxHiYzS7"
      }
    },
    {
      "cell_type": "code",
      "source": [
        "from collections import Counter\n",
        "cnt = Counter()\n",
        "for text in df[\"CleanTweet\"].values:\n",
        "    for word in text.split():\n",
        "        cnt[word] += 1\n",
        "        \n",
        "cnt.most_common(10)"
      ],
      "metadata": {
        "id": "9rKHaeHRYwf4",
        "colab": {
          "base_uri": "https://localhost:8080/"
        },
        "outputId": "c9e0ab42-fb50-4daf-c527-bee99b009029"
      },
      "execution_count": 36,
      "outputs": [
        {
          "output_type": "execute_result",
          "data": {
            "text/plain": [
              "[('covid19', 3374),\n",
              " ('corona', 2138),\n",
              " ('virus', 736),\n",
              " ('april', 672),\n",
              " ('fools', 493),\n",
              " ('just', 468),\n",
              " ('not', 409),\n",
              " ('can', 341),\n",
              " ('out', 313),\n",
              " ('people', 307)]"
            ]
          },
          "metadata": {},
          "execution_count": 36
        }
      ]
    },
    {
      "cell_type": "code",
      "source": [
        "def get_n_words(corpus, direction, n):\n",
        "    vec = CountVectorizer().fit(corpus)\n",
        "    bag_of_words = vec.transform(corpus)\n",
        "    sum_words = bag_of_words.sum(axis=0) \n",
        "    words_freq = [(word, sum_words[0, idx]) for word, idx in vec.vocabulary_.items()]\n",
        "    if direction == \"top\":\n",
        "        words_freq =sorted(words_freq, key = lambda x: x[1], reverse=True)\n",
        "    else:\n",
        "        words_freq =sorted(words_freq, key = lambda x: x[1], reverse=False)\n",
        "    return words_freq[:n]"
      ],
      "metadata": {
        "id": "lr1cdo98Y6rE"
      },
      "execution_count": 37,
      "outputs": []
    },
    {
      "cell_type": "code",
      "source": [
        "from sklearn.feature_extraction.text import CountVectorizer\n",
        "common_words = get_n_words(df['CleanTweet'], \"top\", 15)\n",
        "rare_words = get_n_words(df['CleanTweet'], \"bottom\", 15)"
      ],
      "metadata": {
        "id": "M4Ln1i15Y7oh"
      },
      "execution_count": 38,
      "outputs": []
    },
    {
      "cell_type": "code",
      "source": [
        "common_words = dict(common_words)\n",
        "names = list(common_words.keys())\n",
        "values = list(common_words.values())\n",
        "plt.subplots(figsize = (15,10))\n",
        "bars = plt.bar(range(len(common_words)),values,tick_label=names)\n",
        "plt.title('15 most common words:')\n",
        "for bar in bars:\n",
        "    yval = bar.get_height()\n",
        "    plt.text(bar.get_x(), yval + .01, yval)\n",
        "plt.show()"
      ],
      "metadata": {
        "id": "1Q8Qt8UiY7q3",
        "colab": {
          "base_uri": "https://localhost:8080/",
          "height": 607
        },
        "outputId": "aef11bb0-1db0-4df9-c00f-80a4c8c21552"
      },
      "execution_count": 39,
      "outputs": [
        {
          "output_type": "display_data",
          "data": {
            "text/plain": [
              "<Figure size 1080x720 with 1 Axes>"
            ],
            "image/png": "[encoded data removed]"
          },
          "metadata": {
            "needs_background": "light"
          }
        }
      ]
    },
    {
      "cell_type": "markdown",
      "source": [
        "Wordclouds"
      ],
      "metadata": {
        "id": "oCCLxlacZDhj"
      }
    },
    {
      "cell_type": "code",
      "source": [
        "# Get all the pozitive and negative tweets\n",
        "Positive = df[df.Analysis =='Positive']\n",
        "Negative = df[df.Analysis=='Negative']\n",
        "Neutral = df[df.Analysis=='Neutral']\n",
        "# Create numpy list to visualize using wordcloud\n",
        "positive_text = \" \".join(Positive.CleanTweet.to_numpy().tolist())\n",
        "negative_text = \" \".join(Negative.CleanTweet.to_numpy().tolist())\n",
        "neutral_text = \" \".join(Neutral.CleanTweet.to_numpy().tolist())"
      ],
      "metadata": {
        "id": "x_l1yw6ZY7tp"
      },
      "execution_count": 40,
      "outputs": []
    },
    {
      "cell_type": "markdown",
      "source": [
        "Get length column for each text¶\n"
      ],
      "metadata": {
        "id": "zcutGh7sZWvb"
      }
    },
    {
      "cell_type": "code",
      "source": [
        "df['text_length'] = df['CleanTweet'].apply(len)\n",
        "#Calculate average length by label types\n",
        "labels = df.groupby('Analysis').mean()\n",
        "labels"
      ],
      "metadata": {
        "id": "Oavi3t7wZKt5",
        "colab": {
          "base_uri": "https://localhost:8080/",
          "height": 175
        },
        "outputId": "a0b00ed4-0640-4936-d36c-f4e6c62d4f85"
      },
      "execution_count": 41,
      "outputs": [
        {
          "output_type": "execute_result",
          "data": {
            "text/plain": [
              "                   ID  Polarity  Subjectivity  text_length\n",
              "Analysis                                                  \n",
              "Negative  2552.537420 -0.317251      0.626416    63.495223\n",
              "Neutral   2480.670498  0.000000      0.077888    61.344349\n",
              "Positive  2486.034420  0.331021      0.555897    65.409420"
            ],
            "text/html": [
              "\n",
              "  <div id=\"df-236b17c2-5108-4eb2-bb99-6ed3b9154ff2\">\n",
              "    <div class=\"colab-df-container\">\n",
              "      <div>\n",
              "<style scoped>\n",
              "    .dataframe tbody tr th:only-of-type {\n",
              "        vertical-align: middle;\n",
              "    }\n",
              "\n",
              "    .dataframe tbody tr th {\n",
              "        vertical-align: top;\n",
              "    }\n",
              "\n",
              "    .dataframe thead th {\n",
              "        text-align: right;\n",
              "    }\n",
              "</style>\n",
              "<table border=\"1\" class=\"dataframe\">\n",
              "  <thead>\n",
              "    <tr style=\"text-align: right;\">\n",
              "      <th></th>\n",
              "      <th>ID</th>\n",
              "      <th>Polarity</th>\n",
              "      <th>Subjectivity</th>\n",
              "      <th>text_length</th>\n",
              "    </tr>\n",
              "    <tr>\n",
              "      <th>Analysis</th>\n",
              "      <th></th>\n",
              "      <th></th>\n",
              "      <th></th>\n",
              "      <th></th>\n",
              "    </tr>\n",
              "  </thead>\n",
              "  <tbody>\n",
              "    <tr>\n",
              "      <th>Negative</th>\n",
              "      <td>2552.537420</td>\n",
              "      <td>-0.317251</td>\n",
              "      <td>0.626416</td>\n",
              "      <td>63.495223</td>\n",
              "    </tr>\n",
              "    <tr>\n",
              "      <th>Neutral</th>\n",
              "      <td>2480.670498</td>\n",
              "      <td>0.000000</td>\n",
              "      <td>0.077888</td>\n",
              "      <td>61.344349</td>\n",
              "    </tr>\n",
              "    <tr>\n",
              "      <th>Positive</th>\n",
              "      <td>2486.034420</td>\n",
              "      <td>0.331021</td>\n",
              "      <td>0.555897</td>\n",
              "      <td>65.409420</td>\n",
              "    </tr>\n",
              "  </tbody>\n",
              "</table>\n",
              "</div>\n",
              "      <button class=\"colab-df-convert\" onclick=\"convertToInteractive('df-236b17c2-5108-4eb2-bb99-6ed3b9154ff2')\"\n",
              "              title=\"Convert this dataframe to an interactive table.\"\n",
              "              style=\"display:none;\">\n",
              "        \n",
              "  <svg xmlns=\"http://www.w3.org/2000/svg\" height=\"24px\"viewBox=\"0 0 24 24\"\n",
              "       width=\"24px\">\n",
              "    <path d=\"M0 0h24v24H0V0z\" fill=\"none\"/>\n",
              "    <path d=\"M18.56 5.44l.94 2.06.94-2.06 2.06-.94-2.06-.94-.94-2.06-.94 2.06-2.06.94zm-11 1L8.5 8.5l.94-2.06 2.06-.94-2.06-.94L8.5 2.5l-.94 2.06-2.06.94zm10 10l.94 2.06.94-2.06 2.06-.94-2.06-.94-.94-2.06-.94 2.06-2.06.94z\"/><path d=\"M17.41 7.96l-1.37-1.37c-.4-.4-.92-.59-1.43-.59-.52 0-1.04.2-1.43.59L10.3 9.45l-7.72 7.72c-.78.78-.78 2.05 0 2.83L4 21.41c.39.39.9.59 1.41.59.51 0 1.02-.2 1.41-.59l7.78-7.78 2.81-2.81c.8-.78.8-2.07 0-2.86zM5.41 20L4 18.59l7.72-7.72 1.47 1.35L5.41 20z\"/>\n",
              "  </svg>\n",
              "      </button>\n",
              "      \n",
              "  <style>\n",
              "    .colab-df-container {\n",
              "      display:flex;\n",
              "      flex-wrap:wrap;\n",
              "      gap: 12px;\n",
              "    }\n",
              "\n",
              "    .colab-df-convert {\n",
              "      background-color: #E8F0FE;\n",
              "      border: none;\n",
              "      border-radius: 50%;\n",
              "      cursor: pointer;\n",
              "      display: none;\n",
              "      fill: #1967D2;\n",
              "      height: 32px;\n",
              "      padding: 0 0 0 0;\n",
              "      width: 32px;\n",
              "    }\n",
              "\n",
              "    .colab-df-convert:hover {\n",
              "      background-color: #E2EBFA;\n",
              "      box-shadow: 0px 1px 2px rgba(60, 64, 67, 0.3), 0px 1px 3px 1px rgba(60, 64, 67, 0.15);\n",
              "      fill: #174EA6;\n",
              "    }\n",
              "\n",
              "    [theme=dark] .colab-df-convert {\n",
              "      background-color: #3B4455;\n",
              "      fill: #D2E3FC;\n",
              "    }\n",
              "\n",
              "    [theme=dark] .colab-df-convert:hover {\n",
              "      background-color: #434B5C;\n",
              "      box-shadow: 0px 1px 3px 1px rgba(0, 0, 0, 0.15);\n",
              "      filter: drop-shadow(0px 1px 2px rgba(0, 0, 0, 0.3));\n",
              "      fill: #FFFFFF;\n",
              "    }\n",
              "  </style>\n",
              "\n",
              "      <script>\n",
              "        const buttonEl =\n",
              "          document.querySelector('#df-236b17c2-5108-4eb2-bb99-6ed3b9154ff2 button.colab-df-convert');\n",
              "        buttonEl.style.display =\n",
              "          google.colab.kernel.accessAllowed ? 'block' : 'none';\n",
              "\n",
              "        async function convertToInteractive(key) {\n",
              "          const element = document.querySelector('#df-236b17c2-5108-4eb2-bb99-6ed3b9154ff2');\n",
              "          const dataTable =\n",
              "            await google.colab.kernel.invokeFunction('convertToInteractive',\n",
              "                                                     [key], {});\n",
              "          if (!dataTable) return;\n",
              "\n",
              "          const docLinkHtml = 'Like what you see? Visit the ' +\n",
              "            '<a target=\"_blank\" href=https://colab.research.google.com/notebooks/data_table.ipynb>data table notebook</a>'\n",
              "            + ' to learn more about interactive tables.';\n",
              "          element.innerHTML = '';\n",
              "          dataTable['output_type'] = 'display_data';\n",
              "          await google.colab.output.renderOutput(dataTable, element);\n",
              "          const docLink = document.createElement('div');\n",
              "          docLink.innerHTML = docLinkHtml;\n",
              "          element.appendChild(docLink);\n",
              "        }\n",
              "      </script>\n",
              "    </div>\n",
              "  </div>\n",
              "  "
            ]
          },
          "metadata": {},
          "execution_count": 41
        }
      ]
    },
    {
      "cell_type": "code",
      "source": [
        "sns.catplot(x=\"Analysis\", y=\"text_length\",hue=\"Analysis\", data=df);"
      ],
      "metadata": {
        "id": "UCCzyDp0ZdCv",
        "colab": {
          "base_uri": "https://localhost:8080/",
          "height": 369
        },
        "outputId": "905260e6-2f62-45c8-884d-fce593a76076"
      },
      "execution_count": 42,
      "outputs": [
        {
          "output_type": "display_data",
          "data": {
            "text/plain": [
              "<Figure size 360x360 with 1 Axes>"
            ],
            "image/png": "[encoded data removed]"
          },
          "metadata": {
            "needs_background": "light"
          }
        }
      ]
    },
    {
      "cell_type": "code",
      "source": [
        "sns.jointplot(x=df['text_length'], y=df['Analysis']);"
      ],
      "metadata": {
        "id": "FFTPFgtUZdFK",
        "colab": {
          "base_uri": "https://localhost:8080/",
          "height": 441
        },
        "outputId": "921e2275-242d-44e8-eed4-28684c71abe1"
      },
      "execution_count": 43,
      "outputs": [
        {
          "output_type": "display_data",
          "data": {
            "text/plain": [
              "<Figure size 432x432 with 3 Axes>"
            ],
            "image/png": "[encoded data removed]"
          },
          "metadata": {
            "needs_background": "light"
          }
        }
      ]
    },
    {
      "cell_type": "markdown",
      "source": [
        "Tokenize"
      ],
      "metadata": {
        "id": "oLIMaq64Zqyo"
      }
    },
    {
      "cell_type": "code",
      "source": [
        "df['CleanTweet'] = df['CleanTweet'].apply(word_tokenize)\n",
        "display(df['CleanTweet'].head(5))"
      ],
      "metadata": {
        "id": "OBQYXRRdZr8P",
        "colab": {
          "base_uri": "https://localhost:8080/",
          "height": 121
        },
        "outputId": "9de504ff-093d-444b-99c6-b7f4f87e70e4"
      },
      "execution_count": 44,
      "outputs": [
        {
          "output_type": "display_data",
          "data": {
            "text/plain": [
              "0       [no, joke, hop, plane, rn, well, covid19, lol]\n",
              "1    [banmediahouse, responsible, spreading, fake, ...\n",
              "2    [waiting, corona, thing, just, april, fools, j...\n",
              "3    [liar, proven, day, night, time, again, lies, ...\n",
              "4    [new, u, s, covid19, death, toll, reaches, dea...\n",
              "Name: CleanTweet, dtype: object"
            ]
          },
          "metadata": {}
        }
      ]
    },
    {
      "cell_type": "markdown",
      "source": [
        "Lemmatizer"
      ],
      "metadata": {
        "id": "2btjYuIoZyaR"
      }
    },
    {
      "cell_type": "code",
      "source": [
        "import nltk\n",
        "nltk.download(\"popular\")"
      ],
      "metadata": {
        "id": "jsqWtWxIaM_P",
        "colab": {
          "base_uri": "https://localhost:8080/"
        },
        "outputId": "c0b0d4b7-ebb2-4813-ea2f-2cfff109a07e"
      },
      "execution_count": 45,
      "outputs": [
        {
          "output_type": "stream",
          "name": "stderr",
          "text": [
            "[nltk_data] Downloading collection 'popular'\n",
            "[nltk_data]    | \n",
            "[nltk_data]    | Downloading package cmudict to /root/nltk_data...\n",
            "[nltk_data]    |   Package cmudict is already up-to-date!\n",
            "[nltk_data]    | Downloading package gazetteers to /root/nltk_data...\n",
            "[nltk_data]    |   Package gazetteers is already up-to-date!\n",
            "[nltk_data]    | Downloading package genesis to /root/nltk_data...\n",
            "[nltk_data]    |   Package genesis is already up-to-date!\n",
            "[nltk_data]    | Downloading package gutenberg to /root/nltk_data...\n",
            "[nltk_data]    |   Package gutenberg is already up-to-date!\n",
            "[nltk_data]    | Downloading package inaugural to /root/nltk_data...\n",
            "[nltk_data]    |   Package inaugural is already up-to-date!\n",
            "[nltk_data]    | Downloading package movie_reviews to\n",
            "[nltk_data]    |     /root/nltk_data...\n",
            "[nltk_data]    |   Package movie_reviews is already up-to-date!\n",
            "[nltk_data]    | Downloading package names to /root/nltk_data...\n",
            "[nltk_data]    |   Package names is already up-to-date!\n",
            "[nltk_data]    | Downloading package shakespeare to /root/nltk_data...\n",
            "[nltk_data]    |   Package shakespeare is already up-to-date!\n",
            "[nltk_data]    | Downloading package stopwords to /root/nltk_data...\n",
            "[nltk_data]    |   Package stopwords is already up-to-date!\n",
            "[nltk_data]    | Downloading package treebank to /root/nltk_data...\n",
            "[nltk_data]    |   Package treebank is already up-to-date!\n",
            "[nltk_data]    | Downloading package twitter_samples to\n",
            "[nltk_data]    |     /root/nltk_data...\n",
            "[nltk_data]    |   Package twitter_samples is already up-to-date!\n",
            "[nltk_data]    | Downloading package omw to /root/nltk_data...\n",
            "[nltk_data]    |   Package omw is already up-to-date!\n",
            "[nltk_data]    | Downloading package omw-1.4 to /root/nltk_data...\n",
            "[nltk_data]    |   Package omw-1.4 is already up-to-date!\n",
            "[nltk_data]    | Downloading package wordnet to /root/nltk_data...\n",
            "[nltk_data]    |   Package wordnet is already up-to-date!\n",
            "[nltk_data]    | Downloading package wordnet2021 to /root/nltk_data...\n",
            "[nltk_data]    |   Package wordnet2021 is already up-to-date!\n",
            "[nltk_data]    | Downloading package wordnet31 to /root/nltk_data...\n",
            "[nltk_data]    |   Package wordnet31 is already up-to-date!\n",
            "[nltk_data]    | Downloading package wordnet_ic to /root/nltk_data...\n",
            "[nltk_data]    |   Package wordnet_ic is already up-to-date!\n",
            "[nltk_data]    | Downloading package words to /root/nltk_data...\n",
            "[nltk_data]    |   Package words is already up-to-date!\n",
            "[nltk_data]    | Downloading package maxent_ne_chunker to\n",
            "[nltk_data]    |     /root/nltk_data...\n",
            "[nltk_data]    |   Package maxent_ne_chunker is already up-to-date!\n",
            "[nltk_data]    | Downloading package punkt to /root/nltk_data...\n",
            "[nltk_data]    |   Package punkt is already up-to-date!\n",
            "[nltk_data]    | Downloading package snowball_data to\n",
            "[nltk_data]    |     /root/nltk_data...\n",
            "[nltk_data]    |   Package snowball_data is already up-to-date!\n",
            "[nltk_data]    | Downloading package averaged_perceptron_tagger to\n",
            "[nltk_data]    |     /root/nltk_data...\n",
            "[nltk_data]    |   Package averaged_perceptron_tagger is already up-\n",
            "[nltk_data]    |       to-date!\n",
            "[nltk_data]    | \n",
            "[nltk_data]  Done downloading collection popular\n"
          ]
        },
        {
          "output_type": "execute_result",
          "data": {
            "text/plain": [
              "True"
            ]
          },
          "metadata": {},
          "execution_count": 45
        }
      ]
    },
    {
      "cell_type": "code",
      "source": [
        "lem = WordNetLemmatizer()\n",
        "def lemma_wordnet(input):\n",
        "    return [lem.lemmatize(w) for w in input]\n",
        "df['CleanTweet'] = df['CleanTweet'].apply(lemma_wordnet)"
      ],
      "metadata": {
        "id": "OQ-CdtV8ZsEb"
      },
      "execution_count": 46,
      "outputs": []
    },
    {
      "cell_type": "code",
      "source": [
        "display(df['CleanTweet'].head(5))"
      ],
      "metadata": {
        "id": "JB_fnAdqZsJT",
        "colab": {
          "base_uri": "https://localhost:8080/",
          "height": 121
        },
        "outputId": "9d2df260-ae0f-4774-ee60-e9405e60568f"
      },
      "execution_count": 47,
      "outputs": [
        {
          "output_type": "display_data",
          "data": {
            "text/plain": [
              "0       [no, joke, hop, plane, rn, well, covid19, lol]\n",
              "1    [banmediahouse, responsible, spreading, fake, ...\n",
              "2    [waiting, corona, thing, just, april, fool, joke]\n",
              "3    [liar, proven, day, night, time, again, lie, t...\n",
              "4    [new, u, s, covid19, death, toll, reach, death...\n",
              "Name: CleanTweet, dtype: object"
            ]
          },
          "metadata": {}
        }
      ]
    },
    {
      "cell_type": "code",
      "source": [
        "def combine_text(input):\n",
        "    combined = ' '.join(input)\n",
        "    return combined\n",
        "df['CleanTweet'] = df['CleanTweet'].apply(combine_text)\n",
        "df['CleanTweet']"
      ],
      "metadata": {
        "id": "HmZwgLAbcLQH",
        "colab": {
          "base_uri": "https://localhost:8080/"
        },
        "outputId": "1e80275a-08c2-49b3-8f35-45798f0993f3"
      },
      "execution_count": 48,
      "outputs": [
        {
          "output_type": "execute_result",
          "data": {
            "text/plain": [
              "0                   no joke hop plane rn well covid19 lol\n",
              "1       banmediahouse responsible spreading fake commu...\n",
              "2               waiting corona thing just april fool joke\n",
              "3       liar proven day night time again lie truth do ...\n",
              "4       new u s covid19 death toll reach death reporte...\n",
              "                              ...                        \n",
              "4995    life insurance wonder policy paying out corona...\n",
              "4996    cousin passed corona virus today today day ple...\n",
              "4997    guess mother nature really hate u yellowstone ...\n",
              "4998    question day isnt covid19 better banana sandwi...\n",
              "4999    dear corona cancel fucking church camp summer ...\n",
              "Name: CleanTweet, Length: 5000, dtype: object"
            ]
          },
          "metadata": {},
          "execution_count": 48
        }
      ]
    },
    {
      "cell_type": "markdown",
      "source": [
        "More Visualizations on Sentiments"
      ],
      "metadata": {
        "id": "PwMcx4ilh1y6"
      }
    },
    {
      "cell_type": "code",
      "source": [
        "plt.scatter(positive_tweets[\"Polarity\"], positive_tweets[\"Subjectivity\"])\n",
        "\n",
        "plt.title('Sentiment Analysis of Positive Tweets') \n",
        "plt.xlabel('Polarity') \n",
        "plt.ylabel('Subjectivity') \n",
        "plt.show()\n",
        "\n",
        "# Neutral Tweets\n",
        "plt.scatter(neutral_tweets[\"Polarity\"], neutral_tweets[\"Subjectivity\"])\n",
        "\n",
        "plt.title('Sentiment Analysis of Neutral Tweets') \n",
        "plt.xlabel('Polarity') \n",
        "plt.ylabel('Subjectivity') \n",
        "plt.show()\n",
        "\n",
        "# Negative Tweets\n",
        "plt.scatter(negative_tweets[\"Polarity\"], negative_tweets[\"Subjectivity\"])\n",
        "\n",
        "plt.title('Sentiment Analysis of Negative Tweets') \n",
        "plt.xlabel('Polarity') \n",
        "plt.ylabel('Subjectivity')\n",
        "plt.show()"
      ],
      "metadata": {
        "id": "c1XlPu6VTVdU",
        "colab": {
          "base_uri": "https://localhost:8080/",
          "height": 851
        },
        "outputId": "f06f1c19-15ea-4563-a96c-f24ef6909fd8"
      },
      "execution_count": 49,
      "outputs": [
        {
          "output_type": "display_data",
          "data": {
            "text/plain": [
              "<Figure size 432x288 with 1 Axes>"
            ],
            "image/png": "[encoded data removed]"
          },
          "metadata": {
            "needs_background": "light"
          }
        },
        {
          "output_type": "display_data",
          "data": {
            "text/plain": [
              "<Figure size 432x288 with 1 Axes>"
            ],
            "image/png": "[encoded data removed]"
          },
          "metadata": {
            "needs_background": "light"
          }
        },
        {
          "output_type": "display_data",
          "data": {
            "text/plain": [
              "<Figure size 432x288 with 1 Axes>"
            ],
            "image/png": "[encoded data removed]"
          },
          "metadata": {
            "needs_background": "light"
          }
        }
      ]
    },
    {
      "cell_type": "code",
      "source": [
        "print(df[\"Analysis\"].value_counts())\n",
        "print(\"Total:\", df.shape[0])\n",
        "print()\n",
        "\n",
        "print(\"Percentage of positive Tweets:\", (positive_tweets.shape[0] / df.shape[0]))\n",
        "print()\n",
        "\n",
        "print(\"Percentage of neutral Tweets:\", (neutral_tweets.shape[0] / df.shape[0]))\n",
        "print()\n",
        "\n",
        "print(\"Percentage of negative Tweets:\", (negative_tweets.shape[0] / df.shape[0]))"
      ],
      "metadata": {
        "id": "LG-Nw9xVTbfu",
        "colab": {
          "base_uri": "https://localhost:8080/"
        },
        "outputId": "19cac666-61f6-4c79-bae6-76f24c993521"
      },
      "execution_count": 50,
      "outputs": [
        {
          "output_type": "stream",
          "name": "stdout",
          "text": [
            "Neutral     2088\n",
            "Positive    1656\n",
            "Negative    1256\n",
            "Name: Analysis, dtype: int64\n",
            "Total: 5000\n",
            "\n",
            "Percentage of positive Tweets: 0.3312\n",
            "\n",
            "Percentage of neutral Tweets: 0.4176\n",
            "\n",
            "Percentage of negative Tweets: 0.2512\n"
          ]
        }
      ]
    },
    {
      "cell_type": "code",
      "source": [
        "plt.title(\"Sentiment Analysis: Full Dataset\")\n",
        "plt.xlabel(\"Sentiment\")\n",
        "plt.ylabel(\"Number of Tweets\")\n",
        "df[\"Analysis\"].value_counts().plot(kind = \"bar\")\n",
        "plt.show()"
      ],
      "metadata": {
        "id": "0cVx0x2dTgTf",
        "colab": {
          "base_uri": "https://localhost:8080/",
          "height": 330
        },
        "outputId": "08d26e40-caa0-45f9-d666-989916fa9651"
      },
      "execution_count": 51,
      "outputs": [
        {
          "output_type": "display_data",
          "data": {
            "text/plain": [
              "<Figure size 432x288 with 1 Axes>"
            ],
            "image/png": "[encoded data removed]"
          },
          "metadata": {
            "needs_background": "light"
          }
        }
      ]
    },
    {
      "cell_type": "code",
      "source": [
        "plt.title(\"Sentiment Analysis (Percentage): Full Dataset\")\n",
        "plt.xlabel(\"Sentiment\")\n",
        "plt.ylabel(\"Percentage of Total Tweets\")\n",
        "((df[\"Analysis\"].value_counts())/df.shape[0]).plot(kind = \"bar\")\n",
        "plt.show()"
      ],
      "metadata": {
        "id": "8yAykbQ7TnoF",
        "colab": {
          "base_uri": "https://localhost:8080/",
          "height": 330
        },
        "outputId": "58fee39f-e3fd-4618-c3c3-e847aac9ffea"
      },
      "execution_count": 52,
      "outputs": [
        {
          "output_type": "display_data",
          "data": {
            "text/plain": [
              "<Figure size 432x288 with 1 Axes>"
            ],
            "image/png": "[encoded data removed]"
          },
          "metadata": {
            "needs_background": "light"
          }
        }
      ]
    },
    {
      "cell_type": "code",
      "source": [
        "df.head()"
      ],
      "metadata": {
        "id": "XLPc8yCSVHRK",
        "colab": {
          "base_uri": "https://localhost:8080/",
          "height": 337
        },
        "outputId": "89335137-28f8-4633-9feb-a6b36a160d8d"
      },
      "execution_count": 53,
      "outputs": [
        {
          "output_type": "execute_result",
          "data": {
            "text/plain": [
              "   ID                                              Tweet  \\\n",
              "0   1  NO JOKE I WILL HOP ON A PLANE RN! (Well after ...   \n",
              "1   2  BanMediaHouse whose is responsible for spreadi...   \n",
              "2   3  Im waiting for someone to say to me that all t...   \n",
              "3   4  He is a liar. Proven day night. Time again. Li...   \n",
              "4   5  NEW: U.S. CoronaVirus death toll reaches 4,000...   \n",
              "\n",
              "                                          CleanTweet  \\\n",
              "0              no joke hop plane rn well covid19 lol   \n",
              "1  banmediahouse responsible spreading fake commu...   \n",
              "2          waiting corona thing just april fool joke   \n",
              "3  liar proven day night time again lie truth do ...   \n",
              "4  new u s covid19 death toll reach death reporte...   \n",
              "\n",
              "                                       List of words  Polarity  Subjectivity  \\\n",
              "0  [no, joke, hop, plane, rn!, (well, covid19, lol)]  0.800000      0.700000   \n",
              "1  [banmediahouse, responsible, spreading, fake, ... -0.150000      0.775000   \n",
              "2  [waiting, corona, thing, just, april, fools, j...  0.000000      0.000000   \n",
              "3  [liar., proven, day, night., time, again., lie...  0.000000      0.000000   \n",
              "4  [new:, u.s., coronavirus, death, toll, reaches...  0.136364      0.454545   \n",
              "\n",
              "   Analysis  text_length  \n",
              "0  Positive           38  \n",
              "1  Negative           83  \n",
              "2   Neutral           42  \n",
              "3   Neutral           55  \n",
              "4  Positive           98  "
            ],
            "text/html": [
              "\n",
              "  <div id=\"df-4c5c5638-d0dc-4030-b48e-e286c6c85543\">\n",
              "    <div class=\"colab-df-container\">\n",
              "      <div>\n",
              "<style scoped>\n",
              "    .dataframe tbody tr th:only-of-type {\n",
              "        vertical-align: middle;\n",
              "    }\n",
              "\n",
              "    .dataframe tbody tr th {\n",
              "        vertical-align: top;\n",
              "    }\n",
              "\n",
              "    .dataframe thead th {\n",
              "        text-align: right;\n",
              "    }\n",
              "</style>\n",
              "<table border=\"1\" class=\"dataframe\">\n",
              "  <thead>\n",
              "    <tr style=\"text-align: right;\">\n",
              "      <th></th>\n",
              "      <th>ID</th>\n",
              "      <th>Tweet</th>\n",
              "      <th>CleanTweet</th>\n",
              "      <th>List of words</th>\n",
              "      <th>Polarity</th>\n",
              "      <th>Subjectivity</th>\n",
              "      <th>Analysis</th>\n",
              "      <th>text_length</th>\n",
              "    </tr>\n",
              "  </thead>\n",
              "  <tbody>\n",
              "    <tr>\n",
              "      <th>0</th>\n",
              "      <td>1</td>\n",
              "      <td>NO JOKE I WILL HOP ON A PLANE RN! (Well after ...</td>\n",
              "      <td>no joke hop plane rn well covid19 lol</td>\n",
              "      <td>[no, joke, hop, plane, rn!, (well, covid19, lol)]</td>\n",
              "      <td>0.800000</td>\n",
              "      <td>0.700000</td>\n",
              "      <td>Positive</td>\n",
              "      <td>38</td>\n",
              "    </tr>\n",
              "    <tr>\n",
              "      <th>1</th>\n",
              "      <td>2</td>\n",
              "      <td>BanMediaHouse whose is responsible for spreadi...</td>\n",
              "      <td>banmediahouse responsible spreading fake commu...</td>\n",
              "      <td>[banmediahouse, responsible, spreading, fake, ...</td>\n",
              "      <td>-0.150000</td>\n",
              "      <td>0.775000</td>\n",
              "      <td>Negative</td>\n",
              "      <td>83</td>\n",
              "    </tr>\n",
              "    <tr>\n",
              "      <th>2</th>\n",
              "      <td>3</td>\n",
              "      <td>Im waiting for someone to say to me that all t...</td>\n",
              "      <td>waiting corona thing just april fool joke</td>\n",
              "      <td>[waiting, corona, thing, just, april, fools, j...</td>\n",
              "      <td>0.000000</td>\n",
              "      <td>0.000000</td>\n",
              "      <td>Neutral</td>\n",
              "      <td>42</td>\n",
              "    </tr>\n",
              "    <tr>\n",
              "      <th>3</th>\n",
              "      <td>4</td>\n",
              "      <td>He is a liar. Proven day night. Time again. Li...</td>\n",
              "      <td>liar proven day night time again lie truth do ...</td>\n",
              "      <td>[liar., proven, day, night., time, again., lie...</td>\n",
              "      <td>0.000000</td>\n",
              "      <td>0.000000</td>\n",
              "      <td>Neutral</td>\n",
              "      <td>55</td>\n",
              "    </tr>\n",
              "    <tr>\n",
              "      <th>4</th>\n",
              "      <td>5</td>\n",
              "      <td>NEW: U.S. CoronaVirus death toll reaches 4,000...</td>\n",
              "      <td>new u s covid19 death toll reach death reporte...</td>\n",
              "      <td>[new:, u.s., coronavirus, death, toll, reaches...</td>\n",
              "      <td>0.136364</td>\n",
              "      <td>0.454545</td>\n",
              "      <td>Positive</td>\n",
              "      <td>98</td>\n",
              "    </tr>\n",
              "  </tbody>\n",
              "</table>\n",
              "</div>\n",
              "      <button class=\"colab-df-convert\" onclick=\"convertToInteractive('df-4c5c5638-d0dc-4030-b48e-e286c6c85543')\"\n",
              "              title=\"Convert this dataframe to an interactive table.\"\n",
              "              style=\"display:none;\">\n",
              "        \n",
              "  <svg xmlns=\"http://www.w3.org/2000/svg\" height=\"24px\"viewBox=\"0 0 24 24\"\n",
              "       width=\"24px\">\n",
              "    <path d=\"M0 0h24v24H0V0z\" fill=\"none\"/>\n",
              "    <path d=\"M18.56 5.44l.94 2.06.94-2.06 2.06-.94-2.06-.94-.94-2.06-.94 2.06-2.06.94zm-11 1L8.5 8.5l.94-2.06 2.06-.94-2.06-.94L8.5 2.5l-.94 2.06-2.06.94zm10 10l.94 2.06.94-2.06 2.06-.94-2.06-.94-.94-2.06-.94 2.06-2.06.94z\"/><path d=\"M17.41 7.96l-1.37-1.37c-.4-.4-.92-.59-1.43-.59-.52 0-1.04.2-1.43.59L10.3 9.45l-7.72 7.72c-.78.78-.78 2.05 0 2.83L4 21.41c.39.39.9.59 1.41.59.51 0 1.02-.2 1.41-.59l7.78-7.78 2.81-2.81c.8-.78.8-2.07 0-2.86zM5.41 20L4 18.59l7.72-7.72 1.47 1.35L5.41 20z\"/>\n",
              "  </svg>\n",
              "      </button>\n",
              "      \n",
              "  <style>\n",
              "    .colab-df-container {\n",
              "      display:flex;\n",
              "      flex-wrap:wrap;\n",
              "      gap: 12px;\n",
              "    }\n",
              "\n",
              "    .colab-df-convert {\n",
              "      background-color: #E8F0FE;\n",
              "      border: none;\n",
              "      border-radius: 50%;\n",
              "      cursor: pointer;\n",
              "      display: none;\n",
              "      fill: #1967D2;\n",
              "      height: 32px;\n",
              "      padding: 0 0 0 0;\n",
              "      width: 32px;\n",
              "    }\n",
              "\n",
              "    .colab-df-convert:hover {\n",
              "      background-color: #E2EBFA;\n",
              "      box-shadow: 0px 1px 2px rgba(60, 64, 67, 0.3), 0px 1px 3px 1px rgba(60, 64, 67, 0.15);\n",
              "      fill: #174EA6;\n",
              "    }\n",
              "\n",
              "    [theme=dark] .colab-df-convert {\n",
              "      background-color: #3B4455;\n",
              "      fill: #D2E3FC;\n",
              "    }\n",
              "\n",
              "    [theme=dark] .colab-df-convert:hover {\n",
              "      background-color: #434B5C;\n",
              "      box-shadow: 0px 1px 3px 1px rgba(0, 0, 0, 0.15);\n",
              "      filter: drop-shadow(0px 1px 2px rgba(0, 0, 0, 0.3));\n",
              "      fill: #FFFFFF;\n",
              "    }\n",
              "  </style>\n",
              "\n",
              "      <script>\n",
              "        const buttonEl =\n",
              "          document.querySelector('#df-4c5c5638-d0dc-4030-b48e-e286c6c85543 button.colab-df-convert');\n",
              "        buttonEl.style.display =\n",
              "          google.colab.kernel.accessAllowed ? 'block' : 'none';\n",
              "\n",
              "        async function convertToInteractive(key) {\n",
              "          const element = document.querySelector('#df-4c5c5638-d0dc-4030-b48e-e286c6c85543');\n",
              "          const dataTable =\n",
              "            await google.colab.kernel.invokeFunction('convertToInteractive',\n",
              "                                                     [key], {});\n",
              "          if (!dataTable) return;\n",
              "\n",
              "          const docLinkHtml = 'Like what you see? Visit the ' +\n",
              "            '<a target=\"_blank\" href=https://colab.research.google.com/notebooks/data_table.ipynb>data table notebook</a>'\n",
              "            + ' to learn more about interactive tables.';\n",
              "          element.innerHTML = '';\n",
              "          dataTable['output_type'] = 'display_data';\n",
              "          await google.colab.output.renderOutput(dataTable, element);\n",
              "          const docLink = document.createElement('div');\n",
              "          docLink.innerHTML = docLinkHtml;\n",
              "          element.appendChild(docLink);\n",
              "        }\n",
              "      </script>\n",
              "    </div>\n",
              "  </div>\n",
              "  "
            ]
          },
          "metadata": {},
          "execution_count": 53
        }
      ]
    },
    {
      "cell_type": "markdown",
      "source": [
        "Naive Bayes Classification\n"
      ],
      "metadata": {
        "id": "wvY2PsjJUSm4"
      }
    },
    {
      "cell_type": "markdown",
      "source": [
        "Training the model"
      ],
      "metadata": {
        "id": "NsK7W4vQUV02"
      }
    },
    {
      "cell_type": "code",
      "source": [
        "corpus = df.drop(['Subjectivity', 'Polarity','Tweet','ID'],axis = 1)\n",
        "corpus"
      ],
      "metadata": {
        "id": "JDjgpUbcUXsS",
        "colab": {
          "base_uri": "https://localhost:8080/",
          "height": 424
        },
        "outputId": "aed04494-e4af-4e02-f6aa-3b76fd2ee10d"
      },
      "execution_count": 54,
      "outputs": [
        {
          "output_type": "execute_result",
          "data": {
            "text/plain": [
              "                                             CleanTweet  \\\n",
              "0                 no joke hop plane rn well covid19 lol   \n",
              "1     banmediahouse responsible spreading fake commu...   \n",
              "2             waiting corona thing just april fool joke   \n",
              "3     liar proven day night time again lie truth do ...   \n",
              "4     new u s covid19 death toll reach death reporte...   \n",
              "...                                                 ...   \n",
              "4995  life insurance wonder policy paying out corona...   \n",
              "4996  cousin passed corona virus today today day ple...   \n",
              "4997  guess mother nature really hate u yellowstone ...   \n",
              "4998  question day isnt covid19 better banana sandwi...   \n",
              "4999  dear corona cancel fucking church camp summer ...   \n",
              "\n",
              "                                          List of words  Analysis  text_length  \n",
              "0     [no, joke, hop, plane, rn!, (well, covid19, lol)]  Positive           38  \n",
              "1     [banmediahouse, responsible, spreading, fake, ...  Negative           83  \n",
              "2     [waiting, corona, thing, just, april, fools, j...   Neutral           42  \n",
              "3     [liar., proven, day, night., time, again., lie...   Neutral           55  \n",
              "4     [new:, u.s., coronavirus, death, toll, reaches...  Positive           98  \n",
              "...                                                 ...       ...          ...  \n",
              "4995  [life, insurance?, wonder, policies, paying, o...   Neutral           67  \n",
              "4996  [cousin, passed, corona, virus, today., today,...  Positive           89  \n",
              "4997  [guess, mother, nature, really, hates, us., ye...  Positive           56  \n",
              "4998  [question, day, isnt, coronavirus., better, ba...  Positive           73  \n",
              "4999  [dear, corona,, cancel, fucking, church, camp,...  Negative           60  \n",
              "\n",
              "[5000 rows x 4 columns]"
            ],
            "text/html": [
              "\n",
              "  <div id=\"df-bc17d88d-3188-4c04-a7e5-2c1f3c6a9093\">\n",
              "    <div class=\"colab-df-container\">\n",
              "      <div>\n",
              "<style scoped>\n",
              "    .dataframe tbody tr th:only-of-type {\n",
              "        vertical-align: middle;\n",
              "    }\n",
              "\n",
              "    .dataframe tbody tr th {\n",
              "        vertical-align: top;\n",
              "    }\n",
              "\n",
              "    .dataframe thead th {\n",
              "        text-align: right;\n",
              "    }\n",
              "</style>\n",
              "<table border=\"1\" class=\"dataframe\">\n",
              "  <thead>\n",
              "    <tr style=\"text-align: right;\">\n",
              "      <th></th>\n",
              "      <th>CleanTweet</th>\n",
              "      <th>List of words</th>\n",
              "      <th>Analysis</th>\n",
              "      <th>text_length</th>\n",
              "    </tr>\n",
              "  </thead>\n",
              "  <tbody>\n",
              "    <tr>\n",
              "      <th>0</th>\n",
              "      <td>no joke hop plane rn well covid19 lol</td>\n",
              "      <td>[no, joke, hop, plane, rn!, (well, covid19, lol)]</td>\n",
              "      <td>Positive</td>\n",
              "      <td>38</td>\n",
              "    </tr>\n",
              "    <tr>\n",
              "      <th>1</th>\n",
              "      <td>banmediahouse responsible spreading fake commu...</td>\n",
              "      <td>[banmediahouse, responsible, spreading, fake, ...</td>\n",
              "      <td>Negative</td>\n",
              "      <td>83</td>\n",
              "    </tr>\n",
              "    <tr>\n",
              "      <th>2</th>\n",
              "      <td>waiting corona thing just april fool joke</td>\n",
              "      <td>[waiting, corona, thing, just, april, fools, j...</td>\n",
              "      <td>Neutral</td>\n",
              "      <td>42</td>\n",
              "    </tr>\n",
              "    <tr>\n",
              "      <th>3</th>\n",
              "      <td>liar proven day night time again lie truth do ...</td>\n",
              "      <td>[liar., proven, day, night., time, again., lie...</td>\n",
              "      <td>Neutral</td>\n",
              "      <td>55</td>\n",
              "    </tr>\n",
              "    <tr>\n",
              "      <th>4</th>\n",
              "      <td>new u s covid19 death toll reach death reporte...</td>\n",
              "      <td>[new:, u.s., coronavirus, death, toll, reaches...</td>\n",
              "      <td>Positive</td>\n",
              "      <td>98</td>\n",
              "    </tr>\n",
              "    <tr>\n",
              "      <th>...</th>\n",
              "      <td>...</td>\n",
              "      <td>...</td>\n",
              "      <td>...</td>\n",
              "      <td>...</td>\n",
              "    </tr>\n",
              "    <tr>\n",
              "      <th>4995</th>\n",
              "      <td>life insurance wonder policy paying out corona...</td>\n",
              "      <td>[life, insurance?, wonder, policies, paying, o...</td>\n",
              "      <td>Neutral</td>\n",
              "      <td>67</td>\n",
              "    </tr>\n",
              "    <tr>\n",
              "      <th>4996</th>\n",
              "      <td>cousin passed corona virus today today day ple...</td>\n",
              "      <td>[cousin, passed, corona, virus, today., today,...</td>\n",
              "      <td>Positive</td>\n",
              "      <td>89</td>\n",
              "    </tr>\n",
              "    <tr>\n",
              "      <th>4997</th>\n",
              "      <td>guess mother nature really hate u yellowstone ...</td>\n",
              "      <td>[guess, mother, nature, really, hates, us., ye...</td>\n",
              "      <td>Positive</td>\n",
              "      <td>56</td>\n",
              "    </tr>\n",
              "    <tr>\n",
              "      <th>4998</th>\n",
              "      <td>question day isnt covid19 better banana sandwi...</td>\n",
              "      <td>[question, day, isnt, coronavirus., better, ba...</td>\n",
              "      <td>Positive</td>\n",
              "      <td>73</td>\n",
              "    </tr>\n",
              "    <tr>\n",
              "      <th>4999</th>\n",
              "      <td>dear corona cancel fucking church camp summer ...</td>\n",
              "      <td>[dear, corona,, cancel, fucking, church, camp,...</td>\n",
              "      <td>Negative</td>\n",
              "      <td>60</td>\n",
              "    </tr>\n",
              "  </tbody>\n",
              "</table>\n",
              "<p>5000 rows × 4 columns</p>\n",
              "</div>\n",
              "      <button class=\"colab-df-convert\" onclick=\"convertToInteractive('df-bc17d88d-3188-4c04-a7e5-2c1f3c6a9093')\"\n",
              "              title=\"Convert this dataframe to an interactive table.\"\n",
              "              style=\"display:none;\">\n",
              "        \n",
              "  <svg xmlns=\"http://www.w3.org/2000/svg\" height=\"24px\"viewBox=\"0 0 24 24\"\n",
              "       width=\"24px\">\n",
              "    <path d=\"M0 0h24v24H0V0z\" fill=\"none\"/>\n",
              "    <path d=\"M18.56 5.44l.94 2.06.94-2.06 2.06-.94-2.06-.94-.94-2.06-.94 2.06-2.06.94zm-11 1L8.5 8.5l.94-2.06 2.06-.94-2.06-.94L8.5 2.5l-.94 2.06-2.06.94zm10 10l.94 2.06.94-2.06 2.06-.94-2.06-.94-.94-2.06-.94 2.06-2.06.94z\"/><path d=\"M17.41 7.96l-1.37-1.37c-.4-.4-.92-.59-1.43-.59-.52 0-1.04.2-1.43.59L10.3 9.45l-7.72 7.72c-.78.78-.78 2.05 0 2.83L4 21.41c.39.39.9.59 1.41.59.51 0 1.02-.2 1.41-.59l7.78-7.78 2.81-2.81c.8-.78.8-2.07 0-2.86zM5.41 20L4 18.59l7.72-7.72 1.47 1.35L5.41 20z\"/>\n",
              "  </svg>\n",
              "      </button>\n",
              "      \n",
              "  <style>\n",
              "    .colab-df-container {\n",
              "      display:flex;\n",
              "      flex-wrap:wrap;\n",
              "      gap: 12px;\n",
              "    }\n",
              "\n",
              "    .colab-df-convert {\n",
              "      background-color: #E8F0FE;\n",
              "      border: none;\n",
              "      border-radius: 50%;\n",
              "      cursor: pointer;\n",
              "      display: none;\n",
              "      fill: #1967D2;\n",
              "      height: 32px;\n",
              "      padding: 0 0 0 0;\n",
              "      width: 32px;\n",
              "    }\n",
              "\n",
              "    .colab-df-convert:hover {\n",
              "      background-color: #E2EBFA;\n",
              "      box-shadow: 0px 1px 2px rgba(60, 64, 67, 0.3), 0px 1px 3px 1px rgba(60, 64, 67, 0.15);\n",
              "      fill: #174EA6;\n",
              "    }\n",
              "\n",
              "    [theme=dark] .colab-df-convert {\n",
              "      background-color: #3B4455;\n",
              "      fill: #D2E3FC;\n",
              "    }\n",
              "\n",
              "    [theme=dark] .colab-df-convert:hover {\n",
              "      background-color: #434B5C;\n",
              "      box-shadow: 0px 1px 3px 1px rgba(0, 0, 0, 0.15);\n",
              "      filter: drop-shadow(0px 1px 2px rgba(0, 0, 0, 0.3));\n",
              "      fill: #FFFFFF;\n",
              "    }\n",
              "  </style>\n",
              "\n",
              "      <script>\n",
              "        const buttonEl =\n",
              "          document.querySelector('#df-bc17d88d-3188-4c04-a7e5-2c1f3c6a9093 button.colab-df-convert');\n",
              "        buttonEl.style.display =\n",
              "          google.colab.kernel.accessAllowed ? 'block' : 'none';\n",
              "\n",
              "        async function convertToInteractive(key) {\n",
              "          const element = document.querySelector('#df-bc17d88d-3188-4c04-a7e5-2c1f3c6a9093');\n",
              "          const dataTable =\n",
              "            await google.colab.kernel.invokeFunction('convertToInteractive',\n",
              "                                                     [key], {});\n",
              "          if (!dataTable) return;\n",
              "\n",
              "          const docLinkHtml = 'Like what you see? Visit the ' +\n",
              "            '<a target=\"_blank\" href=https://colab.research.google.com/notebooks/data_table.ipynb>data table notebook</a>'\n",
              "            + ' to learn more about interactive tables.';\n",
              "          element.innerHTML = '';\n",
              "          dataTable['output_type'] = 'display_data';\n",
              "          await google.colab.output.renderOutput(dataTable, element);\n",
              "          const docLink = document.createElement('div');\n",
              "          docLink.innerHTML = docLinkHtml;\n",
              "          element.appendChild(docLink);\n",
              "        }\n",
              "      </script>\n",
              "    </div>\n",
              "  </div>\n",
              "  "
            ]
          },
          "metadata": {},
          "execution_count": 54
        }
      ]
    },
    {
      "cell_type": "markdown",
      "source": [
        "Vectorizer"
      ],
      "metadata": {
        "id": "qEUdsVtoceH9"
      }
    },
    {
      "cell_type": "markdown",
      "source": [
        "We do the train/test split before the CountVectorizer to properly simulate the real world where our future data contains words we have not seen before After you train your data and chose the best model, you would then train on all of your data before predicting actual future data to maximize learning.\n",
        "\n",
        "vect.fit(train) learns the vocabulary of the training data\n",
        "vect.transform(train) uses the fitted vocabulary to build a document-term matrix from the training data\n",
        "vect.transform(test) uses the fitted vocabulary to build a document-term matrix from the testing data (and ignores tokens it hasn't seen before)"
      ],
      "metadata": {
        "id": "hoOIl_Elcfq2"
      }
    },
    {
      "cell_type": "code",
      "source": [
        "train, test = train_test_split(corpus, test_size = 0.2)\n",
        "train.shape, test.shape"
      ],
      "metadata": {
        "id": "RkP_xRPCWMqV",
        "colab": {
          "base_uri": "https://localhost:8080/"
        },
        "outputId": "efa1317d-bc08-49ce-d64f-9c90c8296f80"
      },
      "execution_count": 55,
      "outputs": [
        {
          "output_type": "execute_result",
          "data": {
            "text/plain": [
              "((4000, 4), (1000, 4))"
            ]
          },
          "metadata": {},
          "execution_count": 55
        }
      ]
    },
    {
      "cell_type": "code",
      "source": [
        "\n",
        "\n",
        "# Bag of words\n",
        "\n",
        "cv = CountVectorizer()\n",
        "cv.fit(train)\n",
        "X_train_bow = cv.fit_transform(train['CleanTweet']) #X_train\n",
        "X_test_bow = train['Analysis'] #Y_train\n",
        "Y_train_bow = cv.transform(test['CleanTweet']) #X_test\n",
        "Y_test = test['Analysis'] # Y_test\n",
        "\n",
        "# 3.2 TF-IDF\n",
        "\n",
        "vectorizer = TfidfVectorizer(norm = None)\n",
        "vectorizer.fit(train)\n",
        "X_train_tfidf = vectorizer.fit_transform(train['CleanTweet'])\n",
        "X_test_tfidf = train['Analysis'] \n",
        "Y_train_tdidf =vectorizer.transform(test['CleanTweet']) \n",
        "\n",
        "# 3.3 Hashing\n",
        "\n",
        "hv = HashingVectorizer()\n",
        "hv.fit(train)\n",
        "X_train_hash = hv.fit_transform(train['CleanTweet'])\n",
        "X_test_hash = train['Analysis']\n",
        "Y_train_hash = hv.transform(test['CleanTweet']) "
      ],
      "metadata": {
        "id": "gXAOp3WydsKt"
      },
      "execution_count": 56,
      "outputs": []
    },
    {
      "cell_type": "code",
      "source": [
        "display(\"Bow-TF:IDF :\", X_train_bow.shape)\n",
        "df_tfidf = pd.DataFrame(X_train_bow.toarray(), columns=cv.get_feature_names())\n",
        "display(df_tfidf.head())"
      ],
      "metadata": {
        "id": "06AooGjTeWl5",
        "colab": {
          "base_uri": "https://localhost:8080/",
          "height": 326
        },
        "outputId": "42dfbeed-8594-47d0-a97f-e873004b33f6"
      },
      "execution_count": 57,
      "outputs": [
        {
          "output_type": "display_data",
          "data": {
            "text/plain": [
              "'Bow-TF:IDF :'"
            ],
            "application/vnd.google.colaboratory.intrinsic+json": {
              "type": "string"
            }
          },
          "metadata": {}
        },
        {
          "output_type": "display_data",
          "data": {
            "text/plain": [
              "(4000, 7091)"
            ]
          },
          "metadata": {}
        },
        {
          "output_type": "stream",
          "name": "stderr",
          "text": [
            "/usr/local/lib/python3.7/dist-packages/sklearn/utils/deprecation.py:87: FutureWarning: Function get_feature_names is deprecated; get_feature_names is deprecated in 1.0 and will be removed in 1.2. Please use get_feature_names_out instead.\n",
            "  warnings.warn(msg, category=FutureWarning)\n"
          ]
        },
        {
          "output_type": "display_data",
          "data": {
            "text/plain": [
              "   aa  aaaaaa  aaaand  aasarm  aasf  abandoned  abayaas  abc  abeg  abi  ...  \\\n",
              "0   0       0       0       0     0          0        0    0     0    0  ...   \n",
              "1   0       0       0       0     0          0        0    0     0    0  ...   \n",
              "2   0       0       0       0     0          0        0    0     0    0  ...   \n",
              "3   0       0       0       0     0          0        0    0     0    0  ...   \n",
              "4   0       0       0       0     0          0        0    0     0    0  ...   \n",
              "\n",
              "   zerkaahd  zero  zinc  zinger  zombie  zone  zoo  zoom  zoooligist  zumedari  \n",
              "0         0     0     0       0       0     0    0     0           0         0  \n",
              "1         0     0     0       0       0     0    0     0           0         0  \n",
              "2         0     0     0       0       0     0    0     0           0         0  \n",
              "3         0     0     0       0       0     0    0     0           0         0  \n",
              "4         0     0     0       0       0     0    0     0           0         0  \n",
              "\n",
              "[5 rows x 7091 columns]"
            ],
            "text/html": [
              "\n",
              "  <div id=\"df-39773e59-e582-4d33-8fbd-c8bebcfb66e2\">\n",
              "    <div class=\"colab-df-container\">\n",
              "      <div>\n",
              "<style scoped>\n",
              "    .dataframe tbody tr th:only-of-type {\n",
              "        vertical-align: middle;\n",
              "    }\n",
              "\n",
              "    .dataframe tbody tr th {\n",
              "        vertical-align: top;\n",
              "    }\n",
              "\n",
              "    .dataframe thead th {\n",
              "        text-align: right;\n",
              "    }\n",
              "</style>\n",
              "<table border=\"1\" class=\"dataframe\">\n",
              "  <thead>\n",
              "    <tr style=\"text-align: right;\">\n",
              "      <th></th>\n",
              "      <th>aa</th>\n",
              "      <th>aaaaaa</th>\n",
              "      <th>aaaand</th>\n",
              "      <th>aasarm</th>\n",
              "      <th>aasf</th>\n",
              "      <th>abandoned</th>\n",
              "      <th>abayaas</th>\n",
              "      <th>abc</th>\n",
              "      <th>abeg</th>\n",
              "      <th>abi</th>\n",
              "      <th>...</th>\n",
              "      <th>zerkaahd</th>\n",
              "      <th>zero</th>\n",
              "      <th>zinc</th>\n",
              "      <th>zinger</th>\n",
              "      <th>zombie</th>\n",
              "      <th>zone</th>\n",
              "      <th>zoo</th>\n",
              "      <th>zoom</th>\n",
              "      <th>zoooligist</th>\n",
              "      <th>zumedari</th>\n",
              "    </tr>\n",
              "  </thead>\n",
              "  <tbody>\n",
              "    <tr>\n",
              "      <th>0</th>\n",
              "      <td>0</td>\n",
              "      <td>0</td>\n",
              "      <td>0</td>\n",
              "      <td>0</td>\n",
              "      <td>0</td>\n",
              "      <td>0</td>\n",
              "      <td>0</td>\n",
              "      <td>0</td>\n",
              "      <td>0</td>\n",
              "      <td>0</td>\n",
              "      <td>...</td>\n",
              "      <td>0</td>\n",
              "      <td>0</td>\n",
              "      <td>0</td>\n",
              "      <td>0</td>\n",
              "      <td>0</td>\n",
              "      <td>0</td>\n",
              "      <td>0</td>\n",
              "      <td>0</td>\n",
              "      <td>0</td>\n",
              "      <td>0</td>\n",
              "    </tr>\n",
              "    <tr>\n",
              "      <th>1</th>\n",
              "      <td>0</td>\n",
              "      <td>0</td>\n",
              "      <td>0</td>\n",
              "      <td>0</td>\n",
              "      <td>0</td>\n",
              "      <td>0</td>\n",
              "      <td>0</td>\n",
              "      <td>0</td>\n",
              "      <td>0</td>\n",
              "      <td>0</td>\n",
              "      <td>...</td>\n",
              "      <td>0</td>\n",
              "      <td>0</td>\n",
              "      <td>0</td>\n",
              "      <td>0</td>\n",
              "      <td>0</td>\n",
              "      <td>0</td>\n",
              "      <td>0</td>\n",
              "      <td>0</td>\n",
              "      <td>0</td>\n",
              "      <td>0</td>\n",
              "    </tr>\n",
              "    <tr>\n",
              "      <th>2</th>\n",
              "      <td>0</td>\n",
              "      <td>0</td>\n",
              "      <td>0</td>\n",
              "      <td>0</td>\n",
              "      <td>0</td>\n",
              "      <td>0</td>\n",
              "      <td>0</td>\n",
              "      <td>0</td>\n",
              "      <td>0</td>\n",
              "      <td>0</td>\n",
              "      <td>...</td>\n",
              "      <td>0</td>\n",
              "      <td>0</td>\n",
              "      <td>0</td>\n",
              "      <td>0</td>\n",
              "      <td>0</td>\n",
              "      <td>0</td>\n",
              "      <td>0</td>\n",
              "      <td>0</td>\n",
              "      <td>0</td>\n",
              "      <td>0</td>\n",
              "    </tr>\n",
              "    <tr>\n",
              "      <th>3</th>\n",
              "      <td>0</td>\n",
              "      <td>0</td>\n",
              "      <td>0</td>\n",
              "      <td>0</td>\n",
              "      <td>0</td>\n",
              "      <td>0</td>\n",
              "      <td>0</td>\n",
              "      <td>0</td>\n",
              "      <td>0</td>\n",
              "      <td>0</td>\n",
              "      <td>...</td>\n",
              "      <td>0</td>\n",
              "      <td>0</td>\n",
              "      <td>0</td>\n",
              "      <td>0</td>\n",
              "      <td>0</td>\n",
              "      <td>0</td>\n",
              "      <td>0</td>\n",
              "      <td>0</td>\n",
              "      <td>0</td>\n",
              "      <td>0</td>\n",
              "    </tr>\n",
              "    <tr>\n",
              "      <th>4</th>\n",
              "      <td>0</td>\n",
              "      <td>0</td>\n",
              "      <td>0</td>\n",
              "      <td>0</td>\n",
              "      <td>0</td>\n",
              "      <td>0</td>\n",
              "      <td>0</td>\n",
              "      <td>0</td>\n",
              "      <td>0</td>\n",
              "      <td>0</td>\n",
              "      <td>...</td>\n",
              "      <td>0</td>\n",
              "      <td>0</td>\n",
              "      <td>0</td>\n",
              "      <td>0</td>\n",
              "      <td>0</td>\n",
              "      <td>0</td>\n",
              "      <td>0</td>\n",
              "      <td>0</td>\n",
              "      <td>0</td>\n",
              "      <td>0</td>\n",
              "    </tr>\n",
              "  </tbody>\n",
              "</table>\n",
              "<p>5 rows × 7091 columns</p>\n",
              "</div>\n",
              "      <button class=\"colab-df-convert\" onclick=\"convertToInteractive('df-39773e59-e582-4d33-8fbd-c8bebcfb66e2')\"\n",
              "              title=\"Convert this dataframe to an interactive table.\"\n",
              "              style=\"display:none;\">\n",
              "        \n",
              "  <svg xmlns=\"http://www.w3.org/2000/svg\" height=\"24px\"viewBox=\"0 0 24 24\"\n",
              "       width=\"24px\">\n",
              "    <path d=\"M0 0h24v24H0V0z\" fill=\"none\"/>\n",
              "    <path d=\"M18.56 5.44l.94 2.06.94-2.06 2.06-.94-2.06-.94-.94-2.06-.94 2.06-2.06.94zm-11 1L8.5 8.5l.94-2.06 2.06-.94-2.06-.94L8.5 2.5l-.94 2.06-2.06.94zm10 10l.94 2.06.94-2.06 2.06-.94-2.06-.94-.94-2.06-.94 2.06-2.06.94z\"/><path d=\"M17.41 7.96l-1.37-1.37c-.4-.4-.92-.59-1.43-.59-.52 0-1.04.2-1.43.59L10.3 9.45l-7.72 7.72c-.78.78-.78 2.05 0 2.83L4 21.41c.39.39.9.59 1.41.59.51 0 1.02-.2 1.41-.59l7.78-7.78 2.81-2.81c.8-.78.8-2.07 0-2.86zM5.41 20L4 18.59l7.72-7.72 1.47 1.35L5.41 20z\"/>\n",
              "  </svg>\n",
              "      </button>\n",
              "      \n",
              "  <style>\n",
              "    .colab-df-container {\n",
              "      display:flex;\n",
              "      flex-wrap:wrap;\n",
              "      gap: 12px;\n",
              "    }\n",
              "\n",
              "    .colab-df-convert {\n",
              "      background-color: #E8F0FE;\n",
              "      border: none;\n",
              "      border-radius: 50%;\n",
              "      cursor: pointer;\n",
              "      display: none;\n",
              "      fill: #1967D2;\n",
              "      height: 32px;\n",
              "      padding: 0 0 0 0;\n",
              "      width: 32px;\n",
              "    }\n",
              "\n",
              "    .colab-df-convert:hover {\n",
              "      background-color: #E2EBFA;\n",
              "      box-shadow: 0px 1px 2px rgba(60, 64, 67, 0.3), 0px 1px 3px 1px rgba(60, 64, 67, 0.15);\n",
              "      fill: #174EA6;\n",
              "    }\n",
              "\n",
              "    [theme=dark] .colab-df-convert {\n",
              "      background-color: #3B4455;\n",
              "      fill: #D2E3FC;\n",
              "    }\n",
              "\n",
              "    [theme=dark] .colab-df-convert:hover {\n",
              "      background-color: #434B5C;\n",
              "      box-shadow: 0px 1px 3px 1px rgba(0, 0, 0, 0.15);\n",
              "      filter: drop-shadow(0px 1px 2px rgba(0, 0, 0, 0.3));\n",
              "      fill: #FFFFFF;\n",
              "    }\n",
              "  </style>\n",
              "\n",
              "      <script>\n",
              "        const buttonEl =\n",
              "          document.querySelector('#df-39773e59-e582-4d33-8fbd-c8bebcfb66e2 button.colab-df-convert');\n",
              "        buttonEl.style.display =\n",
              "          google.colab.kernel.accessAllowed ? 'block' : 'none';\n",
              "\n",
              "        async function convertToInteractive(key) {\n",
              "          const element = document.querySelector('#df-39773e59-e582-4d33-8fbd-c8bebcfb66e2');\n",
              "          const dataTable =\n",
              "            await google.colab.kernel.invokeFunction('convertToInteractive',\n",
              "                                                     [key], {});\n",
              "          if (!dataTable) return;\n",
              "\n",
              "          const docLinkHtml = 'Like what you see? Visit the ' +\n",
              "            '<a target=\"_blank\" href=https://colab.research.google.com/notebooks/data_table.ipynb>data table notebook</a>'\n",
              "            + ' to learn more about interactive tables.';\n",
              "          element.innerHTML = '';\n",
              "          dataTable['output_type'] = 'display_data';\n",
              "          await google.colab.output.renderOutput(dataTable, element);\n",
              "          const docLink = document.createElement('div');\n",
              "          docLink.innerHTML = docLinkHtml;\n",
              "          element.appendChild(docLink);\n",
              "        }\n",
              "      </script>\n",
              "    </div>\n",
              "  </div>\n",
              "  "
            ]
          },
          "metadata": {}
        }
      ]
    },
    {
      "cell_type": "markdown",
      "source": [
        "Ridge Classifier with Hash¶\n"
      ],
      "metadata": {
        "id": "jsyBlK1pehEK"
      }
    },
    {
      "cell_type": "code",
      "source": [
        "from sklearn.metrics import accuracy_score\n",
        "ridge = linear_model.RidgeClassifier(1.4)\n",
        "ridge.fit(X_train_hash, X_test_hash)\n",
        "test['sentiment_pred'] = ridge.predict(Y_train_hash)\n",
        "y_true = test['Analysis']\n",
        "y_pred = test['sentiment_pred']\n",
        "accuracy_score(y_true, y_pred)\n",
        "from sklearn.metrics import classification_report,confusion_matrix \n",
        "print(classification_report(y_true, y_pred, target_names = ['Negative Tweets','Neutral Tweets', 'Positive Tweets']))"
      ],
      "metadata": {
        "id": "_dFUY-zPegfW",
        "colab": {
          "base_uri": "https://localhost:8080/"
        },
        "outputId": "a0798926-dcb2-47c8-be87-75167b7e3723"
      },
      "execution_count": 58,
      "outputs": [
        {
          "output_type": "stream",
          "name": "stdout",
          "text": [
            "                 precision    recall  f1-score   support\n",
            "\n",
            "Negative Tweets       0.85      0.57      0.68       259\n",
            " Neutral Tweets       0.68      0.96      0.80       391\n",
            "Positive Tweets       0.85      0.67      0.75       350\n",
            "\n",
            "       accuracy                           0.76      1000\n",
            "      macro avg       0.79      0.73      0.74      1000\n",
            "   weighted avg       0.78      0.76      0.75      1000\n",
            "\n"
          ]
        }
      ]
    },
    {
      "cell_type": "markdown",
      "source": [
        "DecisionTreeClassifier¶\n"
      ],
      "metadata": {
        "id": "LtMemCrDe6Zc"
      }
    },
    {
      "cell_type": "code",
      "source": [
        "dtclassifier=DecisionTreeClassifier(criterion=\"entropy\", max_depth=None)\n",
        "dtclassifier.fit(X_train_bow,train['Analysis'])\n",
        "preddt = dtclassifier.predict(Y_train_bow)\n",
        "accuracy= accuracy_score(preddt,Y_test)\n",
        "print(accuracy)\n",
        "print(classification_report(y_true, y_pred, target_names = ['Negative Tweets','Neutral Tweets', 'Positive Tweets']))"
      ],
      "metadata": {
        "id": "dVV0_bIde7md",
        "colab": {
          "base_uri": "https://localhost:8080/"
        },
        "outputId": "cf14b523-3858-40c0-a2a4-c57760f3db36"
      },
      "execution_count": 59,
      "outputs": [
        {
          "output_type": "stream",
          "name": "stdout",
          "text": [
            "0.796\n",
            "                 precision    recall  f1-score   support\n",
            "\n",
            "Negative Tweets       0.85      0.57      0.68       259\n",
            " Neutral Tweets       0.68      0.96      0.80       391\n",
            "Positive Tweets       0.85      0.67      0.75       350\n",
            "\n",
            "       accuracy                           0.76      1000\n",
            "      macro avg       0.79      0.73      0.74      1000\n",
            "   weighted avg       0.78      0.76      0.75      1000\n",
            "\n"
          ]
        }
      ]
    },
    {
      "cell_type": "markdown",
      "source": [
        "SVM¶\n"
      ],
      "metadata": {
        "id": "CxW5TAv-fXsS"
      }
    },
    {
      "cell_type": "code",
      "source": [
        "from sklearn.feature_extraction.text import TfidfVectorizer\n",
        "# Create feature vectors\n",
        "vectorizer = TfidfVectorizer(min_df = 5,\n",
        "                             max_df = 0.8,\n",
        "                             sublinear_tf = True,\n",
        "                             use_idf = True)\n",
        "vectors = vectorizer.fit_transform(df['CleanTweet'])"
      ],
      "metadata": {
        "id": "KcxeMzfse7o6"
      },
      "execution_count": 60,
      "outputs": []
    },
    {
      "cell_type": "code",
      "source": [
        "test_vectors = vectors[4000:]\n",
        "train_vectors = vectors[:4000]"
      ],
      "metadata": {
        "id": "p5hpMDNDfvU0"
      },
      "execution_count": 61,
      "outputs": []
    },
    {
      "cell_type": "code",
      "source": [
        "# Perform classification with SVM, kernel=linear\n",
        "import time\n",
        "from sklearn import svm\n",
        "from sklearn.metrics import classification_report\n",
        "classifier_linear = svm.SVC(kernel='linear')\n",
        "t0 = time.time()\n",
        "classifier_linear.fit(train_vectors, df['Analysis'][:4000])\n",
        "t1 = time.time()\n",
        "prediction_linear = classifier_linear.predict(test_vectors)\n",
        "t2 = time.time()\n",
        "time_linear_train = t1-t0\n",
        "time_linear_predict = t2-t1\n",
        "\n",
        "\n",
        "print(\"Results for SVC(kernel=linear)\")\n",
        "print(\"Training time: %fs; Prediction time: %fs\" % (time_linear_train, time_linear_predict))\n",
        "report = classification_report(df['Analysis'][4000:], prediction_linear, output_dict=True)\n",
        "print('positive: ', report['Positive'])\n",
        "print('negative: ', report['Negative'])\n",
        "print('notr: ', report['Neutral'])\n",
        "print(classification_report(y_true, y_pred, target_names = ['Negative Tweets','Neutral Tweets', 'Positive Tweets']))"
      ],
      "metadata": {
        "id": "nS0IgdSSfrSU",
        "colab": {
          "base_uri": "https://localhost:8080/"
        },
        "outputId": "e1dcfcbd-3a81-4acb-b110-d74033a51688"
      },
      "execution_count": 62,
      "outputs": [
        {
          "output_type": "stream",
          "name": "stdout",
          "text": [
            "Results for SVC(kernel=linear)\n",
            "Training time: 2.640124s; Prediction time: 0.325416s\n",
            "positive:  {'precision': 0.8846153846153846, 'recall': 0.8070175438596491, 'f1-score': 0.8440366972477065, 'support': 342}\n",
            "negative:  {'precision': 0.8578947368421053, 'recall': 0.659919028340081, 'f1-score': 0.745995423340961, 'support': 247}\n",
            "notr:  {'precision': 0.7931726907630522, 'recall': 0.9610705596107056, 'f1-score': 0.869086908690869, 'support': 411}\n",
            "                 precision    recall  f1-score   support\n",
            "\n",
            "Negative Tweets       0.85      0.57      0.68       259\n",
            " Neutral Tweets       0.68      0.96      0.80       391\n",
            "Positive Tweets       0.85      0.67      0.75       350\n",
            "\n",
            "       accuracy                           0.76      1000\n",
            "      macro avg       0.79      0.73      0.74      1000\n",
            "   weighted avg       0.78      0.76      0.75      1000\n",
            "\n"
          ]
        }
      ]
    },
    {
      "cell_type": "markdown",
      "source": [
        "Logistic Regression¶\n"
      ],
      "metadata": {
        "id": "dP4tng94gI5h"
      }
    },
    {
      "cell_type": "code",
      "source": [
        "from sklearn.linear_model import LogisticRegression\n",
        "log_reg = LogisticRegression(solver='lbfgs', multi_class=\"ovr\")\n",
        "log_reg.fit(X_train_hash, X_test_hash)"
      ],
      "metadata": {
        "id": "gQ29JYsagKET",
        "colab": {
          "base_uri": "https://localhost:8080/"
        },
        "outputId": "92bc87c9-9401-4031-d4db-6d1d0c5578ac"
      },
      "execution_count": 63,
      "outputs": [
        {
          "output_type": "execute_result",
          "data": {
            "text/plain": [
              "LogisticRegression(multi_class='ovr')"
            ]
          },
          "metadata": {},
          "execution_count": 63
        }
      ]
    },
    {
      "cell_type": "code",
      "source": [
        "train_accuracy = log_reg.score(X_train_hash, X_test_hash)\n",
        "test_accuracy = log_reg.score(Y_train_hash, Y_test)\n",
        "\n",
        "print( \n",
        "      'Accuracy on Train Data : {:.2f}'.format(train_accuracy), \n",
        "      'Accuracy on Test Data  : {:.2f}'.format(test_accuracy), sep='\\n')\n",
        "print(classification_report(y_true, y_pred, target_names = ['Negative Tweets','Neutral Tweets', 'Positive Tweets']))"
      ],
      "metadata": {
        "id": "dKDDoI8bgM_i",
        "colab": {
          "base_uri": "https://localhost:8080/"
        },
        "outputId": "96a61c87-7959-4a5c-c17e-1dcb5b6bb917"
      },
      "execution_count": 64,
      "outputs": [
        {
          "output_type": "stream",
          "name": "stdout",
          "text": [
            "Accuracy on Train Data : 0.83\n",
            "Accuracy on Test Data  : 0.71\n",
            "                 precision    recall  f1-score   support\n",
            "\n",
            "Negative Tweets       0.85      0.57      0.68       259\n",
            " Neutral Tweets       0.68      0.96      0.80       391\n",
            "Positive Tweets       0.85      0.67      0.75       350\n",
            "\n",
            "       accuracy                           0.76      1000\n",
            "      macro avg       0.79      0.73      0.74      1000\n",
            "   weighted avg       0.78      0.76      0.75      1000\n",
            "\n"
          ]
        }
      ]
    }
  ],
  "metadata": {
    "colab": {
      "collapsed_sections": [],
      "name": "Text_minning_project_Final_Colab-2ndtry.ipynb",
      "provenance": []
    },
    "kernelspec": {
      "display_name": "Python 3",
      "language": "python",
      "name": "python3"
    },
    "language_info": {
      "codemirror_mode": {
        "name": "ipython",
        "version": 3
      },
      "file_extension": ".py",
      "mimetype": "text/x-python",
      "name": "python",
      "nbconvert_exporter": "python",
      "pygments_lexer": "ipython3",
      "version": "3.8.3"
    }
  },
  "nbformat": 4,
  "nbformat_minor": 0
}